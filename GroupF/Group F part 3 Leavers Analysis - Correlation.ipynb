{
 "cells": [
  {
   "cell_type": "markdown",
   "metadata": {},
   "source": [
    "Please don’t worry about spending hours making it very tidy and well commented as long as the input data is one of the following:\n",
    "\n",
    "- The original data files Leanne provided us with\n",
    "- The csv I created with co-ordinates of each station\n",
    "- Any publicly available data (but just note the link rather than attaching the csv)"
   ]
  },
  {
   "cell_type": "code",
   "execution_count": null,
   "metadata": {},
   "outputs": [],
   "source": [
    "%matplotlib inline\n",
    "\n",
    "import matplotlib.pyplot as plt\n",
    "import numpy as np\n",
    "import pandas as pd\n",
    "import scipy as sp\n",
    "\n",
    "import scipy.stats as sps"
   ]
  },
  {
   "cell_type": "code",
   "execution_count": null,
   "metadata": {},
   "outputs": [],
   "source": [
    "#Input data\n",
    "df_leavers = pd.read_csv('LAS_Leavers_070319.csv') #original leavers data from LAS\n",
    "postcode = pd.read_csv('org_L8_postcodes.csv') #postcode data\n",
    "latlong = pd.read_csv('station_pc_latlong.csv') #station coord data from Liam on L7 level\n",
    "staff_in_tfl = pd.read_csv('staffFinal_v4.csv') #current staff data with their travel duration from Rachel\n",
    "df_leavers_1 = pd.read_csv(\"LEAVERS_WITH_STATION3.csv\") #leavers data with coord data from Liam on L8 level, but duplicated records"
   ]
  },
  {
   "cell_type": "code",
   "execution_count": null,
   "metadata": {},
   "outputs": [],
   "source": [
    "##A. Correlation with travel duration\n",
    "\n",
    "#Merge postcode and L8 data\n",
    "df_leavers_1_SEC = df_leavers_1[(df_leavers_1['Org L5'] == '308 SEC Sector Operations L5')]\n",
    "df_leavers_1_SEC = df_leavers_1_SEC.drop_duplicates()\n",
    "SEC_postcodes = df_leavers_1_SEC[['Org L8','WorkLocation','PostcodeWork']].drop_duplicates()"
   ]
  },
  {
   "cell_type": "code",
   "execution_count": null,
   "metadata": {},
   "outputs": [],
   "source": [
    "SEC_postcodes.columns = ['Org L8', 'WorkLocation','Postcode']\n",
    "SEC_postcodes = pd.merge(SEC_postcodes, latlong, on='Postcode').drop_duplicates()\n",
    "SEC_postcodes = SEC_postcodes[['Org L8', 'Latitude', 'Longitude']]\n",
    "SEC_postcodes = SEC_postcodes.groupby('Org L8').mean() #Take the centroid of different stations within the same L8 Department\n",
    "SEC_postcodes.head()"
   ]
  },
  {
   "cell_type": "code",
   "execution_count": null,
   "metadata": {},
   "outputs": [],
   "source": [
    "#Put the centroid LatLong to the original leavers data\n",
    "leavers_SEC_loc = pd.merge(df_leavers, SEC_postcodes, on='Org L8').drop_duplicates()\n",
    "leavers_SEC_loc.head()"
   ]
  },
  {
   "cell_type": "code",
   "execution_count": null,
   "metadata": {},
   "outputs": [],
   "source": [
    "#Get the mean travel duration of current staff per each L8 department from Rachel's data\n",
    "staff_in_tfl = staff_in_tfl.dropna()\n",
    "staff_in_tfl_SEC = staff_in_tfl[(staff_in_tfl['Directorate'] == '308 SEC Sector Operations L5')]\n",
    "mean = staff_in_tfl_SEC.groupby(['Department'],as_index=False).agg({\"travelDuration\": \"mean\"})\n",
    "mean.columns = ('Org L8','meanTravelDuration')"
   ]
  },
  {
   "cell_type": "code",
   "execution_count": null,
   "metadata": {},
   "outputs": [],
   "source": [
    "#Get the turnover rate per each L8 department in 2018\n",
    "#Turnover rate = number of leavers in 2018/ number of current staff from current staff data\n",
    "\n",
    "#Get the date format for each records\n",
    "leavers_SEC_loc['Start Data'] = pd.to_datetime(leavers_SEC_loc['Employee Latest Start Date'])\n",
    "leavers_SEC_loc['Start Month'] = leavers_SEC_loc['Start Data'].map(lambda x: x.month)\n",
    "leavers_SEC_loc['Start Year'] = leavers_SEC_loc['Start Data'].map(lambda x: x.year)\n",
    "\n",
    "leavers_SEC_loc['Termination Date'] = pd.to_datetime(leavers_SEC_loc['Termination Date'])\n",
    "leavers_SEC_loc['Termination Month'] = leavers_SEC_loc['Termination Date'].map(lambda x: x.month)\n",
    "leavers_SEC_loc['Termination Year'] = leavers_SEC_loc['Termination Date'].map(lambda x: x.year)\n",
    "\n",
    "leavers_SEC_loc['Notified Date'] = pd.to_datetime(leavers_SEC_loc['Notified Date'])\n",
    "leavers_SEC_loc['Notified Month'] = leavers_SEC_loc['Notified Date'].map(lambda x: x.month)\n",
    "leavers_SEC_loc['Notified Year'] = leavers_SEC_loc['Notified Date'].map(lambda x: x.year)"
   ]
  },
  {
   "cell_type": "code",
   "execution_count": null,
   "metadata": {},
   "outputs": [],
   "source": [
    "#Get number of leavers in 2018\n",
    "leavers_SEC_count_2018 = leavers_SEC_loc[leavers_SEC_loc['Termination Year'] == 2018]\n",
    "leavers_SEC_count_2018 = leavers_SEC_count_2018[['Org L8', 'Longitude', 'Latitude']]\n",
    "leavers_SEC_count_2018['leavers_count'] = (leavers_SEC_count_2018.groupby(['Longitude', 'Latitude'])['Org L8'].transform('count'))\n",
    "leavers_SEC_count_2018 = leavers_SEC_count_2018.drop_duplicates()\n",
    "\n",
    "leavers_SEC_count_2018.head()"
   ]
  },
  {
   "cell_type": "code",
   "execution_count": null,
   "metadata": {},
   "outputs": [],
   "source": [
    "#Get number of current staff\n",
    "staff_in_sec = staff_in_tfl_SEC.groupby(['Department'],as_index=False).agg({\"IDnumber\": \"count\"})\n",
    "staff_in_sec.columns = ('Org L8','InStaff')"
   ]
  },
  {
   "cell_type": "code",
   "execution_count": null,
   "metadata": {},
   "outputs": [],
   "source": [
    "#Get turnover rate\n",
    "turnover = pd.merge(leavers_SEC_count_2018, staff_in_sec, on = 'Org L8')\n",
    "turnover['rates'] = turnover['leavers_count']/turnover['InStaff']\n",
    "turnover.head()"
   ]
  },
  {
   "cell_type": "code",
   "execution_count": null,
   "metadata": {},
   "outputs": [],
   "source": [
    "#Merge table of turnover rate with mean travel duration\n",
    "turnover = pd.merge(turnover, mean, on = 'Org L8')"
   ]
  },
  {
   "cell_type": "code",
   "execution_count": null,
   "metadata": {},
   "outputs": [],
   "source": [
    "turnover.head()"
   ]
  },
  {
   "cell_type": "code",
   "execution_count": null,
   "metadata": {},
   "outputs": [],
   "source": [
    "#Creating scatter plot of turnover rate and mean travel duration\n",
    "x = turnover['meanTravelDuration']\n",
    "y = turnover['rates']\n",
    "\n",
    "# This line creates the figure. \n",
    "plt.figure(figsize=(7,7))\n",
    "plt.xlabel(\"Mean Travel Duration\", fontsize=\"16\")\n",
    "plt.ylabel(\"Turnover Rates\", fontsize=\"16\")\n",
    "plt.plot(x,y,'b.')\n",
    "plt.tick_params(labelsize = \"14\")\n",
    "plt.title(\"Turnover Rates of SEC department\\n & Mean Travel Duration\", fontsize=\"20\")"
   ]
  },
  {
   "cell_type": "code",
   "execution_count": null,
   "metadata": {},
   "outputs": [],
   "source": [
    "#Get correlation value of turnover rates and mean travel duration\n",
    "turnover['meanTravelDuration'].corr(turnover['rates'])"
   ]
  },
  {
   "cell_type": "code",
   "execution_count": null,
   "metadata": {},
   "outputs": [],
   "source": [
    "##B. Correlation with workload\n",
    "\n",
    "#Load incidents data\n",
    "incident1 = pd.read_csv('Incidents/incidentsQ1.csv')\n",
    "incident2 = pd.read_csv('Incidents/incidentsQ2.csv')\n",
    "incident3 = pd.read_csv('Incidents/incidentsQ3.csv')\n",
    "incident4 = pd.read_csv('Incidents/incidentsQ4.csv')\n",
    "\n",
    "incident1 = pd.concat([incident1, incident2, incident3, incident4], ignore_index=True)\n",
    "incident1 = incident1[['callstart','borough','ccgname','ccgcluster','lsoa','wardname','wardID']]\n",
    "incident1['time'] = pd.to_datetime(incident1['callstart'])\n",
    "incident1['time_Month'] = incident1['time'].map(lambda x: x.month)\n",
    "incident1['time_Year'] = incident1['time'].map(lambda x: x.year)\n",
    "\n",
    "incident1 = incident1[(incident1['time_Year'] == 2018)] #only take incident data in 2018\n",
    "\n",
    "incident1.head()"
   ]
  },
  {
   "cell_type": "code",
   "execution_count": null,
   "metadata": {},
   "outputs": [],
   "source": [
    "#Get the average number of incidents per borough per month\n",
    "incident_borough = incident1.groupby(['borough','time_Month'],as_index=False).agg({\"callstart\": \"count\"})\n",
    "incident_borough = incident_borough.groupby(['borough'],as_index=False).agg({\"callstart\": \"mean\"})\n",
    "\n",
    "incident_borough.head()"
   ]
  },
  {
   "cell_type": "code",
   "execution_count": null,
   "metadata": {},
   "outputs": [],
   "source": [
    "incident1['borough'].value_counts().plot(kind='bar')"
   ]
  },
  {
   "cell_type": "code",
   "execution_count": null,
   "metadata": {},
   "outputs": [],
   "source": [
    "incident_borough.to_csv('incidents2018_borough_mean.csv') #export to scv to visualize in tableau"
   ]
  }
 ],
 "metadata": {
  "kernelspec": {
   "display_name": "Python 3",
   "language": "python",
   "name": "python3"
  },
  "language_info": {
   "codemirror_mode": {
    "name": "ipython",
    "version": 3
   },
   "file_extension": ".py",
   "mimetype": "text/x-python",
   "name": "python",
   "nbconvert_exporter": "python",
   "pygments_lexer": "ipython3",
   "version": "3.6.5"
  }
 },
 "nbformat": 4,
 "nbformat_minor": 2
}
