{
 "cells": [
  {
   "cell_type": "code",
   "execution_count": null,
   "metadata": {},
   "outputs": [],
   "source": [
    "import pandas as pd\n",
    "import requests\n",
    "from pprint import pprint\n",
    "import matplotlib.pyplot as plt\n",
    "import numpy as np\n",
    "\n",
    "%pylab inline"
   ]
  },
  {
   "cell_type": "code",
   "execution_count": null,
   "metadata": {},
   "outputs": [],
   "source": [
    "tfl_key = <API KEY HERE>\n",
    "tfl_url  = \"https://api.tfl.gov.uk/\" # base URL\n",
    "tflpayload = {'key': tfl_key} # Dictionary to hold request parameters"
   ]
  },
  {
   "cell_type": "code",
   "execution_count": null,
   "metadata": {},
   "outputs": [],
   "source": [
    "# startloc is string of latlong coordinates of postcode sector centroid\n",
    "# endloc is string of latlong cordinates of hospital\n",
    "\n",
    "requrl = \"/Journey/JourneyResults/\" + startloc + \"/to/\" + endloc\n",
    "getreq = requests.get(tfl_url + requrl) # Do the request\n",
    "jp = getreq.json()\n",
    "\n",
    "# json path to travel duration:\n",
    "jp['journeys'][0]['duration']\n",
    "\n",
    "# json path to travel fare:\n",
    "jp['journeys'][0]['fare']['totalCost']"
   ]
  },
  {
   "cell_type": "code",
   "execution_count": null,
   "metadata": {},
   "outputs": [],
   "source": [
    "def travelDuration(tfl_key, startloc, endloc, df, iRange):\n",
    "    requrl = \"/Journey/JourneyResults/\" + startloc + \"/to/\" + endloc\n",
    "    tfl_url  = \"https://api.tfl.gov.uk/\"\n",
    "    tflpayload = {'key': tfl_key}\n",
    "    \n",
    "    for i in iRange:\n",
    "        getreq = requests.get(tfl_url + requrl) # Do the request\n",
    "        jp = getreq.json()\n",
    "        try:\n",
    "            df['travelDuration'][i] = jp['journeys'][0]['duration']\n",
    "        except:\n",
    "            pass"
   ]
  },
  {
   "cell_type": "code",
   "execution_count": null,
   "metadata": {},
   "outputs": [],
   "source": [
    "staffInPost = pd.read_csv(\"CUSP London Data Dive 2019/data/Workforce Data/LAS_Staff_in_Post_070319.csv\")"
   ]
  },
  {
   "cell_type": "code",
   "execution_count": null,
   "metadata": {},
   "outputs": [],
   "source": [
    "staffInPost.columns"
   ]
  },
  {
   "cell_type": "markdown",
   "metadata": {},
   "source": [
    "## Summary Statistics"
   ]
  },
  {
   "cell_type": "code",
   "execution_count": null,
   "metadata": {},
   "outputs": [],
   "source": [
    "print(\"Number of Males: %i\" %len(staffInPost[staffInPost.Gender == 'Male']))\n",
    "print(\"Number of Females: %i\" %len(staffInPost[staffInPost.Gender == 'Female']))\n",
    "print(\"Total Number of Employees: %i\" %len(staffInPost))"
   ]
  },
  {
   "cell_type": "code",
   "execution_count": null,
   "metadata": {},
   "outputs": [],
   "source": [
    "staffInPost[\"LengthOfService(YearsFloat)\"] = staffInPost[\"LengthOfService(Years)\"] + staffInPost[\"LengthOfService(Months)\"]/12"
   ]
  },
  {
   "cell_type": "code",
   "execution_count": null,
   "metadata": {},
   "outputs": [],
   "source": [
    "staffInPost.columns"
   ]
  },
  {
   "cell_type": "code",
   "execution_count": null,
   "metadata": {},
   "outputs": [],
   "source": [
    "for ageBand in sorted(staffInPost[\"AgeBand\"].unique()):\n",
    "    print(\"Percentage of employees \" + ageBand + \" : %f\" %(len(staffInPost[staffInPost[\"AgeBand\"] == ageBand])/len(staffInPost)))"
   ]
  },
  {
   "cell_type": "code",
   "execution_count": null,
   "metadata": {},
   "outputs": [],
   "source": [
    "plt.figure(figsize=(12,8))\n",
    "plt.hist(staffInPost['ContractHours'], bins=30)\n",
    "plt.xlabel(\"Contract Hours / Week\")\n",
    "plt.ylabel(\"Counts\")\n",
    "plt.title(\"Histogram\")"
   ]
  },
  {
   "cell_type": "markdown",
   "metadata": {},
   "source": [
    "### Investigating start months as a factor for leaving:"
   ]
  },
  {
   "cell_type": "code",
   "execution_count": null,
   "metadata": {},
   "outputs": [],
   "source": [
    "staffInPost['LatestStartDate'] = pd.to_datetime(staffInPost['LatestStartDate'], infer_datetime_format=True)"
   ]
  },
  {
   "cell_type": "code",
   "execution_count": null,
   "metadata": {},
   "outputs": [],
   "source": [
    "staffInPost['StartMonth'] = staffInPost['LatestStartDate'].dt.month"
   ]
  },
  {
   "cell_type": "code",
   "execution_count": null,
   "metadata": {},
   "outputs": [],
   "source": [
    "fig = plt.figure(figsize=(15,15))\n",
    "fig.add_subplot(221)\n",
    "plt.hist(staffInPost['StartMonth'], bins=30)\n",
    "plt.xlabel(\"Starting Months\")\n",
    "plt.ylabel(\"Counts\")\n",
    "plt.title(\"All\")\n",
    "\n",
    "fig.add_subplot(222)\n",
    "moreThan5 = staffInPost[staffInPost['LengthOfService(YearsFloat)'] > 5]\n",
    "plt.hist(moreThan5['StartMonth'], bins=30)\n",
    "plt.xlabel(\"Starting Months\")\n",
    "plt.ylabel(\"Counts\")\n",
    "plt.title(\"More than 5 Years\")\n",
    "\n",
    "fig.add_subplot(223)\n",
    "moreThan10 = staffInPost[staffInPost['LengthOfService(YearsFloat)'] > 10]\n",
    "plt.hist(moreThan10['StartMonth'], bins=30)\n",
    "plt.xlabel(\"Starting Months\")\n",
    "plt.ylabel(\"Counts\")\n",
    "plt.title(\"More than 10 Years\")\n",
    "\n",
    "fig.add_subplot(224)\n",
    "moreThan15 = staffInPost[staffInPost['LengthOfService(YearsFloat)'] > 15]\n",
    "plt.hist(moreThan15['StartMonth'], bins=30)\n",
    "plt.xlabel(\"Starting Months\")\n",
    "plt.ylabel(\"Counts\")\n",
    "plt.title(\"More than 15 Years\")"
   ]
  },
  {
   "cell_type": "code",
   "execution_count": null,
   "metadata": {},
   "outputs": [],
   "source": [
    "for category in staffInPost['EmployeeCategory'].unique():\n",
    "    print(category + \": %i\" %len(staffInPost[staffInPost['EmployeeCategory'] == category]))"
   ]
  },
  {
   "cell_type": "code",
   "execution_count": null,
   "metadata": {},
   "outputs": [],
   "source": [
    "fig = plt.figure(figsize=(12,13))\n",
    "\n",
    "fig.add_subplot(211)\n",
    "ax = plt.subplot(211)\n",
    "plt.xticks(fontsize=12)\n",
    "plt.yticks(fontsize=12)\n",
    "fullTime = staffInPost[staffInPost['EmployeeCategory'] == 'Full Time']\n",
    "ax.hist(fullTime['LengthOfService(YearsFloat)'], bins=45, color=\"#3F5D7D\")\n",
    "ax.set_xlabel(\"Length of Service (Years)\", fontsize=14)\n",
    "ax.set_ylabel(\"Number of Staff\", fontsize=14)\n",
    "ax.set_title(\"Full Time Staff\", fontsize=16)\n",
    "ax.spines[\"top\"].set_visible(False)  \n",
    "ax.spines[\"right\"].set_visible(False)  \n",
    "\n",
    "fig.add_subplot(212)\n",
    "ax = plt.subplot(212)\n",
    "plt.subplots_adjust(hspace=0.3)\n",
    "plt.xticks(fontsize=12)  \n",
    "plt.yticks(fontsize=12)\n",
    "partTime = staffInPost[staffInPost['EmployeeCategory'] == 'Part Time']\n",
    "ax.hist(partTime['LengthOfService(YearsFloat)'], bins=40, color=\"#3F5D7D\")\n",
    "ax.set_xlabel(\"Length of Service (Years)\", fontsize=14)\n",
    "ax.set_ylabel(\"Number of Staff\", fontsize=14)\n",
    "ax.set_title(\"Part Time Staff\", fontsize=16)\n",
    "ax.spines[\"top\"].set_visible(False)  \n",
    "ax.spines[\"right\"].set_visible(False)"
   ]
  },
  {
   "cell_type": "code",
   "execution_count": null,
   "metadata": {},
   "outputs": [],
   "source": [
    "serviceLocations = pd.read_csv(\"CUSP London Data Dive 2019/data/Workforce Data/workplace location table.csv\")\n",
    "serviceLocations.columns"
   ]
  },
  {
   "cell_type": "code",
   "execution_count": null,
   "metadata": {},
   "outputs": [],
   "source": [
    "staffWorkLocations = pd.merge(left=staffInPost, right=serviceLocations, left_on='Location', right_on='esrLocationFull')\n",
    "staffWorkLocations.columns"
   ]
  },
  {
   "cell_type": "code",
   "execution_count": null,
   "metadata": {},
   "outputs": [],
   "source": [
    "leavers = pd.read_csv(\"CUSP London Data Dive 2019/data/Workforce Data/LAS_Leavers_070319.csv\")\n",
    "leavers.columns"
   ]
  },
  {
   "cell_type": "code",
   "execution_count": null,
   "metadata": {},
   "outputs": [],
   "source": [
    "# reading in csv file Liam created that contains coords of postcode sector centroids:\n",
    "\n",
    "pcSectorCentroids = pd.read_csv('co-ords4.csv')\n",
    "pcSectorCentroids.rename(columns={'name': 'PostcodeSector'}, inplace=True)\n",
    "pcSectorCentroids.drop(labels='Unnamed: 0', axis=1, inplace=True)\n",
    "pcSectorCentroids.head()"
   ]
  },
  {
   "cell_type": "code",
   "execution_count": null,
   "metadata": {},
   "outputs": [],
   "source": [
    "staffLocations = staffWorkLocations.merge(pcSectorCentroids, how='outer', on='PostcodeSector')"
   ]
  },
  {
   "cell_type": "code",
   "execution_count": null,
   "metadata": {},
   "outputs": [],
   "source": [
    "len(staffLocations[staffLocations['centroids_str'].isnull()]['PostcodeSector'].unique())"
   ]
  },
  {
   "cell_type": "code",
   "execution_count": null,
   "metadata": {},
   "outputs": [],
   "source": [
    "staffLocations[staffLocations['centroids_str'].isnull()]['PostcodeSector'].unique()"
   ]
  },
  {
   "cell_type": "code",
   "execution_count": null,
   "metadata": {},
   "outputs": [],
   "source": [
    "# drop FALSE, W17 2, N39T 6, BT postcodes and manually insert other coordinates:\n",
    "\n",
    "staffLocations[staffLocations['PostcodeSector'] == 'SW11 7']['centroids_str'] = '51.49177,-0.1370286'\n",
    "staffLocations[staffLocations['PostcodeSector'] == 'SW11 8']['centroids_str'] = '51.5047865,-0.1541728'\n",
    "staffLocations[staffLocations['PostcodeSector'] == 'KT14 3']['centroids_str'] = '51.3418376,-0.4998108'\n",
    "staffLocations[staffLocations['PostcodeSector'] == 'CM6 4']['centroids_str'] = '51.8593837,0.1529848'\n",
    "staffLocations[staffLocations['PostcodeSector'] == 'WD18 O']['centroids_str'] = '51.6426322,-0.4480033'\n",
    "staffLocations[staffLocations['PostcodeSector'] == 'W6 2']['centroids_str'] = '51.4976485,-0.2581849'\n",
    "staffLocations[staffLocations['PostcodeSector'] == 'NW9 4']['centroids_str'] = '51.5835152,-0.2870196'\n",
    "staffLocations[staffLocations['PostcodeSector'] == 'TN24 2']['centroids_str'] = '51.148175,0.8501124'\n",
    "staffLocations[staffLocations['PostcodeSector'] == 'DA11 O']['centroids_str'] = '51.4504867,0.3502812'\n",
    "\n",
    "staffLocations = staffLocations[staffLocations['PostcodeSector'] != 'FALS E']\n",
    "staffLocations = staffLocations[staffLocations['PostcodeSector'] != 'W17 2']\n",
    "staffLocations = staffLocations[staffLocations['PostcodeSector'] != 'N39T 6']\n",
    "staffLocations = staffLocations[staffLocations['PostcodeSector'] != 'BT31 9']\n",
    "staffLocations = staffLocations[staffLocations['PostcodeSector'] != 'BT20 4']"
   ]
  },
  {
   "cell_type": "code",
   "execution_count": null,
   "metadata": {},
   "outputs": [],
   "source": [
    "# reading in csv file Liam created that contains coords of service locations:\n",
    "\n",
    "stationCoords = pd.read_csv('station_pc_latlong.csv')\n",
    "stationCoords.rename(columns={'Lat,long': 'WorkLatLon', 'Postcode': 'postcode'}, inplace=True)\n",
    "labels=['Latitude', 'Longitude']\n",
    "stationCoords.drop(labels=labels, axis=1, inplace=True)\n",
    "stationCoords.head()"
   ]
  },
  {
   "cell_type": "code",
   "execution_count": null,
   "metadata": {},
   "outputs": [],
   "source": [
    "stationCoords['postcode'] = stationCoords['postcode'].astype(str)\n",
    "staffLocations['postcode'] = staffLocations['postcode'].astype(str)"
   ]
  },
  {
   "cell_type": "code",
   "execution_count": null,
   "metadata": {},
   "outputs": [],
   "source": [
    "stationCoords.drop_duplicates('postcode', keep='first', inplace=True)"
   ]
  },
  {
   "cell_type": "code",
   "execution_count": null,
   "metadata": {},
   "outputs": [],
   "source": [
    "staffFinal = staffLocations.merge(right=stationCoords, how='inner', on='postcode')\n",
    "len(staffFinal)"
   ]
  },
  {
   "cell_type": "code",
   "execution_count": null,
   "metadata": {},
   "outputs": [],
   "source": [
    "staffFinal.rename(columns={'location': 'WorkLocation', 'locationaddress': 'WorkAddress', 'postcode': 'WorkPostcode',\n",
    "                              'esrLocationFull': 'WorkLocationFull', 'centroids_str': 'ResLatLon'}, inplace=True)"
   ]
  },
  {
   "cell_type": "code",
   "execution_count": null,
   "metadata": {},
   "outputs": [],
   "source": [
    "staffFinal['travelDuration'] = ''"
   ]
  },
  {
   "cell_type": "code",
   "execution_count": null,
   "metadata": {},
   "outputs": [],
   "source": [
    "# extracting duration from api\n",
    "for i in range(0, 5712):\n",
    "    startloc = staffFinal['ResLatLon'][i]\n",
    "    endloc = staffFinal['WorkLatLon'][i]\n",
    "    requrl = \"https://api.tfl.gov.uk/Journey/JourneyResults/\" + str(startloc) + \"/to/\" + str(endloc)\n",
    "    tflpayload = {'key': tfl_key}\n",
    "    \n",
    "    getreq = requests.get(requrl)\n",
    "    jp = getreq.json()\n",
    "    try:\n",
    "        staffFinal['travelDuration'][i] = jp['journeys'][0]['duration']\n",
    "    except:\n",
    "        staffFinal['travelDuration'][i] = np.nan"
   ]
  },
  {
   "cell_type": "code",
   "execution_count": null,
   "metadata": {},
   "outputs": [],
   "source": [
    "staffFinal.tail()"
   ]
  },
  {
   "cell_type": "code",
   "execution_count": null,
   "metadata": {},
   "outputs": [],
   "source": [
    "staffFinal.to_csv('staffFinal_v3.csv', index=False)"
   ]
  },
  {
   "cell_type": "code",
   "execution_count": null,
   "metadata": {},
   "outputs": [],
   "source": [
    "staffFinal['ResLat'] = staffFinal['ResLatLon'].str.split(pat=',', expand=True)[0]\n",
    "staffFinal['ResLon'] = staffFinal['ResLatLon'].str.split(pat=',', expand=True)[1]\n",
    "staffFinal.head()"
   ]
  },
  {
   "cell_type": "code",
   "execution_count": null,
   "metadata": {},
   "outputs": [],
   "source": [
    "staffFinal['WorkLat'] = staffFinal['WorkLatLon'].str.split(pat=',', expand=True)[0]\n",
    "staffFinal['WorkLon'] = staffFinal['WorkLatLon'].str.split(pat=',', expand=True)[1]\n",
    "staffFinal.head()"
   ]
  },
  {
   "cell_type": "code",
   "execution_count": null,
   "metadata": {},
   "outputs": [],
   "source": [
    "staffFinal.to_csv('staffFinal_v4.csv', index=False)"
   ]
  },
  {
   "cell_type": "code",
   "execution_count": null,
   "metadata": {},
   "outputs": [],
   "source": [
    "staffFinal.travelDuration = staffFinal.travelDuration.astype(float)"
   ]
  },
  {
   "cell_type": "code",
   "execution_count": null,
   "metadata": {},
   "outputs": [],
   "source": [
    "staffFinal.travelDuration.mean()"
   ]
  },
  {
   "cell_type": "code",
   "execution_count": null,
   "metadata": {},
   "outputs": [],
   "source": [
    "len(staffFinal)"
   ]
  },
  {
   "cell_type": "code",
   "execution_count": null,
   "metadata": {},
   "outputs": [],
   "source": [
    "# dropping all travel durations of more than 2 hours (120 minutes) and NaNs\n",
    "labels = ['travelDuration']\n",
    "staffFinal.dropna(subset=labels, inplace=True)\n",
    "len(staffFinal)"
   ]
  },
  {
   "cell_type": "code",
   "execution_count": null,
   "metadata": {},
   "outputs": [],
   "source": [
    "staffFinal = staffFinal[staffFinal['travelDuration'] <= 120]\n",
    "len(staffFinal)"
   ]
  },
  {
   "cell_type": "code",
   "execution_count": null,
   "metadata": {},
   "outputs": [],
   "source": [
    "locationMeanTravel = pd.DataFrame(staffFinal.groupby('WorkLatLon')['travelDuration'].mean()).reset_index()\n",
    "locationMeanTravel.rename(columns={'travelDuration': 'meanDuration'}, inplace=True)\n",
    "locationMeanTravel.head()"
   ]
  },
  {
   "cell_type": "code",
   "execution_count": null,
   "metadata": {},
   "outputs": [],
   "source": [
    "locationStdTravel = pd.DataFrame(staffFinal.groupby('WorkLatLon')['travelDuration'].std()).reset_index()\n",
    "locationStdTravel.rename(columns={'travelDuration': 'stdDuration'}, inplace=True)\n",
    "locationTravel = locationMeanTravel.merge(locationStdTravel, on='WorkLatLon')\n",
    "locationTravel.head()"
   ]
  },
  {
   "cell_type": "code",
   "execution_count": null,
   "metadata": {},
   "outputs": [],
   "source": [
    "locationCount = pd.DataFrame(staffFinal.groupby('WorkLatLon')['travelDuration'].count()).reset_index()\n",
    "locationCount.rename(columns={'travelDuration': 'counts'}, inplace=True)\n",
    "locationTravel = locationTravel.merge(locationCount, on='WorkLatLon')\n",
    "locationTravel.head()"
   ]
  },
  {
   "cell_type": "code",
   "execution_count": null,
   "metadata": {},
   "outputs": [],
   "source": [
    "locationTravel['WorkLat'] = locationTravel['WorkLatLon'].str.split(pat=',', expand=True)[0]\n",
    "locationTravel['WorkLon'] = locationTravel['WorkLatLon'].str.split(pat=',', expand=True)[1]\n",
    "locationTravel.sort_values('meanDuration', ascending=False).head(10)"
   ]
  },
  {
   "cell_type": "code",
   "execution_count": null,
   "metadata": {},
   "outputs": [],
   "source": [
    "locationNames = pd.DataFrame(staffFinal.groupby('WorkLatLon')['WorkLocation'].unique()).reset_index()\n",
    "locationNames.rename(columns={'WorkLocation': 'locationNames'}, inplace=True)\n",
    "locationTravel = locationTravel.merge(locationNames, on='WorkLatLon')\n",
    "locationTravel.head(10)"
   ]
  },
  {
   "cell_type": "code",
   "execution_count": null,
   "metadata": {},
   "outputs": [],
   "source": [
    "locationTravel.locationNames = locationTravel.locationNames.astype(str)"
   ]
  },
  {
   "cell_type": "code",
   "execution_count": null,
   "metadata": {},
   "outputs": [],
   "source": [
    "locationTravel.to_csv('locationTravelDuration_v2.csv', index=False)"
   ]
  },
  {
   "cell_type": "code",
   "execution_count": null,
   "metadata": {},
   "outputs": [],
   "source": [
    "locationTravel.head(10)"
   ]
  },
  {
   "cell_type": "code",
   "execution_count": null,
   "metadata": {},
   "outputs": [],
   "source": [
    "staffFinal.columns"
   ]
  },
  {
   "cell_type": "code",
   "execution_count": null,
   "metadata": {},
   "outputs": [],
   "source": [
    "staffFinal.columns"
   ]
  },
  {
   "cell_type": "code",
   "execution_count": null,
   "metadata": {},
   "outputs": [],
   "source": [
    "staffFinal['WorkLocation'].unique()"
   ]
  },
  {
   "cell_type": "code",
   "execution_count": null,
   "metadata": {},
   "outputs": [],
   "source": [
    "import matplotlib.pyplot as plt\n",
    "plt.figure(figsize=(12,9))\n",
    "ax = plt.subplot(111)\n",
    "ax.scatter(staffFinal['travelDuration'], staffFinal['LengthOfService(YearsFloat)'])\n",
    "ax.set_xlabel('travel duration (mins)', fontsize=13)\n",
    "ax.set_ylabel('length of service (years)', fontsize=13)\n",
    "ax.set_title('Staff In Post', fontsize=14)\n",
    "plt.show()"
   ]
  },
  {
   "cell_type": "code",
   "execution_count": null,
   "metadata": {},
   "outputs": [],
   "source": [
    "staffFinal.AgeBand.unique()"
   ]
  },
  {
   "cell_type": "code",
   "execution_count": null,
   "metadata": {},
   "outputs": [],
   "source": [
    "if staffFinal['AgeBand'][0] == '<=20 Years':\n",
    "    print(True)\n",
    "else:\n",
    "    print(False)"
   ]
  },
  {
   "cell_type": "code",
   "execution_count": null,
   "metadata": {},
   "outputs": [],
   "source": [
    "staffFinal['AgeBandIndex'] = ''"
   ]
  },
  {
   "cell_type": "code",
   "execution_count": null,
   "metadata": {},
   "outputs": [],
   "source": [
    "def ageBandIndex(elem):\n",
    "    if elem == \"<=20 Years\":\n",
    "        return 1\n",
    "    elif elem == \"21-25\":\n",
    "        return 2\n",
    "    elif elem == \"26-30\":\n",
    "        return 3\n",
    "    elif elem == \"31-35\":\n",
    "        return 4\n",
    "    elif elem == \"36-40\":\n",
    "        return 5\n",
    "    elif elem == \"41-45\":\n",
    "        return 6\n",
    "    elif elem == \"46-50\":\n",
    "        return 7\n",
    "    elif elem == \"51-55\":\n",
    "        return 8\n",
    "    elif elem == \"56-60\":\n",
    "        return 9\n",
    "    elif elem == \"61-65\":\n",
    "        return 10\n",
    "    elif elem == \"66-70\":\n",
    "        return 11\n",
    "    elif elem == \">=71 Years\":\n",
    "        return 12\n",
    "    else:\n",
    "        return np.nan"
   ]
  },
  {
   "cell_type": "code",
   "execution_count": null,
   "metadata": {},
   "outputs": [],
   "source": [
    "staffFinal['AgeBandIndex'] = staffFinal['AgeBand'].apply(ageBandIndex)"
   ]
  },
  {
   "cell_type": "code",
   "execution_count": null,
   "metadata": {},
   "outputs": [],
   "source": [
    "staffFinal.corr()"
   ]
  },
  {
   "cell_type": "code",
   "execution_count": null,
   "metadata": {},
   "outputs": [],
   "source": [
    "staffFinal.columns"
   ]
  },
  {
   "cell_type": "code",
   "execution_count": null,
   "metadata": {},
   "outputs": [],
   "source": [
    "staffInPost.PositionTitle.unique()"
   ]
  },
  {
   "cell_type": "code",
   "execution_count": null,
   "metadata": {},
   "outputs": [],
   "source": [
    "len(staffInPost[staffInPost['PositionTitle'].str.lower().str.contains(\"emergency\" or \"paramedic\" or \"ambulance\")])"
   ]
  },
  {
   "cell_type": "code",
   "execution_count": null,
   "metadata": {},
   "outputs": [],
   "source": [
    "ambulanceStation = staffInPost[staffInPost['Department'].str.lower().str.contains(\"ambulance station\")]"
   ]
  },
  {
   "cell_type": "code",
   "execution_count": null,
   "metadata": {},
   "outputs": [],
   "source": [
    "len(ambulanceStation)"
   ]
  },
  {
   "cell_type": "code",
   "execution_count": null,
   "metadata": {},
   "outputs": [],
   "source": [
    "ambulanceStation['PositionTitle'].unique()"
   ]
  },
  {
   "cell_type": "code",
   "execution_count": null,
   "metadata": {},
   "outputs": [],
   "source": [
    "len(ambulanceStation[ambulanceStation['PositionTitle'].str.lower().str.contains(\"paramedic\")])"
   ]
  },
  {
   "cell_type": "code",
   "execution_count": null,
   "metadata": {},
   "outputs": [],
   "source": [
    "len(ambulanceStation[ambulanceStation['PositionTitle'].str.lower().str.contains(\"technician\")])"
   ]
  },
  {
   "cell_type": "code",
   "execution_count": null,
   "metadata": {},
   "outputs": [],
   "source": [
    "len(ambulanceStation[ambulanceStation['PositionTitle'].str.lower().str.contains(\"ambulance crew\")])"
   ]
  },
  {
   "cell_type": "code",
   "execution_count": null,
   "metadata": {},
   "outputs": [],
   "source": [
    "len(staffInPost)"
   ]
  },
  {
   "cell_type": "code",
   "execution_count": null,
   "metadata": {},
   "outputs": [],
   "source": [
    "len(staffInPost[staffInPost['PositionTitle'].str.lower().str.contains(\"dispatcher\")])"
   ]
  },
  {
   "cell_type": "markdown",
   "metadata": {},
   "source": [
    "## Profile of the LAS Staff In Post\n",
    "- Total of 5721 staff\n",
    "- 2906 are based at an Ambulance Station (a bit more than half)\n",
    "\n",
    "### Within the staff working at an ambulance station:\n",
    "- 1691 are paramedics\n",
    "- 904 are ambulance crew members\n",
    "- 304 are technicians\n",
    "- the rest are managers/leaders"
   ]
  },
  {
   "cell_type": "code",
   "execution_count": null,
   "metadata": {},
   "outputs": [],
   "source": [
    "leavers.Nationality.unique()"
   ]
  },
  {
   "cell_type": "code",
   "execution_count": null,
   "metadata": {},
   "outputs": [],
   "source": [
    "len(leavers)"
   ]
  },
  {
   "cell_type": "code",
   "execution_count": null,
   "metadata": {},
   "outputs": [],
   "source": [
    "len(leavers[leavers['Nationality'].isnull()])"
   ]
  },
  {
   "cell_type": "code",
   "execution_count": null,
   "metadata": {},
   "outputs": [],
   "source": [
    "leaversNoNA = leavers.dropna(axis=0, subset=[\"Nationality\"])"
   ]
  },
  {
   "cell_type": "code",
   "execution_count": null,
   "metadata": {},
   "outputs": [],
   "source": [
    "len(leaversNoNA)"
   ]
  },
  {
   "cell_type": "code",
   "execution_count": null,
   "metadata": {},
   "outputs": [],
   "source": [
    "len(leaversNoNA[leaversNoNA['Nationality'].str.lower().str.contains(\"british\")])"
   ]
  },
  {
   "cell_type": "code",
   "execution_count": null,
   "metadata": {},
   "outputs": [],
   "source": [
    "len(leaversNoNA) - len(leaversNoNA[leaversNoNA['Nationality'].str.lower().str.contains(\"british\")])"
   ]
  },
  {
   "cell_type": "code",
   "execution_count": null,
   "metadata": {},
   "outputs": [],
   "source": [
    "398/1871"
   ]
  },
  {
   "cell_type": "code",
   "execution_count": null,
   "metadata": {},
   "outputs": [],
   "source": [
    "def nonBritish(elem):\n",
    "    if elem == 'British':\n",
    "        return 0\n",
    "    else:\n",
    "        return 1"
   ]
  },
  {
   "cell_type": "code",
   "execution_count": null,
   "metadata": {},
   "outputs": [],
   "source": [
    "leaversNoNA['nonBritish'] = leaversNoNA['Nationality'].map(nonBritish)"
   ]
  },
  {
   "cell_type": "code",
   "execution_count": null,
   "metadata": {},
   "outputs": [],
   "source": [
    "def relocation(elem):\n",
    "    if \"relocation\" in elem:\n",
    "        return 1\n",
    "    else:\n",
    "        return 0"
   ]
  },
  {
   "cell_type": "code",
   "execution_count": null,
   "metadata": {},
   "outputs": [],
   "source": [
    "leaversNoNA['relocation'] = leaversNoNA['Leaving Reason'].str.lower().map(relocation)"
   ]
  },
  {
   "cell_type": "code",
   "execution_count": null,
   "metadata": {},
   "outputs": [],
   "source": [
    "leaversNoNA.corr()"
   ]
  },
  {
   "cell_type": "code",
   "execution_count": null,
   "metadata": {},
   "outputs": [],
   "source": [
    "len(leaversNoNA[(leaversNoNA.relocation==1)&(leaversNoNA.nonBritish==0)])"
   ]
  },
  {
   "cell_type": "code",
   "execution_count": null,
   "metadata": {},
   "outputs": [],
   "source": [
    "len(leaversNoNA[leaversNoNA.nonBritish==0])"
   ]
  },
  {
   "cell_type": "code",
   "execution_count": null,
   "metadata": {},
   "outputs": [],
   "source": [
    "1871/2988"
   ]
  },
  {
   "cell_type": "code",
   "execution_count": null,
   "metadata": {},
   "outputs": [],
   "source": [
    "from beautifultable import BeautifulTable"
   ]
  },
  {
   "cell_type": "code",
   "execution_count": null,
   "metadata": {},
   "outputs": [],
   "source": [
    "table = BeautifulTable()\n",
    "table.column_headers = [\"\", \"British\", \"Non-British\", \"Total\"]\n",
    "table.append_row([\"Relocated\", 311, 249, 560])\n",
    "table.append_row([\"Other\", 1162, 149, 1311])\n",
    "table.append_row([\"Total\", 1473, 398, 1871])\n",
    "print(table)"
   ]
  },
  {
   "cell_type": "code",
   "execution_count": null,
   "metadata": {},
   "outputs": [],
   "source": [
    "staffFinal.columns"
   ]
  },
  {
   "cell_type": "code",
   "execution_count": null,
   "metadata": {},
   "outputs": [],
   "source": [
    "tdmean = staffFinal.travelDuration.mean()"
   ]
  },
  {
   "cell_type": "code",
   "execution_count": null,
   "metadata": {},
   "outputs": [],
   "source": [
    "tdmean"
   ]
  },
  {
   "cell_type": "code",
   "execution_count": null,
   "metadata": {},
   "outputs": [],
   "source": [
    "plt.figure(figsize=(12,8))\n",
    "plt.hist(staffFinal.travelDuration, bins=20, color=\"#3F5D7D\")\n",
    "tdmean = staffFinal.travelDuration.mean()\n",
    "tdmedian = np.median(staffFinal.travelDuration)\n",
    "tdsigma = staffFinal.travelDuration.std()\n",
    "textstr = '\\n'.join((\n",
    "    r'$\\mu=%.2f$' % (tdmean, ),\n",
    "    r'$\\mathrm{median}=%.2f$' % (tdmedian, ),\n",
    "    r'$\\sigma=%.2f$' % (tdsigma, )))\n",
    "props = dict(boxstyle='round', facecolor='lightblue', alpha=0.3)\n",
    "plt.text(0.1, 1.7, textstr, transform=ax.transAxes, fontsize=14,\n",
    "        verticalalignment='top', bbox=props)\n",
    "plt.title('Distribution of Travel Duration \\n', fontsize=16)\n",
    "plt.xlabel('Time in Minutes', fontsize=14)\n",
    "plt.ylabel('Number of Staff', fontsize=14)\n",
    "plt.show()"
   ]
  },
  {
   "cell_type": "code",
   "execution_count": null,
   "metadata": {},
   "outputs": [],
   "source": []
  }
 ],
 "metadata": {
  "kernelspec": {
   "display_name": "Python 3",
   "language": "python",
   "name": "python3"
  },
  "language_info": {
   "codemirror_mode": {
    "name": "ipython",
    "version": 3
   },
   "file_extension": ".py",
   "mimetype": "text/x-python",
   "name": "python",
   "nbconvert_exporter": "python",
   "pygments_lexer": "ipython3",
   "version": "3.6.5"
  }
 },
 "nbformat": 4,
 "nbformat_minor": 2
}
