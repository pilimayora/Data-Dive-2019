{
 "cells": [
  {
   "cell_type": "code",
   "execution_count": 1,
   "metadata": {},
   "outputs": [
    {
     "name": "stdout",
     "output_type": "stream",
     "text": [
      "Populating the interactive namespace from numpy and matplotlib\n"
     ]
    }
   ],
   "source": [
    "import pandas as pd\n",
    "import requests\n",
    "from pprint import pprint\n",
    "import matplotlib.pyplot as plt\n",
    "import numpy as np\n",
    "\n",
    "%pylab inline"
   ]
  },
  {
   "cell_type": "code",
   "execution_count": 2,
   "metadata": {},
   "outputs": [],
   "source": [
    "tfl_key = <API KEY HERE>\n",
    "tfl_url  = \"https://api.tfl.gov.uk/\" # base URL\n",
    "tflpayload = {'key': tfl_key} # Dictionary to hold request parameters"
   ]
  },
  {
   "cell_type": "code",
   "execution_count": 177,
   "metadata": {},
   "outputs": [
    {
     "data": {
      "text/plain": [
       "69"
      ]
     },
     "execution_count": 177,
     "metadata": {},
     "output_type": "execute_result"
    }
   ],
   "source": [
    "# startloc is string of latlong coordinates of postcode sector centroid\n",
    "# endloc is string of latlong cordinates of hospital\n",
    "\n",
    "requrl = \"/Journey/JourneyResults/\" + startloc + \"/to/\" + endloc\n",
    "getreq = requests.get(tfl_url + requrl) # Do the request\n",
    "jp = getreq.json()\n",
    "\n",
    "# json path to travel duration:\n",
    "jp['journeys'][0]['duration']\n",
    "\n",
    "# json path to travel fare:\n",
    "jp['journeys'][0]['fare']['totalCost']"
   ]
  },
  {
   "cell_type": "code",
   "execution_count": 330,
   "metadata": {},
   "outputs": [],
   "source": [
    "def travelDuration(tfl_key, startloc, endloc, df, iRange):\n",
    "    requrl = \"/Journey/JourneyResults/\" + startloc + \"/to/\" + endloc\n",
    "    tfl_url  = \"https://api.tfl.gov.uk/\"\n",
    "    tflpayload = {'key': tfl_key}\n",
    "    \n",
    "    for i in iRange:\n",
    "        getreq = requests.get(tfl_url + requrl) # Do the request\n",
    "        jp = getreq.json()\n",
    "        try:\n",
    "            df['travelDuration'][i] = jp['journeys'][0]['duration']\n",
    "        except:\n",
    "            pass"
   ]
  },
  {
   "cell_type": "code",
   "execution_count": 3,
   "metadata": {},
   "outputs": [],
   "source": [
    "staffInPost = pd.read_csv(\"CUSP London Data Dive 2019/data/Workforce Data/LAS_Staff_in_Post_070319.csv\")"
   ]
  },
  {
   "cell_type": "code",
   "execution_count": 4,
   "metadata": {},
   "outputs": [
    {
     "data": {
      "text/plain": [
       "Index(['IDnumber', 'Board', 'Division', 'Directorate', 'Locality', 'Service',\n",
       "       'Department', 'Location', 'Gender', 'AgeBand', 'PostcodeSector',\n",
       "       'PositionTitle', 'EmployeeCategory', 'AssignmentCategory', 'FTE',\n",
       "       'ContractHours', 'Frequency', 'LengthOfService(Years)',\n",
       "       'LengthOfService(Months)', 'nhsEntryDate', 'LatestStartDate',\n",
       "       'StartDateInGrade', 'TimeInGrade(Years)',\n",
       "       'AssignmentEffectiveStartDate', 'OriginalHireDate',\n",
       "       'StartDateInPosition'],\n",
       "      dtype='object')"
      ]
     },
     "execution_count": 4,
     "metadata": {},
     "output_type": "execute_result"
    }
   ],
   "source": [
    "staffInPost.columns"
   ]
  },
  {
   "cell_type": "markdown",
   "metadata": {},
   "source": [
    "## Summary Statistics"
   ]
  },
  {
   "cell_type": "code",
   "execution_count": 5,
   "metadata": {},
   "outputs": [
    {
     "name": "stdout",
     "output_type": "stream",
     "text": [
      "Number of Males: 3040\n",
      "Number of Females: 2681\n",
      "Total Number of Employees: 5721\n"
     ]
    }
   ],
   "source": [
    "print(\"Number of Males: %i\" %len(staffInPost[staffInPost.Gender == 'Male']))\n",
    "print(\"Number of Females: %i\" %len(staffInPost[staffInPost.Gender == 'Female']))\n",
    "print(\"Total Number of Employees: %i\" %len(staffInPost))"
   ]
  },
  {
   "cell_type": "code",
   "execution_count": 6,
   "metadata": {},
   "outputs": [],
   "source": [
    "staffInPost[\"LengthOfService(YearsFloat)\"] = staffInPost[\"LengthOfService(Years)\"] + staffInPost[\"LengthOfService(Months)\"]/12"
   ]
  },
  {
   "cell_type": "code",
   "execution_count": 327,
   "metadata": {},
   "outputs": [
    {
     "data": {
      "text/plain": [
       "Index(['IDnumber', 'Board', 'Division', 'Directorate', 'Locality', 'Service',\n",
       "       'Department', 'Location', 'Gender', 'AgeBand', 'PostcodeSector',\n",
       "       'PositionTitle', 'EmployeeCategory', 'AssignmentCategory', 'FTE',\n",
       "       'ContractHours', 'Frequency', 'LengthOfService(Years)',\n",
       "       'LengthOfService(Months)', 'nhsEntryDate', 'LatestStartDate',\n",
       "       'StartDateInGrade', 'TimeInGrade(Years)',\n",
       "       'AssignmentEffectiveStartDate', 'OriginalHireDate',\n",
       "       'StartDateInPosition', 'LengthOfService(YearsFloat)', 'StartMonth'],\n",
       "      dtype='object')"
      ]
     },
     "execution_count": 327,
     "metadata": {},
     "output_type": "execute_result"
    }
   ],
   "source": [
    "staffInPost.columns"
   ]
  },
  {
   "cell_type": "code",
   "execution_count": 10,
   "metadata": {},
   "outputs": [
    {
     "name": "stdout",
     "output_type": "stream",
     "text": [
      "Percentage of employees 21-25 : 0.148401\n",
      "Percentage of employees 26-30 : 0.177591\n",
      "Percentage of employees 31-35 : 0.129872\n",
      "Percentage of employees 36-40 : 0.113092\n",
      "Percentage of employees 41-45 : 0.109771\n",
      "Percentage of employees 46-50 : 0.127425\n",
      "Percentage of employees 51-55 : 0.100332\n",
      "Percentage of employees 56-60 : 0.058381\n",
      "Percentage of employees 61-65 : 0.023248\n",
      "Percentage of employees 66-70 : 0.003845\n",
      "Percentage of employees <=20 Years : 0.006817\n",
      "Percentage of employees >=71 Years : 0.001224\n"
     ]
    }
   ],
   "source": [
    "for ageBand in sorted(staffInPost[\"AgeBand\"].unique()):\n",
    "    print(\"Percentage of employees \" + ageBand + \" : %f\" %(len(staffInPost[staffInPost[\"AgeBand\"] == ageBand])/len(staffInPost)))"
   ]
  },
  {
   "cell_type": "code",
   "execution_count": 11,
   "metadata": {},
   "outputs": [
    {
     "data": {
      "text/plain": [
       "Text(0.5,1,'Histogram')"
      ]
     },
     "execution_count": 11,
     "metadata": {},
     "output_type": "execute_result"
    },
    {
     "data": {
      "image/png": "[encoded data removed]",
      "text/plain": [
       "<Figure size 864x576 with 1 Axes>"
      ]
     },
     "metadata": {},
     "output_type": "display_data"
    }
   ],
   "source": [
    "plt.figure(figsize=(12,8))\n",
    "plt.hist(staffInPost['ContractHours'], bins=30)\n",
    "plt.xlabel(\"Contract Hours / Week\")\n",
    "plt.ylabel(\"Counts\")\n",
    "plt.title(\"Histogram\")"
   ]
  },
  {
   "cell_type": "markdown",
   "metadata": {},
   "source": [
    "### Investigating start months as a factor for leaving:"
   ]
  },
  {
   "cell_type": "code",
   "execution_count": 12,
   "metadata": {},
   "outputs": [],
   "source": [
    "staffInPost['LatestStartDate'] = pd.to_datetime(staffInPost['LatestStartDate'], infer_datetime_format=True)"
   ]
  },
  {
   "cell_type": "code",
   "execution_count": 13,
   "metadata": {},
   "outputs": [],
   "source": [
    "staffInPost['StartMonth'] = staffInPost['LatestStartDate'].dt.month"
   ]
  },
  {
   "cell_type": "code",
   "execution_count": 14,
   "metadata": {},
   "outputs": [
    {
     "data": {
      "text/plain": [
       "Text(0.5,1,'More than 15 Years')"
      ]
     },
     "execution_count": 14,
     "metadata": {},
     "output_type": "execute_result"
    },
    {
     "data": {
      "image/png": "[encoded data removed]",
      "text/plain": [
       "<Figure size 1080x1080 with 4 Axes>"
      ]
     },
     "metadata": {},
     "output_type": "display_data"
    }
   ],
   "source": [
    "fig = plt.figure(figsize=(15,15))\n",
    "fig.add_subplot(221)\n",
    "plt.hist(staffInPost['StartMonth'], bins=30)\n",
    "plt.xlabel(\"Starting Months\")\n",
    "plt.ylabel(\"Counts\")\n",
    "plt.title(\"All\")\n",
    "\n",
    "fig.add_subplot(222)\n",
    "moreThan5 = staffInPost[staffInPost['LengthOfService(YearsFloat)'] > 5]\n",
    "plt.hist(moreThan5['StartMonth'], bins=30)\n",
    "plt.xlabel(\"Starting Months\")\n",
    "plt.ylabel(\"Counts\")\n",
    "plt.title(\"More than 5 Years\")\n",
    "\n",
    "fig.add_subplot(223)\n",
    "moreThan10 = staffInPost[staffInPost['LengthOfService(YearsFloat)'] > 10]\n",
    "plt.hist(moreThan10['StartMonth'], bins=30)\n",
    "plt.xlabel(\"Starting Months\")\n",
    "plt.ylabel(\"Counts\")\n",
    "plt.title(\"More than 10 Years\")\n",
    "\n",
    "fig.add_subplot(224)\n",
    "moreThan15 = staffInPost[staffInPost['LengthOfService(YearsFloat)'] > 15]\n",
    "plt.hist(moreThan15['StartMonth'], bins=30)\n",
    "plt.xlabel(\"Starting Months\")\n",
    "plt.ylabel(\"Counts\")\n",
    "plt.title(\"More than 15 Years\")"
   ]
  },
  {
   "cell_type": "code",
   "execution_count": 15,
   "metadata": {},
   "outputs": [
    {
     "name": "stdout",
     "output_type": "stream",
     "text": [
      "Full Time: 4911\n",
      "Part Time: 810\n"
     ]
    }
   ],
   "source": [
    "for category in staffInPost['EmployeeCategory'].unique():\n",
    "    print(category + \": %i\" %len(staffInPost[staffInPost['EmployeeCategory'] == category]))"
   ]
  },
  {
   "cell_type": "code",
   "execution_count": 479,
   "metadata": {},
   "outputs": [
    {
     "name": "stderr",
     "output_type": "stream",
     "text": [
      "C:\\Users\\rachelsim\\Anaconda3\\lib\\site-packages\\matplotlib\\cbook\\deprecation.py:107: MatplotlibDeprecationWarning: Adding an axes using the same arguments as a previous axes currently reuses the earlier instance.  In a future version, a new instance will always be created and returned.  Meanwhile, this warning can be suppressed, and the future behavior ensured, by passing a unique label to each axes instance.\n",
      "  warnings.warn(message, mplDeprecation, stacklevel=1)\n",
      "C:\\Users\\rachelsim\\Anaconda3\\lib\\site-packages\\matplotlib\\cbook\\deprecation.py:107: MatplotlibDeprecationWarning: Adding an axes using the same arguments as a previous axes currently reuses the earlier instance.  In a future version, a new instance will always be created and returned.  Meanwhile, this warning can be suppressed, and the future behavior ensured, by passing a unique label to each axes instance.\n",
      "  warnings.warn(message, mplDeprecation, stacklevel=1)\n"
     ]
    },
    {
     "data": {
      "image/png": "[encoded data removed]",
      "text/plain": [
       "<Figure size 864x936 with 2 Axes>"
      ]
     },
     "metadata": {},
     "output_type": "display_data"
    }
   ],
   "source": [
    "fig = plt.figure(figsize=(12,13))\n",
    "\n",
    "fig.add_subplot(211)\n",
    "ax = plt.subplot(211)\n",
    "plt.xticks(fontsize=12)\n",
    "plt.yticks(fontsize=12)\n",
    "fullTime = staffInPost[staffInPost['EmployeeCategory'] == 'Full Time']\n",
    "ax.hist(fullTime['LengthOfService(YearsFloat)'], bins=45, color=\"#3F5D7D\")\n",
    "ax.set_xlabel(\"Length of Service (Years)\", fontsize=14)\n",
    "ax.set_ylabel(\"Number of Staff\", fontsize=14)\n",
    "ax.set_title(\"Full Time Staff\", fontsize=16)\n",
    "ax.spines[\"top\"].set_visible(False)  \n",
    "ax.spines[\"right\"].set_visible(False)  \n",
    "\n",
    "fig.add_subplot(212)\n",
    "ax = plt.subplot(212)\n",
    "plt.subplots_adjust(hspace=0.3)\n",
    "plt.xticks(fontsize=12)  \n",
    "plt.yticks(fontsize=12)\n",
    "partTime = staffInPost[staffInPost['EmployeeCategory'] == 'Part Time']\n",
    "ax.hist(partTime['LengthOfService(YearsFloat)'], bins=40, color=\"#3F5D7D\")\n",
    "ax.set_xlabel(\"Length of Service (Years)\", fontsize=14)\n",
    "ax.set_ylabel(\"Number of Staff\", fontsize=14)\n",
    "ax.set_title(\"Part Time Staff\", fontsize=16)\n",
    "ax.spines[\"top\"].set_visible(False)  \n",
    "ax.spines[\"right\"].set_visible(False)"
   ]
  },
  {
   "cell_type": "code",
   "execution_count": 17,
   "metadata": {},
   "outputs": [
    {
     "data": {
      "text/plain": [
       "Index(['location', 'locationaddress', 'postcode', 'esrLocationFull', 'manual'], dtype='object')"
      ]
     },
     "execution_count": 17,
     "metadata": {},
     "output_type": "execute_result"
    }
   ],
   "source": [
    "serviceLocations = pd.read_csv(\"CUSP London Data Dive 2019/data/Workforce Data/workplace location table.csv\")\n",
    "serviceLocations.columns"
   ]
  },
  {
   "cell_type": "code",
   "execution_count": 18,
   "metadata": {},
   "outputs": [
    {
     "data": {
      "text/plain": [
       "Index(['IDnumber', 'Board', 'Division', 'Directorate', 'Locality', 'Service',\n",
       "       'Department', 'Location', 'Gender', 'AgeBand', 'PostcodeSector',\n",
       "       'PositionTitle', 'EmployeeCategory', 'AssignmentCategory', 'FTE',\n",
       "       'ContractHours', 'Frequency', 'LengthOfService(Years)',\n",
       "       'LengthOfService(Months)', 'nhsEntryDate', 'LatestStartDate',\n",
       "       'StartDateInGrade', 'TimeInGrade(Years)',\n",
       "       'AssignmentEffectiveStartDate', 'OriginalHireDate',\n",
       "       'StartDateInPosition', 'LengthOfService(YearsFloat)', 'StartMonth',\n",
       "       'location', 'locationaddress', 'postcode', 'esrLocationFull', 'manual'],\n",
       "      dtype='object')"
      ]
     },
     "execution_count": 18,
     "metadata": {},
     "output_type": "execute_result"
    }
   ],
   "source": [
    "staffWorkLocations = pd.merge(left=staffInPost, right=serviceLocations, left_on='Location', right_on='esrLocationFull')\n",
    "staffWorkLocations.columns"
   ]
  },
  {
   "cell_type": "code",
   "execution_count": 19,
   "metadata": {},
   "outputs": [
    {
     "data": {
      "text/plain": [
       "Index(['Employee Number', 'Assignment Number', 'Org L5', 'Org L6', 'Org L7',\n",
       "       'Org L8', 'Staff Group', 'Position Title', 'Job Role',\n",
       "       'Employee Latest Start Date', 'Notified Date', 'Termination Date',\n",
       "       'Leaving year', 'Destination On Leaving', 'Leaving Reason', 'FTE',\n",
       "       'FT/PT', 'Initial Assignment Start Date', 'Pay Grade',\n",
       "       'Length of Service (Years)', 'Length of Service (Months)', 'LOS',\n",
       "       'LOS (Years)', 'LOS band', 'Age Band', 'Ethnic Origin', 'Bme group',\n",
       "       'Gender', 'Nationality', 'Assignment Category'],\n",
       "      dtype='object')"
      ]
     },
     "execution_count": 19,
     "metadata": {},
     "output_type": "execute_result"
    }
   ],
   "source": [
    "leavers = pd.read_csv(\"CUSP London Data Dive 2019/data/Workforce Data/LAS_Leavers_070319.csv\")\n",
    "leavers.columns"
   ]
  },
  {
   "cell_type": "code",
   "execution_count": 23,
   "metadata": {
    "scrolled": false
   },
   "outputs": [
    {
     "data": {
      "text/html": [
       "<div>\n",
       "<style scoped>\n",
       "    .dataframe tbody tr th:only-of-type {\n",
       "        vertical-align: middle;\n",
       "    }\n",
       "\n",
       "    .dataframe tbody tr th {\n",
       "        vertical-align: top;\n",
       "    }\n",
       "\n",
       "    .dataframe thead th {\n",
       "        text-align: right;\n",
       "    }\n",
       "</style>\n",
       "<table border=\"1\" class=\"dataframe\">\n",
       "  <thead>\n",
       "    <tr style=\"text-align: right;\">\n",
       "      <th></th>\n",
       "      <th>PostcodeSector</th>\n",
       "      <th>centroids_str</th>\n",
       "    </tr>\n",
       "  </thead>\n",
       "  <tbody>\n",
       "    <tr>\n",
       "      <th>0</th>\n",
       "      <td>E11 2</td>\n",
       "      <td>51.57538361539157,0.03122833245535627</td>\n",
       "    </tr>\n",
       "    <tr>\n",
       "      <th>1</th>\n",
       "      <td>DA9 9</td>\n",
       "      <td>51.44649170148372,0.2773212373297947</td>\n",
       "    </tr>\n",
       "    <tr>\n",
       "      <th>2</th>\n",
       "      <td>TN16 3</td>\n",
       "      <td>51.31574566211062,0.03366749030207872</td>\n",
       "    </tr>\n",
       "    <tr>\n",
       "      <th>3</th>\n",
       "      <td>DA16 2</td>\n",
       "      <td>51.4588613782438,0.09859581873185735</td>\n",
       "    </tr>\n",
       "    <tr>\n",
       "      <th>4</th>\n",
       "      <td>BR3 4</td>\n",
       "      <td>51.40315037550847,-0.04587958580064797</td>\n",
       "    </tr>\n",
       "  </tbody>\n",
       "</table>\n",
       "</div>"
      ],
      "text/plain": [
       "  PostcodeSector                           centroids_str\n",
       "0          E11 2   51.57538361539157,0.03122833245535627\n",
       "1          DA9 9    51.44649170148372,0.2773212373297947\n",
       "2         TN16 3   51.31574566211062,0.03366749030207872\n",
       "3         DA16 2    51.4588613782438,0.09859581873185735\n",
       "4          BR3 4  51.40315037550847,-0.04587958580064797"
      ]
     },
     "execution_count": 23,
     "metadata": {},
     "output_type": "execute_result"
    }
   ],
   "source": [
    "# reading in csv file Liam created that contains coords of postcode sector centroids:\n",
    "\n",
    "pcSectorCentroids = pd.read_csv('co-ords4.csv')\n",
    "pcSectorCentroids.rename(columns={'name': 'PostcodeSector'}, inplace=True)\n",
    "pcSectorCentroids.drop(labels='Unnamed: 0', axis=1, inplace=True)\n",
    "pcSectorCentroids.head()"
   ]
  },
  {
   "cell_type": "code",
   "execution_count": 24,
   "metadata": {},
   "outputs": [],
   "source": [
    "staffLocations = staffWorkLocations.merge(pcSectorCentroids, how='outer', on='PostcodeSector')"
   ]
  },
  {
   "cell_type": "code",
   "execution_count": 25,
   "metadata": {},
   "outputs": [
    {
     "data": {
      "text/plain": [
       "14"
      ]
     },
     "execution_count": 25,
     "metadata": {},
     "output_type": "execute_result"
    }
   ],
   "source": [
    "len(staffLocations[staffLocations['centroids_str'].isnull()]['PostcodeSector'].unique())"
   ]
  },
  {
   "cell_type": "code",
   "execution_count": 27,
   "metadata": {},
   "outputs": [
    {
     "data": {
      "text/plain": [
       "array(['FALS E', 'NW9 4', 'SW11 7', 'W6 2', 'DA11 O', 'BT31 9', 'W17 2',\n",
       "       'BT20 4', 'SW11 8', 'TN24 2', 'CM6 4', 'N39T 6', 'WD18 O',\n",
       "       'KT14 3'], dtype=object)"
      ]
     },
     "execution_count": 27,
     "metadata": {},
     "output_type": "execute_result"
    }
   ],
   "source": [
    "staffLocations[staffLocations['centroids_str'].isnull()]['PostcodeSector'].unique()"
   ]
  },
  {
   "cell_type": "code",
   "execution_count": 28,
   "metadata": {},
   "outputs": [
    {
     "name": "stderr",
     "output_type": "stream",
     "text": [
      "C:\\Users\\rachelsim\\Anaconda3\\lib\\site-packages\\ipykernel_launcher.py:2: SettingWithCopyWarning: \n",
      "A value is trying to be set on a copy of a slice from a DataFrame.\n",
      "Try using .loc[row_indexer,col_indexer] = value instead\n",
      "\n",
      "See the caveats in the documentation: http://pandas.pydata.org/pandas-docs/stable/indexing.html#indexing-view-versus-copy\n",
      "  \n",
      "C:\\Users\\rachelsim\\Anaconda3\\lib\\site-packages\\ipykernel_launcher.py:3: SettingWithCopyWarning: \n",
      "A value is trying to be set on a copy of a slice from a DataFrame.\n",
      "Try using .loc[row_indexer,col_indexer] = value instead\n",
      "\n",
      "See the caveats in the documentation: http://pandas.pydata.org/pandas-docs/stable/indexing.html#indexing-view-versus-copy\n",
      "  This is separate from the ipykernel package so we can avoid doing imports until\n",
      "C:\\Users\\rachelsim\\Anaconda3\\lib\\site-packages\\ipykernel_launcher.py:4: SettingWithCopyWarning: \n",
      "A value is trying to be set on a copy of a slice from a DataFrame.\n",
      "Try using .loc[row_indexer,col_indexer] = value instead\n",
      "\n",
      "See the caveats in the documentation: http://pandas.pydata.org/pandas-docs/stable/indexing.html#indexing-view-versus-copy\n",
      "  after removing the cwd from sys.path.\n",
      "C:\\Users\\rachelsim\\Anaconda3\\lib\\site-packages\\ipykernel_launcher.py:5: SettingWithCopyWarning: \n",
      "A value is trying to be set on a copy of a slice from a DataFrame.\n",
      "Try using .loc[row_indexer,col_indexer] = value instead\n",
      "\n",
      "See the caveats in the documentation: http://pandas.pydata.org/pandas-docs/stable/indexing.html#indexing-view-versus-copy\n",
      "  \"\"\"\n",
      "C:\\Users\\rachelsim\\Anaconda3\\lib\\site-packages\\ipykernel_launcher.py:6: SettingWithCopyWarning: \n",
      "A value is trying to be set on a copy of a slice from a DataFrame.\n",
      "Try using .loc[row_indexer,col_indexer] = value instead\n",
      "\n",
      "See the caveats in the documentation: http://pandas.pydata.org/pandas-docs/stable/indexing.html#indexing-view-versus-copy\n",
      "  \n",
      "C:\\Users\\rachelsim\\Anaconda3\\lib\\site-packages\\ipykernel_launcher.py:7: SettingWithCopyWarning: \n",
      "A value is trying to be set on a copy of a slice from a DataFrame.\n",
      "Try using .loc[row_indexer,col_indexer] = value instead\n",
      "\n",
      "See the caveats in the documentation: http://pandas.pydata.org/pandas-docs/stable/indexing.html#indexing-view-versus-copy\n",
      "  import sys\n",
      "C:\\Users\\rachelsim\\Anaconda3\\lib\\site-packages\\ipykernel_launcher.py:8: SettingWithCopyWarning: \n",
      "A value is trying to be set on a copy of a slice from a DataFrame.\n",
      "Try using .loc[row_indexer,col_indexer] = value instead\n",
      "\n",
      "See the caveats in the documentation: http://pandas.pydata.org/pandas-docs/stable/indexing.html#indexing-view-versus-copy\n",
      "  \n",
      "C:\\Users\\rachelsim\\Anaconda3\\lib\\site-packages\\ipykernel_launcher.py:9: SettingWithCopyWarning: \n",
      "A value is trying to be set on a copy of a slice from a DataFrame.\n",
      "Try using .loc[row_indexer,col_indexer] = value instead\n",
      "\n",
      "See the caveats in the documentation: http://pandas.pydata.org/pandas-docs/stable/indexing.html#indexing-view-versus-copy\n",
      "  if __name__ == '__main__':\n",
      "C:\\Users\\rachelsim\\Anaconda3\\lib\\site-packages\\ipykernel_launcher.py:10: SettingWithCopyWarning: \n",
      "A value is trying to be set on a copy of a slice from a DataFrame.\n",
      "Try using .loc[row_indexer,col_indexer] = value instead\n",
      "\n",
      "See the caveats in the documentation: http://pandas.pydata.org/pandas-docs/stable/indexing.html#indexing-view-versus-copy\n",
      "  # Remove the CWD from sys.path while we load stuff.\n"
     ]
    }
   ],
   "source": [
    "# drop FALSE, W17 2, N39T 6, BT postcodes and manually insert other coordinates:\n",
    "\n",
    "staffLocations[staffLocations['PostcodeSector'] == 'SW11 7']['centroids_str'] = '51.49177,-0.1370286'\n",
    "staffLocations[staffLocations['PostcodeSector'] == 'SW11 8']['centroids_str'] = '51.5047865,-0.1541728'\n",
    "staffLocations[staffLocations['PostcodeSector'] == 'KT14 3']['centroids_str'] = '51.3418376,-0.4998108'\n",
    "staffLocations[staffLocations['PostcodeSector'] == 'CM6 4']['centroids_str'] = '51.8593837,0.1529848'\n",
    "staffLocations[staffLocations['PostcodeSector'] == 'WD18 O']['centroids_str'] = '51.6426322,-0.4480033'\n",
    "staffLocations[staffLocations['PostcodeSector'] == 'W6 2']['centroids_str'] = '51.4976485,-0.2581849'\n",
    "staffLocations[staffLocations['PostcodeSector'] == 'NW9 4']['centroids_str'] = '51.5835152,-0.2870196'\n",
    "staffLocations[staffLocations['PostcodeSector'] == 'TN24 2']['centroids_str'] = '51.148175,0.8501124'\n",
    "staffLocations[staffLocations['PostcodeSector'] == 'DA11 O']['centroids_str'] = '51.4504867,0.3502812'\n",
    "\n",
    "staffLocations = staffLocations[staffLocations['PostcodeSector'] != 'FALS E']\n",
    "staffLocations = staffLocations[staffLocations['PostcodeSector'] != 'W17 2']\n",
    "staffLocations = staffLocations[staffLocations['PostcodeSector'] != 'N39T 6']\n",
    "staffLocations = staffLocations[staffLocations['PostcodeSector'] != 'BT31 9']\n",
    "staffLocations = staffLocations[staffLocations['PostcodeSector'] != 'BT20 4']"
   ]
  },
  {
   "cell_type": "code",
   "execution_count": 29,
   "metadata": {},
   "outputs": [
    {
     "data": {
      "text/html": [
       "<div>\n",
       "<style scoped>\n",
       "    .dataframe tbody tr th:only-of-type {\n",
       "        vertical-align: middle;\n",
       "    }\n",
       "\n",
       "    .dataframe tbody tr th {\n",
       "        vertical-align: top;\n",
       "    }\n",
       "\n",
       "    .dataframe thead th {\n",
       "        text-align: right;\n",
       "    }\n",
       "</style>\n",
       "<table border=\"1\" class=\"dataframe\">\n",
       "  <thead>\n",
       "    <tr style=\"text-align: right;\">\n",
       "      <th></th>\n",
       "      <th>postcode</th>\n",
       "      <th>WorkLatLon</th>\n",
       "    </tr>\n",
       "  </thead>\n",
       "  <tbody>\n",
       "    <tr>\n",
       "      <th>0</th>\n",
       "      <td>DA7 6BZ</td>\n",
       "      <td>51.460793,0.15380635</td>\n",
       "    </tr>\n",
       "    <tr>\n",
       "      <th>1</th>\n",
       "      <td>EN5 1TE</td>\n",
       "      <td>51.647271,-0.18591394</td>\n",
       "    </tr>\n",
       "    <tr>\n",
       "      <th>2</th>\n",
       "      <td>SW11 1HW</td>\n",
       "      <td>51.460613,-0.16778757</td>\n",
       "    </tr>\n",
       "    <tr>\n",
       "      <th>3</th>\n",
       "      <td>BR3 4LR</td>\n",
       "      <td>51.408006,-0.034009912</td>\n",
       "    </tr>\n",
       "    <tr>\n",
       "      <th>4</th>\n",
       "      <td>WC1N 1HP</td>\n",
       "      <td>51.524889,-0.12663222</td>\n",
       "    </tr>\n",
       "  </tbody>\n",
       "</table>\n",
       "</div>"
      ],
      "text/plain": [
       "   postcode              WorkLatLon\n",
       "0   DA7 6BZ    51.460793,0.15380635\n",
       "1   EN5 1TE   51.647271,-0.18591394\n",
       "2  SW11 1HW   51.460613,-0.16778757\n",
       "3   BR3 4LR  51.408006,-0.034009912\n",
       "4  WC1N 1HP   51.524889,-0.12663222"
      ]
     },
     "execution_count": 29,
     "metadata": {},
     "output_type": "execute_result"
    }
   ],
   "source": [
    "# reading in csv file Liam created that contains coords of service locations:\n",
    "\n",
    "stationCoords = pd.read_csv('station_pc_latlong.csv')\n",
    "stationCoords.rename(columns={'Lat,long': 'WorkLatLon', 'Postcode': 'postcode'}, inplace=True)\n",
    "labels=['Latitude', 'Longitude']\n",
    "stationCoords.drop(labels=labels, axis=1, inplace=True)\n",
    "stationCoords.head()"
   ]
  },
  {
   "cell_type": "code",
   "execution_count": 30,
   "metadata": {},
   "outputs": [],
   "source": [
    "stationCoords['postcode'] = stationCoords['postcode'].astype(str)\n",
    "staffLocations['postcode'] = staffLocations['postcode'].astype(str)"
   ]
  },
  {
   "cell_type": "code",
   "execution_count": 31,
   "metadata": {},
   "outputs": [],
   "source": [
    "stationCoords.drop_duplicates('postcode', keep='first', inplace=True)"
   ]
  },
  {
   "cell_type": "code",
   "execution_count": 32,
   "metadata": {
    "scrolled": false
   },
   "outputs": [
    {
     "data": {
      "text/plain": [
       "5712"
      ]
     },
     "execution_count": 32,
     "metadata": {},
     "output_type": "execute_result"
    }
   ],
   "source": [
    "staffFinal = staffLocations.merge(right=stationCoords, how='inner', on='postcode')\n",
    "len(staffFinal)"
   ]
  },
  {
   "cell_type": "code",
   "execution_count": 33,
   "metadata": {},
   "outputs": [],
   "source": [
    "staffFinal.rename(columns={'location': 'WorkLocation', 'locationaddress': 'WorkAddress', 'postcode': 'WorkPostcode',\n",
    "                              'esrLocationFull': 'WorkLocationFull', 'centroids_str': 'ResLatLon'}, inplace=True)"
   ]
  },
  {
   "cell_type": "code",
   "execution_count": 34,
   "metadata": {},
   "outputs": [],
   "source": [
    "staffFinal['travelDuration'] = ''"
   ]
  },
  {
   "cell_type": "code",
   "execution_count": 102,
   "metadata": {},
   "outputs": [
    {
     "name": "stderr",
     "output_type": "stream",
     "text": [
      "C:\\Users\\rachelsim\\Anaconda3\\lib\\site-packages\\ipykernel_launcher.py:10: SettingWithCopyWarning: \n",
      "A value is trying to be set on a copy of a slice from a DataFrame\n",
      "\n",
      "See the caveats in the documentation: http://pandas.pydata.org/pandas-docs/stable/indexing.html#indexing-view-versus-copy\n",
      "  # Remove the CWD from sys.path while we load stuff.\n",
      "C:\\Users\\rachelsim\\Anaconda3\\lib\\site-packages\\ipykernel_launcher.py:12: SettingWithCopyWarning: \n",
      "A value is trying to be set on a copy of a slice from a DataFrame\n",
      "\n",
      "See the caveats in the documentation: http://pandas.pydata.org/pandas-docs/stable/indexing.html#indexing-view-versus-copy\n",
      "  if sys.path[0] == '':\n"
     ]
    }
   ],
   "source": [
    "# extracting duration from api\n",
    "for i in range(0, 5712):\n",
    "    startloc = staffFinal['ResLatLon'][i]\n",
    "    endloc = staffFinal['WorkLatLon'][i]\n",
    "    requrl = \"https://api.tfl.gov.uk/Journey/JourneyResults/\" + str(startloc) + \"/to/\" + str(endloc)\n",
    "    tflpayload = {'key': tfl_key}\n",
    "    \n",
    "    getreq = requests.get(requrl)\n",
    "    jp = getreq.json()\n",
    "    try:\n",
    "        staffFinal['travelDuration'][i] = jp['journeys'][0]['duration']\n",
    "    except:\n",
    "        staffFinal['travelDuration'][i] = np.nan"
   ]
  },
  {
   "cell_type": "code",
   "execution_count": 109,
   "metadata": {},
   "outputs": [
    {
     "data": {
      "text/html": [
       "<div>\n",
       "<style scoped>\n",
       "    .dataframe tbody tr th:only-of-type {\n",
       "        vertical-align: middle;\n",
       "    }\n",
       "\n",
       "    .dataframe tbody tr th {\n",
       "        vertical-align: top;\n",
       "    }\n",
       "\n",
       "    .dataframe thead th {\n",
       "        text-align: right;\n",
       "    }\n",
       "</style>\n",
       "<table border=\"1\" class=\"dataframe\">\n",
       "  <thead>\n",
       "    <tr style=\"text-align: right;\">\n",
       "      <th></th>\n",
       "      <th>IDnumber</th>\n",
       "      <th>Board</th>\n",
       "      <th>Division</th>\n",
       "      <th>Directorate</th>\n",
       "      <th>Locality</th>\n",
       "      <th>Service</th>\n",
       "      <th>Department</th>\n",
       "      <th>Location</th>\n",
       "      <th>Gender</th>\n",
       "      <th>AgeBand</th>\n",
       "      <th>...</th>\n",
       "      <th>LengthOfService(YearsFloat)</th>\n",
       "      <th>StartMonth</th>\n",
       "      <th>WorkLocation</th>\n",
       "      <th>WorkAddress</th>\n",
       "      <th>WorkPostcode</th>\n",
       "      <th>WorkLocationFull</th>\n",
       "      <th>manual</th>\n",
       "      <th>ResLatLon</th>\n",
       "      <th>WorkLatLon</th>\n",
       "      <th>travelDuration</th>\n",
       "    </tr>\n",
       "  </thead>\n",
       "  <tbody>\n",
       "    <tr>\n",
       "      <th>5707</th>\n",
       "      <td>10549800</td>\n",
       "      <td>308 Operations L3</td>\n",
       "      <td>308 OPS Operations Directorate L4</td>\n",
       "      <td>308 SEC Sector Operations L5</td>\n",
       "      <td>308 SEC North West Sector L6</td>\n",
       "      <td>308 SEC Fulham Group Station L7</td>\n",
       "      <td>308 SEC Chiswick Ambulance Station</td>\n",
       "      <td>308 07 C2 Chiswick</td>\n",
       "      <td>Male</td>\n",
       "      <td>56-60</td>\n",
       "      <td>...</td>\n",
       "      <td>18.750000</td>\n",
       "      <td>5</td>\n",
       "      <td>Chiswick</td>\n",
       "      <td>Chiswick Ambulance Station 368 Goldhawk Road L...</td>\n",
       "      <td>W6 0XF</td>\n",
       "      <td>308 07 C2 Chiswick</td>\n",
       "      <td>0</td>\n",
       "      <td>50.77709013849093,0.3056773437201214</td>\n",
       "      <td>51.497169,-0.24430627</td>\n",
       "      <td>NaN</td>\n",
       "    </tr>\n",
       "    <tr>\n",
       "      <th>5708</th>\n",
       "      <td>21201197</td>\n",
       "      <td>308 Operations L3</td>\n",
       "      <td>308 OPS Operations Directorate L4</td>\n",
       "      <td>308 SEC Sector Operations L5</td>\n",
       "      <td>308 SEC North West Sector L6</td>\n",
       "      <td>308 SEC Fulham Group Station L7</td>\n",
       "      <td>308 SEC Chiswick Ambulance Station</td>\n",
       "      <td>308 07 C2 Chiswick</td>\n",
       "      <td>Male</td>\n",
       "      <td>36-40</td>\n",
       "      <td>...</td>\n",
       "      <td>10.083333</td>\n",
       "      <td>1</td>\n",
       "      <td>Chiswick</td>\n",
       "      <td>Chiswick Ambulance Station 368 Goldhawk Road L...</td>\n",
       "      <td>W6 0XF</td>\n",
       "      <td>308 07 C2 Chiswick</td>\n",
       "      <td>0</td>\n",
       "      <td>51.71780025852933,-0.3684661818247322</td>\n",
       "      <td>51.497169,-0.24430627</td>\n",
       "      <td>111</td>\n",
       "    </tr>\n",
       "    <tr>\n",
       "      <th>5709</th>\n",
       "      <td>10549695</td>\n",
       "      <td>308 Operations L3</td>\n",
       "      <td>308 OPS Operations Directorate L4</td>\n",
       "      <td>308 SEC Sector Operations L5</td>\n",
       "      <td>308 SEC North West Sector L6</td>\n",
       "      <td>308 SEC Fulham Group Station L7</td>\n",
       "      <td>308 SEC Chiswick Ambulance Station</td>\n",
       "      <td>308 07 C2 Chiswick</td>\n",
       "      <td>Male</td>\n",
       "      <td>56-60</td>\n",
       "      <td>...</td>\n",
       "      <td>18.083333</td>\n",
       "      <td>1</td>\n",
       "      <td>Chiswick</td>\n",
       "      <td>Chiswick Ambulance Station 368 Goldhawk Road L...</td>\n",
       "      <td>W6 0XF</td>\n",
       "      <td>308 07 C2 Chiswick</td>\n",
       "      <td>0</td>\n",
       "      <td>51.48621040924726,-0.4736292199737025</td>\n",
       "      <td>51.497169,-0.24430627</td>\n",
       "      <td>64</td>\n",
       "    </tr>\n",
       "    <tr>\n",
       "      <th>5710</th>\n",
       "      <td>10550341</td>\n",
       "      <td>308 Operations L3</td>\n",
       "      <td>308 OPS Operations Directorate L4</td>\n",
       "      <td>308 CEN Central Operations L5</td>\n",
       "      <td>308 CEN Resilience L6</td>\n",
       "      <td>308 CEN HART &amp; CBRN L7</td>\n",
       "      <td>308 CEN CBRN Unit</td>\n",
       "      <td>308 89 Richmond House</td>\n",
       "      <td>Male</td>\n",
       "      <td>66-70</td>\n",
       "      <td>...</td>\n",
       "      <td>38.083333</td>\n",
       "      <td>1</td>\n",
       "      <td>Richmond House</td>\n",
       "      <td>Richmond House 79 Whitehall LONDON SW1A 2NS</td>\n",
       "      <td>SW1A 2NS</td>\n",
       "      <td>308 89 Richmond House</td>\n",
       "      <td>0</td>\n",
       "      <td>51.54710678646012,0.1383245960252592</td>\n",
       "      <td>51.502486,-0.12531779</td>\n",
       "      <td>71</td>\n",
       "    </tr>\n",
       "    <tr>\n",
       "      <th>5711</th>\n",
       "      <td>10550382</td>\n",
       "      <td>308 Corporate L3</td>\n",
       "      <td>308 FIN Finance L4</td>\n",
       "      <td>308 FIN Finance L5</td>\n",
       "      <td>308 FIN Finance L6</td>\n",
       "      <td>308 FIN Finance L7</td>\n",
       "      <td>308 FIN Purchasing</td>\n",
       "      <td>308 75 Loman St</td>\n",
       "      <td>Male</td>\n",
       "      <td>61-65</td>\n",
       "      <td>...</td>\n",
       "      <td>16.666667</td>\n",
       "      <td>7</td>\n",
       "      <td>Loman St</td>\n",
       "      <td>LAS HQ Annexe - Loman Street 46 Loman Street L...</td>\n",
       "      <td>SE1 0EH</td>\n",
       "      <td>308 75 Loman St</td>\n",
       "      <td>0</td>\n",
       "      <td>51.2566615634815,-0.1854481151530184</td>\n",
       "      <td>51.502938,-0.099781186</td>\n",
       "      <td>85</td>\n",
       "    </tr>\n",
       "  </tbody>\n",
       "</table>\n",
       "<p>5 rows × 36 columns</p>\n",
       "</div>"
      ],
      "text/plain": [
       "      IDnumber              Board                           Division  \\\n",
       "5707  10549800  308 Operations L3  308 OPS Operations Directorate L4   \n",
       "5708  21201197  308 Operations L3  308 OPS Operations Directorate L4   \n",
       "5709  10549695  308 Operations L3  308 OPS Operations Directorate L4   \n",
       "5710  10550341  308 Operations L3  308 OPS Operations Directorate L4   \n",
       "5711  10550382   308 Corporate L3                 308 FIN Finance L4   \n",
       "\n",
       "                        Directorate                      Locality  \\\n",
       "5707   308 SEC Sector Operations L5  308 SEC North West Sector L6   \n",
       "5708   308 SEC Sector Operations L5  308 SEC North West Sector L6   \n",
       "5709   308 SEC Sector Operations L5  308 SEC North West Sector L6   \n",
       "5710  308 CEN Central Operations L5         308 CEN Resilience L6   \n",
       "5711             308 FIN Finance L5            308 FIN Finance L6   \n",
       "\n",
       "                              Service                          Department  \\\n",
       "5707  308 SEC Fulham Group Station L7  308 SEC Chiswick Ambulance Station   \n",
       "5708  308 SEC Fulham Group Station L7  308 SEC Chiswick Ambulance Station   \n",
       "5709  308 SEC Fulham Group Station L7  308 SEC Chiswick Ambulance Station   \n",
       "5710           308 CEN HART & CBRN L7                   308 CEN CBRN Unit   \n",
       "5711               308 FIN Finance L7                  308 FIN Purchasing   \n",
       "\n",
       "                   Location Gender AgeBand      ...        \\\n",
       "5707     308 07 C2 Chiswick   Male   56-60      ...         \n",
       "5708     308 07 C2 Chiswick   Male   36-40      ...         \n",
       "5709     308 07 C2 Chiswick   Male   56-60      ...         \n",
       "5710  308 89 Richmond House   Male   66-70      ...         \n",
       "5711        308 75 Loman St   Male   61-65      ...         \n",
       "\n",
       "     LengthOfService(YearsFloat) StartMonth    WorkLocation  \\\n",
       "5707                   18.750000          5        Chiswick   \n",
       "5708                   10.083333          1        Chiswick   \n",
       "5709                   18.083333          1        Chiswick   \n",
       "5710                   38.083333          1  Richmond House   \n",
       "5711                   16.666667          7        Loman St   \n",
       "\n",
       "                                            WorkAddress  WorkPostcode  \\\n",
       "5707  Chiswick Ambulance Station 368 Goldhawk Road L...        W6 0XF   \n",
       "5708  Chiswick Ambulance Station 368 Goldhawk Road L...        W6 0XF   \n",
       "5709  Chiswick Ambulance Station 368 Goldhawk Road L...        W6 0XF   \n",
       "5710        Richmond House 79 Whitehall LONDON SW1A 2NS      SW1A 2NS   \n",
       "5711  LAS HQ Annexe - Loman Street 46 Loman Street L...       SE1 0EH   \n",
       "\n",
       "           WorkLocationFull manual                              ResLatLon  \\\n",
       "5707     308 07 C2 Chiswick      0   50.77709013849093,0.3056773437201214   \n",
       "5708     308 07 C2 Chiswick      0  51.71780025852933,-0.3684661818247322   \n",
       "5709     308 07 C2 Chiswick      0  51.48621040924726,-0.4736292199737025   \n",
       "5710  308 89 Richmond House      0   51.54710678646012,0.1383245960252592   \n",
       "5711        308 75 Loman St      0   51.2566615634815,-0.1854481151530184   \n",
       "\n",
       "                  WorkLatLon travelDuration  \n",
       "5707   51.497169,-0.24430627            NaN  \n",
       "5708   51.497169,-0.24430627            111  \n",
       "5709   51.497169,-0.24430627             64  \n",
       "5710   51.502486,-0.12531779             71  \n",
       "5711  51.502938,-0.099781186             85  \n",
       "\n",
       "[5 rows x 36 columns]"
      ]
     },
     "execution_count": 109,
     "metadata": {},
     "output_type": "execute_result"
    }
   ],
   "source": [
    "staffFinal.tail()"
   ]
  },
  {
   "cell_type": "code",
   "execution_count": 108,
   "metadata": {},
   "outputs": [],
   "source": [
    "staffFinal.to_csv('staffFinal_v3.csv', index=False)"
   ]
  },
  {
   "cell_type": "code",
   "execution_count": 118,
   "metadata": {},
   "outputs": [
    {
     "data": {
      "text/html": [
       "<div>\n",
       "<style scoped>\n",
       "    .dataframe tbody tr th:only-of-type {\n",
       "        vertical-align: middle;\n",
       "    }\n",
       "\n",
       "    .dataframe tbody tr th {\n",
       "        vertical-align: top;\n",
       "    }\n",
       "\n",
       "    .dataframe thead th {\n",
       "        text-align: right;\n",
       "    }\n",
       "</style>\n",
       "<table border=\"1\" class=\"dataframe\">\n",
       "  <thead>\n",
       "    <tr style=\"text-align: right;\">\n",
       "      <th></th>\n",
       "      <th>IDnumber</th>\n",
       "      <th>Board</th>\n",
       "      <th>Division</th>\n",
       "      <th>Directorate</th>\n",
       "      <th>Locality</th>\n",
       "      <th>Service</th>\n",
       "      <th>Department</th>\n",
       "      <th>Location</th>\n",
       "      <th>Gender</th>\n",
       "      <th>AgeBand</th>\n",
       "      <th>...</th>\n",
       "      <th>WorkLocation</th>\n",
       "      <th>WorkAddress</th>\n",
       "      <th>WorkPostcode</th>\n",
       "      <th>WorkLocationFull</th>\n",
       "      <th>manual</th>\n",
       "      <th>ResLatLon</th>\n",
       "      <th>WorkLatLon</th>\n",
       "      <th>travelDuration</th>\n",
       "      <th>ResLat</th>\n",
       "      <th>ResLon</th>\n",
       "    </tr>\n",
       "  </thead>\n",
       "  <tbody>\n",
       "    <tr>\n",
       "      <th>0</th>\n",
       "      <td>25408862</td>\n",
       "      <td>308 Operations L3</td>\n",
       "      <td>308 OPS Operations Directorate L4</td>\n",
       "      <td>308 SEC Sector Operations L5</td>\n",
       "      <td>308 SEC North Central Sector L6</td>\n",
       "      <td>308 SEC Edmonton Group Station L7</td>\n",
       "      <td>308 SEC Edmonton Ambulance Station</td>\n",
       "      <td>308 28 H3 Edmonton</td>\n",
       "      <td>Male</td>\n",
       "      <td>26-30</td>\n",
       "      <td>...</td>\n",
       "      <td>Edmonton</td>\n",
       "      <td>Edmonton Ambulance Station Windmill Road Londo...</td>\n",
       "      <td>N18 1NJ</td>\n",
       "      <td>308 28 H3 Edmonton</td>\n",
       "      <td>0</td>\n",
       "      <td>51.65638844462026,-0.02822827882205483</td>\n",
       "      <td>51.619499,-0.081047958</td>\n",
       "      <td>65</td>\n",
       "      <td>51.65638844462026</td>\n",
       "      <td>-0.02822827882205483</td>\n",
       "    </tr>\n",
       "    <tr>\n",
       "      <th>1</th>\n",
       "      <td>10547942</td>\n",
       "      <td>308 Operations L3</td>\n",
       "      <td>308 OPS Operations Directorate L4</td>\n",
       "      <td>308 SEC Sector Operations L5</td>\n",
       "      <td>308 SEC North Central Sector L6</td>\n",
       "      <td>308 SEC Edmonton Group Station L7</td>\n",
       "      <td>308 SEC Edmonton Ambulance Station</td>\n",
       "      <td>308 28 H3 Edmonton</td>\n",
       "      <td>Male</td>\n",
       "      <td>51-55</td>\n",
       "      <td>...</td>\n",
       "      <td>Edmonton</td>\n",
       "      <td>Edmonton Ambulance Station Windmill Road Londo...</td>\n",
       "      <td>N18 1NJ</td>\n",
       "      <td>308 28 H3 Edmonton</td>\n",
       "      <td>0</td>\n",
       "      <td>51.69319400654601,0.3566157610526208</td>\n",
       "      <td>51.619499,-0.081047958</td>\n",
       "      <td>154</td>\n",
       "      <td>51.69319400654601</td>\n",
       "      <td>0.3566157610526208</td>\n",
       "    </tr>\n",
       "    <tr>\n",
       "      <th>2</th>\n",
       "      <td>24119591</td>\n",
       "      <td>308 Operations L3</td>\n",
       "      <td>308 OPS Operations Directorate L4</td>\n",
       "      <td>308 SEC Sector Operations L5</td>\n",
       "      <td>308 SEC North Central Sector L6</td>\n",
       "      <td>308 SEC Edmonton Group Station L7</td>\n",
       "      <td>308 SEC Edmonton Ambulance Station</td>\n",
       "      <td>308 28 H3 Edmonton</td>\n",
       "      <td>Male</td>\n",
       "      <td>26-30</td>\n",
       "      <td>...</td>\n",
       "      <td>Edmonton</td>\n",
       "      <td>Edmonton Ambulance Station Windmill Road Londo...</td>\n",
       "      <td>N18 1NJ</td>\n",
       "      <td>308 28 H3 Edmonton</td>\n",
       "      <td>0</td>\n",
       "      <td>51.6830515470273,0.03322743300823042</td>\n",
       "      <td>51.619499,-0.081047958</td>\n",
       "      <td>119</td>\n",
       "      <td>51.6830515470273</td>\n",
       "      <td>0.03322743300823042</td>\n",
       "    </tr>\n",
       "    <tr>\n",
       "      <th>3</th>\n",
       "      <td>10548486</td>\n",
       "      <td>308 Operations L3</td>\n",
       "      <td>308 OPS Operations Directorate L4</td>\n",
       "      <td>308 SEC Sector Operations L5</td>\n",
       "      <td>308 SEC North Central Sector L6</td>\n",
       "      <td>308 SEC Edmonton Group Station L7</td>\n",
       "      <td>308 SEC Edmonton Management &amp; Admin</td>\n",
       "      <td>308 28 H3 Edmonton</td>\n",
       "      <td>Female</td>\n",
       "      <td>46-50</td>\n",
       "      <td>...</td>\n",
       "      <td>Edmonton</td>\n",
       "      <td>Edmonton Ambulance Station Windmill Road Londo...</td>\n",
       "      <td>N18 1NJ</td>\n",
       "      <td>308 28 H3 Edmonton</td>\n",
       "      <td>0</td>\n",
       "      <td>51.6830515470273,0.03322743300823042</td>\n",
       "      <td>51.619499,-0.081047958</td>\n",
       "      <td>119</td>\n",
       "      <td>51.6830515470273</td>\n",
       "      <td>0.03322743300823042</td>\n",
       "    </tr>\n",
       "    <tr>\n",
       "      <th>4</th>\n",
       "      <td>23892265</td>\n",
       "      <td>308 Operations L3</td>\n",
       "      <td>308 OPS Operations Directorate L4</td>\n",
       "      <td>308 SEC Sector Operations L5</td>\n",
       "      <td>308 SEC North Central Sector L6</td>\n",
       "      <td>308 SEC Edmonton Group Station L7</td>\n",
       "      <td>308 SEC Edmonton Ambulance Station</td>\n",
       "      <td>308 28 H3 Edmonton</td>\n",
       "      <td>Male</td>\n",
       "      <td>26-30</td>\n",
       "      <td>...</td>\n",
       "      <td>Edmonton</td>\n",
       "      <td>Edmonton Ambulance Station Windmill Road Londo...</td>\n",
       "      <td>N18 1NJ</td>\n",
       "      <td>308 28 H3 Edmonton</td>\n",
       "      <td>0</td>\n",
       "      <td>51.52112562830071,-0.06372390048071021</td>\n",
       "      <td>51.619499,-0.081047958</td>\n",
       "      <td>61</td>\n",
       "      <td>51.52112562830071</td>\n",
       "      <td>-0.06372390048071021</td>\n",
       "    </tr>\n",
       "  </tbody>\n",
       "</table>\n",
       "<p>5 rows × 38 columns</p>\n",
       "</div>"
      ],
      "text/plain": [
       "   IDnumber              Board                           Division  \\\n",
       "0  25408862  308 Operations L3  308 OPS Operations Directorate L4   \n",
       "1  10547942  308 Operations L3  308 OPS Operations Directorate L4   \n",
       "2  24119591  308 Operations L3  308 OPS Operations Directorate L4   \n",
       "3  10548486  308 Operations L3  308 OPS Operations Directorate L4   \n",
       "4  23892265  308 Operations L3  308 OPS Operations Directorate L4   \n",
       "\n",
       "                    Directorate                         Locality  \\\n",
       "0  308 SEC Sector Operations L5  308 SEC North Central Sector L6   \n",
       "1  308 SEC Sector Operations L5  308 SEC North Central Sector L6   \n",
       "2  308 SEC Sector Operations L5  308 SEC North Central Sector L6   \n",
       "3  308 SEC Sector Operations L5  308 SEC North Central Sector L6   \n",
       "4  308 SEC Sector Operations L5  308 SEC North Central Sector L6   \n",
       "\n",
       "                             Service                           Department  \\\n",
       "0  308 SEC Edmonton Group Station L7   308 SEC Edmonton Ambulance Station   \n",
       "1  308 SEC Edmonton Group Station L7   308 SEC Edmonton Ambulance Station   \n",
       "2  308 SEC Edmonton Group Station L7   308 SEC Edmonton Ambulance Station   \n",
       "3  308 SEC Edmonton Group Station L7  308 SEC Edmonton Management & Admin   \n",
       "4  308 SEC Edmonton Group Station L7   308 SEC Edmonton Ambulance Station   \n",
       "\n",
       "             Location  Gender AgeBand          ...          WorkLocation  \\\n",
       "0  308 28 H3 Edmonton    Male   26-30          ...              Edmonton   \n",
       "1  308 28 H3 Edmonton    Male   51-55          ...              Edmonton   \n",
       "2  308 28 H3 Edmonton    Male   26-30          ...              Edmonton   \n",
       "3  308 28 H3 Edmonton  Female   46-50          ...              Edmonton   \n",
       "4  308 28 H3 Edmonton    Male   26-30          ...              Edmonton   \n",
       "\n",
       "                                         WorkAddress WorkPostcode  \\\n",
       "0  Edmonton Ambulance Station Windmill Road Londo...      N18 1NJ   \n",
       "1  Edmonton Ambulance Station Windmill Road Londo...      N18 1NJ   \n",
       "2  Edmonton Ambulance Station Windmill Road Londo...      N18 1NJ   \n",
       "3  Edmonton Ambulance Station Windmill Road Londo...      N18 1NJ   \n",
       "4  Edmonton Ambulance Station Windmill Road Londo...      N18 1NJ   \n",
       "\n",
       "     WorkLocationFull  manual                               ResLatLon  \\\n",
       "0  308 28 H3 Edmonton       0  51.65638844462026,-0.02822827882205483   \n",
       "1  308 28 H3 Edmonton       0    51.69319400654601,0.3566157610526208   \n",
       "2  308 28 H3 Edmonton       0    51.6830515470273,0.03322743300823042   \n",
       "3  308 28 H3 Edmonton       0    51.6830515470273,0.03322743300823042   \n",
       "4  308 28 H3 Edmonton       0  51.52112562830071,-0.06372390048071021   \n",
       "\n",
       "               WorkLatLon  travelDuration             ResLat  \\\n",
       "0  51.619499,-0.081047958              65  51.65638844462026   \n",
       "1  51.619499,-0.081047958             154  51.69319400654601   \n",
       "2  51.619499,-0.081047958             119   51.6830515470273   \n",
       "3  51.619499,-0.081047958             119   51.6830515470273   \n",
       "4  51.619499,-0.081047958              61  51.52112562830071   \n",
       "\n",
       "                 ResLon  \n",
       "0  -0.02822827882205483  \n",
       "1    0.3566157610526208  \n",
       "2   0.03322743300823042  \n",
       "3   0.03322743300823042  \n",
       "4  -0.06372390048071021  \n",
       "\n",
       "[5 rows x 38 columns]"
      ]
     },
     "execution_count": 118,
     "metadata": {},
     "output_type": "execute_result"
    }
   ],
   "source": [
    "staffFinal['ResLat'] = staffFinal['ResLatLon'].str.split(pat=',', expand=True)[0]\n",
    "staffFinal['ResLon'] = staffFinal['ResLatLon'].str.split(pat=',', expand=True)[1]\n",
    "staffFinal.head()"
   ]
  },
  {
   "cell_type": "code",
   "execution_count": 119,
   "metadata": {},
   "outputs": [
    {
     "data": {
      "text/html": [
       "<div>\n",
       "<style scoped>\n",
       "    .dataframe tbody tr th:only-of-type {\n",
       "        vertical-align: middle;\n",
       "    }\n",
       "\n",
       "    .dataframe tbody tr th {\n",
       "        vertical-align: top;\n",
       "    }\n",
       "\n",
       "    .dataframe thead th {\n",
       "        text-align: right;\n",
       "    }\n",
       "</style>\n",
       "<table border=\"1\" class=\"dataframe\">\n",
       "  <thead>\n",
       "    <tr style=\"text-align: right;\">\n",
       "      <th></th>\n",
       "      <th>IDnumber</th>\n",
       "      <th>Board</th>\n",
       "      <th>Division</th>\n",
       "      <th>Directorate</th>\n",
       "      <th>Locality</th>\n",
       "      <th>Service</th>\n",
       "      <th>Department</th>\n",
       "      <th>Location</th>\n",
       "      <th>Gender</th>\n",
       "      <th>AgeBand</th>\n",
       "      <th>...</th>\n",
       "      <th>WorkPostcode</th>\n",
       "      <th>WorkLocationFull</th>\n",
       "      <th>manual</th>\n",
       "      <th>ResLatLon</th>\n",
       "      <th>WorkLatLon</th>\n",
       "      <th>travelDuration</th>\n",
       "      <th>ResLat</th>\n",
       "      <th>ResLon</th>\n",
       "      <th>WorkLat</th>\n",
       "      <th>WorkLon</th>\n",
       "    </tr>\n",
       "  </thead>\n",
       "  <tbody>\n",
       "    <tr>\n",
       "      <th>0</th>\n",
       "      <td>25408862</td>\n",
       "      <td>308 Operations L3</td>\n",
       "      <td>308 OPS Operations Directorate L4</td>\n",
       "      <td>308 SEC Sector Operations L5</td>\n",
       "      <td>308 SEC North Central Sector L6</td>\n",
       "      <td>308 SEC Edmonton Group Station L7</td>\n",
       "      <td>308 SEC Edmonton Ambulance Station</td>\n",
       "      <td>308 28 H3 Edmonton</td>\n",
       "      <td>Male</td>\n",
       "      <td>26-30</td>\n",
       "      <td>...</td>\n",
       "      <td>N18 1NJ</td>\n",
       "      <td>308 28 H3 Edmonton</td>\n",
       "      <td>0</td>\n",
       "      <td>51.65638844462026,-0.02822827882205483</td>\n",
       "      <td>51.619499,-0.081047958</td>\n",
       "      <td>65</td>\n",
       "      <td>51.65638844462026</td>\n",
       "      <td>-0.02822827882205483</td>\n",
       "      <td>51.619499</td>\n",
       "      <td>-0.081047958</td>\n",
       "    </tr>\n",
       "    <tr>\n",
       "      <th>1</th>\n",
       "      <td>10547942</td>\n",
       "      <td>308 Operations L3</td>\n",
       "      <td>308 OPS Operations Directorate L4</td>\n",
       "      <td>308 SEC Sector Operations L5</td>\n",
       "      <td>308 SEC North Central Sector L6</td>\n",
       "      <td>308 SEC Edmonton Group Station L7</td>\n",
       "      <td>308 SEC Edmonton Ambulance Station</td>\n",
       "      <td>308 28 H3 Edmonton</td>\n",
       "      <td>Male</td>\n",
       "      <td>51-55</td>\n",
       "      <td>...</td>\n",
       "      <td>N18 1NJ</td>\n",
       "      <td>308 28 H3 Edmonton</td>\n",
       "      <td>0</td>\n",
       "      <td>51.69319400654601,0.3566157610526208</td>\n",
       "      <td>51.619499,-0.081047958</td>\n",
       "      <td>154</td>\n",
       "      <td>51.69319400654601</td>\n",
       "      <td>0.3566157610526208</td>\n",
       "      <td>51.619499</td>\n",
       "      <td>-0.081047958</td>\n",
       "    </tr>\n",
       "    <tr>\n",
       "      <th>2</th>\n",
       "      <td>24119591</td>\n",
       "      <td>308 Operations L3</td>\n",
       "      <td>308 OPS Operations Directorate L4</td>\n",
       "      <td>308 SEC Sector Operations L5</td>\n",
       "      <td>308 SEC North Central Sector L6</td>\n",
       "      <td>308 SEC Edmonton Group Station L7</td>\n",
       "      <td>308 SEC Edmonton Ambulance Station</td>\n",
       "      <td>308 28 H3 Edmonton</td>\n",
       "      <td>Male</td>\n",
       "      <td>26-30</td>\n",
       "      <td>...</td>\n",
       "      <td>N18 1NJ</td>\n",
       "      <td>308 28 H3 Edmonton</td>\n",
       "      <td>0</td>\n",
       "      <td>51.6830515470273,0.03322743300823042</td>\n",
       "      <td>51.619499,-0.081047958</td>\n",
       "      <td>119</td>\n",
       "      <td>51.6830515470273</td>\n",
       "      <td>0.03322743300823042</td>\n",
       "      <td>51.619499</td>\n",
       "      <td>-0.081047958</td>\n",
       "    </tr>\n",
       "    <tr>\n",
       "      <th>3</th>\n",
       "      <td>10548486</td>\n",
       "      <td>308 Operations L3</td>\n",
       "      <td>308 OPS Operations Directorate L4</td>\n",
       "      <td>308 SEC Sector Operations L5</td>\n",
       "      <td>308 SEC North Central Sector L6</td>\n",
       "      <td>308 SEC Edmonton Group Station L7</td>\n",
       "      <td>308 SEC Edmonton Management &amp; Admin</td>\n",
       "      <td>308 28 H3 Edmonton</td>\n",
       "      <td>Female</td>\n",
       "      <td>46-50</td>\n",
       "      <td>...</td>\n",
       "      <td>N18 1NJ</td>\n",
       "      <td>308 28 H3 Edmonton</td>\n",
       "      <td>0</td>\n",
       "      <td>51.6830515470273,0.03322743300823042</td>\n",
       "      <td>51.619499,-0.081047958</td>\n",
       "      <td>119</td>\n",
       "      <td>51.6830515470273</td>\n",
       "      <td>0.03322743300823042</td>\n",
       "      <td>51.619499</td>\n",
       "      <td>-0.081047958</td>\n",
       "    </tr>\n",
       "    <tr>\n",
       "      <th>4</th>\n",
       "      <td>23892265</td>\n",
       "      <td>308 Operations L3</td>\n",
       "      <td>308 OPS Operations Directorate L4</td>\n",
       "      <td>308 SEC Sector Operations L5</td>\n",
       "      <td>308 SEC North Central Sector L6</td>\n",
       "      <td>308 SEC Edmonton Group Station L7</td>\n",
       "      <td>308 SEC Edmonton Ambulance Station</td>\n",
       "      <td>308 28 H3 Edmonton</td>\n",
       "      <td>Male</td>\n",
       "      <td>26-30</td>\n",
       "      <td>...</td>\n",
       "      <td>N18 1NJ</td>\n",
       "      <td>308 28 H3 Edmonton</td>\n",
       "      <td>0</td>\n",
       "      <td>51.52112562830071,-0.06372390048071021</td>\n",
       "      <td>51.619499,-0.081047958</td>\n",
       "      <td>61</td>\n",
       "      <td>51.52112562830071</td>\n",
       "      <td>-0.06372390048071021</td>\n",
       "      <td>51.619499</td>\n",
       "      <td>-0.081047958</td>\n",
       "    </tr>\n",
       "  </tbody>\n",
       "</table>\n",
       "<p>5 rows × 40 columns</p>\n",
       "</div>"
      ],
      "text/plain": [
       "   IDnumber              Board                           Division  \\\n",
       "0  25408862  308 Operations L3  308 OPS Operations Directorate L4   \n",
       "1  10547942  308 Operations L3  308 OPS Operations Directorate L4   \n",
       "2  24119591  308 Operations L3  308 OPS Operations Directorate L4   \n",
       "3  10548486  308 Operations L3  308 OPS Operations Directorate L4   \n",
       "4  23892265  308 Operations L3  308 OPS Operations Directorate L4   \n",
       "\n",
       "                    Directorate                         Locality  \\\n",
       "0  308 SEC Sector Operations L5  308 SEC North Central Sector L6   \n",
       "1  308 SEC Sector Operations L5  308 SEC North Central Sector L6   \n",
       "2  308 SEC Sector Operations L5  308 SEC North Central Sector L6   \n",
       "3  308 SEC Sector Operations L5  308 SEC North Central Sector L6   \n",
       "4  308 SEC Sector Operations L5  308 SEC North Central Sector L6   \n",
       "\n",
       "                             Service                           Department  \\\n",
       "0  308 SEC Edmonton Group Station L7   308 SEC Edmonton Ambulance Station   \n",
       "1  308 SEC Edmonton Group Station L7   308 SEC Edmonton Ambulance Station   \n",
       "2  308 SEC Edmonton Group Station L7   308 SEC Edmonton Ambulance Station   \n",
       "3  308 SEC Edmonton Group Station L7  308 SEC Edmonton Management & Admin   \n",
       "4  308 SEC Edmonton Group Station L7   308 SEC Edmonton Ambulance Station   \n",
       "\n",
       "             Location  Gender AgeBand      ...      WorkPostcode  \\\n",
       "0  308 28 H3 Edmonton    Male   26-30      ...           N18 1NJ   \n",
       "1  308 28 H3 Edmonton    Male   51-55      ...           N18 1NJ   \n",
       "2  308 28 H3 Edmonton    Male   26-30      ...           N18 1NJ   \n",
       "3  308 28 H3 Edmonton  Female   46-50      ...           N18 1NJ   \n",
       "4  308 28 H3 Edmonton    Male   26-30      ...           N18 1NJ   \n",
       "\n",
       "     WorkLocationFull manual                               ResLatLon  \\\n",
       "0  308 28 H3 Edmonton      0  51.65638844462026,-0.02822827882205483   \n",
       "1  308 28 H3 Edmonton      0    51.69319400654601,0.3566157610526208   \n",
       "2  308 28 H3 Edmonton      0    51.6830515470273,0.03322743300823042   \n",
       "3  308 28 H3 Edmonton      0    51.6830515470273,0.03322743300823042   \n",
       "4  308 28 H3 Edmonton      0  51.52112562830071,-0.06372390048071021   \n",
       "\n",
       "               WorkLatLon  travelDuration             ResLat  \\\n",
       "0  51.619499,-0.081047958              65  51.65638844462026   \n",
       "1  51.619499,-0.081047958             154  51.69319400654601   \n",
       "2  51.619499,-0.081047958             119   51.6830515470273   \n",
       "3  51.619499,-0.081047958             119   51.6830515470273   \n",
       "4  51.619499,-0.081047958              61  51.52112562830071   \n",
       "\n",
       "                 ResLon    WorkLat       WorkLon  \n",
       "0  -0.02822827882205483  51.619499  -0.081047958  \n",
       "1    0.3566157610526208  51.619499  -0.081047958  \n",
       "2   0.03322743300823042  51.619499  -0.081047958  \n",
       "3   0.03322743300823042  51.619499  -0.081047958  \n",
       "4  -0.06372390048071021  51.619499  -0.081047958  \n",
       "\n",
       "[5 rows x 40 columns]"
      ]
     },
     "execution_count": 119,
     "metadata": {},
     "output_type": "execute_result"
    }
   ],
   "source": [
    "staffFinal['WorkLat'] = staffFinal['WorkLatLon'].str.split(pat=',', expand=True)[0]\n",
    "staffFinal['WorkLon'] = staffFinal['WorkLatLon'].str.split(pat=',', expand=True)[1]\n",
    "staffFinal.head()"
   ]
  },
  {
   "cell_type": "code",
   "execution_count": 120,
   "metadata": {},
   "outputs": [],
   "source": [
    "staffFinal.to_csv('staffFinal_v4.csv', index=False)"
   ]
  },
  {
   "cell_type": "code",
   "execution_count": 133,
   "metadata": {},
   "outputs": [],
   "source": [
    "staffFinal.travelDuration = staffFinal.travelDuration.astype(float)"
   ]
  },
  {
   "cell_type": "code",
   "execution_count": 257,
   "metadata": {},
   "outputs": [
    {
     "data": {
      "text/plain": [
       "63.113862390907244"
      ]
     },
     "execution_count": 257,
     "metadata": {},
     "output_type": "execute_result"
    }
   ],
   "source": [
    "staffFinal.travelDuration.mean()"
   ]
  },
  {
   "cell_type": "code",
   "execution_count": 161,
   "metadata": {},
   "outputs": [
    {
     "data": {
      "text/plain": [
       "5712"
      ]
     },
     "execution_count": 161,
     "metadata": {},
     "output_type": "execute_result"
    }
   ],
   "source": [
    "len(staffFinal)"
   ]
  },
  {
   "cell_type": "code",
   "execution_count": 231,
   "metadata": {},
   "outputs": [
    {
     "name": "stderr",
     "output_type": "stream",
     "text": [
      "C:\\Users\\rachelsim\\Anaconda3\\lib\\site-packages\\ipykernel_launcher.py:3: SettingWithCopyWarning: \n",
      "A value is trying to be set on a copy of a slice from a DataFrame\n",
      "\n",
      "See the caveats in the documentation: http://pandas.pydata.org/pandas-docs/stable/indexing.html#indexing-view-versus-copy\n",
      "  This is separate from the ipykernel package so we can avoid doing imports until\n"
     ]
    },
    {
     "data": {
      "text/plain": [
       "4927"
      ]
     },
     "execution_count": 231,
     "metadata": {},
     "output_type": "execute_result"
    }
   ],
   "source": [
    "# dropping all travel durations of more than 2 hours (120 minutes) and NaNs\n",
    "labels = ['travelDuration']\n",
    "staffFinal.dropna(subset=labels, inplace=True)\n",
    "len(staffFinal)"
   ]
  },
  {
   "cell_type": "code",
   "execution_count": 232,
   "metadata": {},
   "outputs": [
    {
     "data": {
      "text/plain": [
       "4927"
      ]
     },
     "execution_count": 232,
     "metadata": {},
     "output_type": "execute_result"
    }
   ],
   "source": [
    "staffFinal = staffFinal[staffFinal['travelDuration'] <= 120]\n",
    "len(staffFinal)"
   ]
  },
  {
   "cell_type": "code",
   "execution_count": 233,
   "metadata": {
    "scrolled": true
   },
   "outputs": [
    {
     "data": {
      "text/html": [
       "<div>\n",
       "<style scoped>\n",
       "    .dataframe tbody tr th:only-of-type {\n",
       "        vertical-align: middle;\n",
       "    }\n",
       "\n",
       "    .dataframe tbody tr th {\n",
       "        vertical-align: top;\n",
       "    }\n",
       "\n",
       "    .dataframe thead th {\n",
       "        text-align: right;\n",
       "    }\n",
       "</style>\n",
       "<table border=\"1\" class=\"dataframe\">\n",
       "  <thead>\n",
       "    <tr style=\"text-align: right;\">\n",
       "      <th></th>\n",
       "      <th>WorkLatLon</th>\n",
       "      <th>meanDuration</th>\n",
       "    </tr>\n",
       "  </thead>\n",
       "  <tbody>\n",
       "    <tr>\n",
       "      <th>0</th>\n",
       "      <td>51.31631,-0.13485458</td>\n",
       "      <td>58.857143</td>\n",
       "    </tr>\n",
       "    <tr>\n",
       "      <th>1</th>\n",
       "      <td>51.347934,-0.20189584</td>\n",
       "      <td>75.312500</td>\n",
       "    </tr>\n",
       "    <tr>\n",
       "      <th>2</th>\n",
       "      <td>51.351158,-0.023605341</td>\n",
       "      <td>53.437500</td>\n",
       "    </tr>\n",
       "    <tr>\n",
       "      <th>3</th>\n",
       "      <td>51.358282,-0.112836</td>\n",
       "      <td>69.470588</td>\n",
       "    </tr>\n",
       "    <tr>\n",
       "      <th>4</th>\n",
       "      <td>51.375134,-0.095896548</td>\n",
       "      <td>55.215278</td>\n",
       "    </tr>\n",
       "  </tbody>\n",
       "</table>\n",
       "</div>"
      ],
      "text/plain": [
       "               WorkLatLon  meanDuration\n",
       "0    51.31631,-0.13485458     58.857143\n",
       "1   51.347934,-0.20189584     75.312500\n",
       "2  51.351158,-0.023605341     53.437500\n",
       "3     51.358282,-0.112836     69.470588\n",
       "4  51.375134,-0.095896548     55.215278"
      ]
     },
     "execution_count": 233,
     "metadata": {},
     "output_type": "execute_result"
    }
   ],
   "source": [
    "locationMeanTravel = pd.DataFrame(staffFinal.groupby('WorkLatLon')['travelDuration'].mean()).reset_index()\n",
    "locationMeanTravel.rename(columns={'travelDuration': 'meanDuration'}, inplace=True)\n",
    "locationMeanTravel.head()"
   ]
  },
  {
   "cell_type": "code",
   "execution_count": 234,
   "metadata": {},
   "outputs": [
    {
     "data": {
      "text/html": [
       "<div>\n",
       "<style scoped>\n",
       "    .dataframe tbody tr th:only-of-type {\n",
       "        vertical-align: middle;\n",
       "    }\n",
       "\n",
       "    .dataframe tbody tr th {\n",
       "        vertical-align: top;\n",
       "    }\n",
       "\n",
       "    .dataframe thead th {\n",
       "        text-align: right;\n",
       "    }\n",
       "</style>\n",
       "<table border=\"1\" class=\"dataframe\">\n",
       "  <thead>\n",
       "    <tr style=\"text-align: right;\">\n",
       "      <th></th>\n",
       "      <th>WorkLatLon</th>\n",
       "      <th>meanDuration</th>\n",
       "      <th>stdDuration</th>\n",
       "    </tr>\n",
       "  </thead>\n",
       "  <tbody>\n",
       "    <tr>\n",
       "      <th>0</th>\n",
       "      <td>51.31631,-0.13485458</td>\n",
       "      <td>58.857143</td>\n",
       "      <td>21.942566</td>\n",
       "    </tr>\n",
       "    <tr>\n",
       "      <th>1</th>\n",
       "      <td>51.347934,-0.20189584</td>\n",
       "      <td>75.312500</td>\n",
       "      <td>23.564716</td>\n",
       "    </tr>\n",
       "    <tr>\n",
       "      <th>2</th>\n",
       "      <td>51.351158,-0.023605341</td>\n",
       "      <td>53.437500</td>\n",
       "      <td>23.303701</td>\n",
       "    </tr>\n",
       "    <tr>\n",
       "      <th>3</th>\n",
       "      <td>51.358282,-0.112836</td>\n",
       "      <td>69.470588</td>\n",
       "      <td>26.664859</td>\n",
       "    </tr>\n",
       "    <tr>\n",
       "      <th>4</th>\n",
       "      <td>51.375134,-0.095896548</td>\n",
       "      <td>55.215278</td>\n",
       "      <td>21.567641</td>\n",
       "    </tr>\n",
       "  </tbody>\n",
       "</table>\n",
       "</div>"
      ],
      "text/plain": [
       "               WorkLatLon  meanDuration  stdDuration\n",
       "0    51.31631,-0.13485458     58.857143    21.942566\n",
       "1   51.347934,-0.20189584     75.312500    23.564716\n",
       "2  51.351158,-0.023605341     53.437500    23.303701\n",
       "3     51.358282,-0.112836     69.470588    26.664859\n",
       "4  51.375134,-0.095896548     55.215278    21.567641"
      ]
     },
     "execution_count": 234,
     "metadata": {},
     "output_type": "execute_result"
    }
   ],
   "source": [
    "locationStdTravel = pd.DataFrame(staffFinal.groupby('WorkLatLon')['travelDuration'].std()).reset_index()\n",
    "locationStdTravel.rename(columns={'travelDuration': 'stdDuration'}, inplace=True)\n",
    "locationTravel = locationMeanTravel.merge(locationStdTravel, on='WorkLatLon')\n",
    "locationTravel.head()"
   ]
  },
  {
   "cell_type": "code",
   "execution_count": 235,
   "metadata": {},
   "outputs": [
    {
     "data": {
      "text/html": [
       "<div>\n",
       "<style scoped>\n",
       "    .dataframe tbody tr th:only-of-type {\n",
       "        vertical-align: middle;\n",
       "    }\n",
       "\n",
       "    .dataframe tbody tr th {\n",
       "        vertical-align: top;\n",
       "    }\n",
       "\n",
       "    .dataframe thead th {\n",
       "        text-align: right;\n",
       "    }\n",
       "</style>\n",
       "<table border=\"1\" class=\"dataframe\">\n",
       "  <thead>\n",
       "    <tr style=\"text-align: right;\">\n",
       "      <th></th>\n",
       "      <th>WorkLatLon</th>\n",
       "      <th>meanDuration</th>\n",
       "      <th>stdDuration</th>\n",
       "      <th>counts</th>\n",
       "    </tr>\n",
       "  </thead>\n",
       "  <tbody>\n",
       "    <tr>\n",
       "      <th>0</th>\n",
       "      <td>51.31631,-0.13485458</td>\n",
       "      <td>58.857143</td>\n",
       "      <td>21.942566</td>\n",
       "      <td>7</td>\n",
       "    </tr>\n",
       "    <tr>\n",
       "      <th>1</th>\n",
       "      <td>51.347934,-0.20189584</td>\n",
       "      <td>75.312500</td>\n",
       "      <td>23.564716</td>\n",
       "      <td>16</td>\n",
       "    </tr>\n",
       "    <tr>\n",
       "      <th>2</th>\n",
       "      <td>51.351158,-0.023605341</td>\n",
       "      <td>53.437500</td>\n",
       "      <td>23.303701</td>\n",
       "      <td>16</td>\n",
       "    </tr>\n",
       "    <tr>\n",
       "      <th>3</th>\n",
       "      <td>51.358282,-0.112836</td>\n",
       "      <td>69.470588</td>\n",
       "      <td>26.664859</td>\n",
       "      <td>17</td>\n",
       "    </tr>\n",
       "    <tr>\n",
       "      <th>4</th>\n",
       "      <td>51.375134,-0.095896548</td>\n",
       "      <td>55.215278</td>\n",
       "      <td>21.567641</td>\n",
       "      <td>144</td>\n",
       "    </tr>\n",
       "  </tbody>\n",
       "</table>\n",
       "</div>"
      ],
      "text/plain": [
       "               WorkLatLon  meanDuration  stdDuration  counts\n",
       "0    51.31631,-0.13485458     58.857143    21.942566       7\n",
       "1   51.347934,-0.20189584     75.312500    23.564716      16\n",
       "2  51.351158,-0.023605341     53.437500    23.303701      16\n",
       "3     51.358282,-0.112836     69.470588    26.664859      17\n",
       "4  51.375134,-0.095896548     55.215278    21.567641     144"
      ]
     },
     "execution_count": 235,
     "metadata": {},
     "output_type": "execute_result"
    }
   ],
   "source": [
    "locationCount = pd.DataFrame(staffFinal.groupby('WorkLatLon')['travelDuration'].count()).reset_index()\n",
    "locationCount.rename(columns={'travelDuration': 'counts'}, inplace=True)\n",
    "locationTravel = locationTravel.merge(locationCount, on='WorkLatLon')\n",
    "locationTravel.head()"
   ]
  },
  {
   "cell_type": "code",
   "execution_count": 236,
   "metadata": {},
   "outputs": [
    {
     "data": {
      "text/html": [
       "<div>\n",
       "<style scoped>\n",
       "    .dataframe tbody tr th:only-of-type {\n",
       "        vertical-align: middle;\n",
       "    }\n",
       "\n",
       "    .dataframe tbody tr th {\n",
       "        vertical-align: top;\n",
       "    }\n",
       "\n",
       "    .dataframe thead th {\n",
       "        text-align: right;\n",
       "    }\n",
       "</style>\n",
       "<table border=\"1\" class=\"dataframe\">\n",
       "  <thead>\n",
       "    <tr style=\"text-align: right;\">\n",
       "      <th></th>\n",
       "      <th>WorkLatLon</th>\n",
       "      <th>meanDuration</th>\n",
       "      <th>stdDuration</th>\n",
       "      <th>counts</th>\n",
       "      <th>WorkLat</th>\n",
       "      <th>WorkLon</th>\n",
       "    </tr>\n",
       "  </thead>\n",
       "  <tbody>\n",
       "    <tr>\n",
       "      <th>6</th>\n",
       "      <td>51.3813829,-0.28092</td>\n",
       "      <td>103.500000</td>\n",
       "      <td>4.434712</td>\n",
       "      <td>4</td>\n",
       "      <td>51.3813829</td>\n",
       "      <td>-0.28092</td>\n",
       "    </tr>\n",
       "    <tr>\n",
       "      <th>44</th>\n",
       "      <td>51.502938,-0.099781186</td>\n",
       "      <td>85.000000</td>\n",
       "      <td>NaN</td>\n",
       "      <td>1</td>\n",
       "      <td>51.502938</td>\n",
       "      <td>-0.099781186</td>\n",
       "    </tr>\n",
       "    <tr>\n",
       "      <th>50</th>\n",
       "      <td>51.519023,-0.42294326</td>\n",
       "      <td>85.000000</td>\n",
       "      <td>22.768399</td>\n",
       "      <td>11</td>\n",
       "      <td>51.519023</td>\n",
       "      <td>-0.42294326</td>\n",
       "    </tr>\n",
       "    <tr>\n",
       "      <th>14</th>\n",
       "      <td>51.435405,-0.3485945</td>\n",
       "      <td>82.600000</td>\n",
       "      <td>27.844209</td>\n",
       "      <td>5</td>\n",
       "      <td>51.435405</td>\n",
       "      <td>-0.3485945</td>\n",
       "    </tr>\n",
       "    <tr>\n",
       "      <th>78</th>\n",
       "      <td>51.600825,-0.0099532752</td>\n",
       "      <td>77.550000</td>\n",
       "      <td>29.810763</td>\n",
       "      <td>20</td>\n",
       "      <td>51.600825</td>\n",
       "      <td>-0.0099532752</td>\n",
       "    </tr>\n",
       "    <tr>\n",
       "      <th>26</th>\n",
       "      <td>51.468751,-0.3329068</td>\n",
       "      <td>76.900000</td>\n",
       "      <td>31.462323</td>\n",
       "      <td>10</td>\n",
       "      <td>51.468751</td>\n",
       "      <td>-0.3329068</td>\n",
       "    </tr>\n",
       "    <tr>\n",
       "      <th>30</th>\n",
       "      <td>51.480192,-0.45862957</td>\n",
       "      <td>75.933333</td>\n",
       "      <td>25.237349</td>\n",
       "      <td>15</td>\n",
       "      <td>51.480192</td>\n",
       "      <td>-0.45862957</td>\n",
       "    </tr>\n",
       "    <tr>\n",
       "      <th>11</th>\n",
       "      <td>51.402558,0.10310494</td>\n",
       "      <td>75.642857</td>\n",
       "      <td>29.565071</td>\n",
       "      <td>14</td>\n",
       "      <td>51.402558</td>\n",
       "      <td>0.10310494</td>\n",
       "    </tr>\n",
       "    <tr>\n",
       "      <th>85</th>\n",
       "      <td>51.665903,-0.10672184</td>\n",
       "      <td>75.555556</td>\n",
       "      <td>21.973841</td>\n",
       "      <td>18</td>\n",
       "      <td>51.665903</td>\n",
       "      <td>-0.10672184</td>\n",
       "    </tr>\n",
       "    <tr>\n",
       "      <th>1</th>\n",
       "      <td>51.347934,-0.20189584</td>\n",
       "      <td>75.312500</td>\n",
       "      <td>23.564716</td>\n",
       "      <td>16</td>\n",
       "      <td>51.347934</td>\n",
       "      <td>-0.20189584</td>\n",
       "    </tr>\n",
       "  </tbody>\n",
       "</table>\n",
       "</div>"
      ],
      "text/plain": [
       "                 WorkLatLon  meanDuration  stdDuration  counts     WorkLat  \\\n",
       "6       51.3813829,-0.28092    103.500000     4.434712       4  51.3813829   \n",
       "44   51.502938,-0.099781186     85.000000          NaN       1   51.502938   \n",
       "50    51.519023,-0.42294326     85.000000    22.768399      11   51.519023   \n",
       "14     51.435405,-0.3485945     82.600000    27.844209       5   51.435405   \n",
       "78  51.600825,-0.0099532752     77.550000    29.810763      20   51.600825   \n",
       "26     51.468751,-0.3329068     76.900000    31.462323      10   51.468751   \n",
       "30    51.480192,-0.45862957     75.933333    25.237349      15   51.480192   \n",
       "11     51.402558,0.10310494     75.642857    29.565071      14   51.402558   \n",
       "85    51.665903,-0.10672184     75.555556    21.973841      18   51.665903   \n",
       "1     51.347934,-0.20189584     75.312500    23.564716      16   51.347934   \n",
       "\n",
       "          WorkLon  \n",
       "6        -0.28092  \n",
       "44   -0.099781186  \n",
       "50    -0.42294326  \n",
       "14     -0.3485945  \n",
       "78  -0.0099532752  \n",
       "26     -0.3329068  \n",
       "30    -0.45862957  \n",
       "11     0.10310494  \n",
       "85    -0.10672184  \n",
       "1     -0.20189584  "
      ]
     },
     "execution_count": 236,
     "metadata": {},
     "output_type": "execute_result"
    }
   ],
   "source": [
    "locationTravel['WorkLat'] = locationTravel['WorkLatLon'].str.split(pat=',', expand=True)[0]\n",
    "locationTravel['WorkLon'] = locationTravel['WorkLatLon'].str.split(pat=',', expand=True)[1]\n",
    "locationTravel.sort_values('meanDuration', ascending=False).head(10)"
   ]
  },
  {
   "cell_type": "code",
   "execution_count": 237,
   "metadata": {},
   "outputs": [
    {
     "data": {
      "text/html": [
       "<div>\n",
       "<style scoped>\n",
       "    .dataframe tbody tr th:only-of-type {\n",
       "        vertical-align: middle;\n",
       "    }\n",
       "\n",
       "    .dataframe tbody tr th {\n",
       "        vertical-align: top;\n",
       "    }\n",
       "\n",
       "    .dataframe thead th {\n",
       "        text-align: right;\n",
       "    }\n",
       "</style>\n",
       "<table border=\"1\" class=\"dataframe\">\n",
       "  <thead>\n",
       "    <tr style=\"text-align: right;\">\n",
       "      <th></th>\n",
       "      <th>WorkLatLon</th>\n",
       "      <th>meanDuration</th>\n",
       "      <th>stdDuration</th>\n",
       "      <th>counts</th>\n",
       "      <th>WorkLat</th>\n",
       "      <th>WorkLon</th>\n",
       "      <th>locationNames</th>\n",
       "    </tr>\n",
       "  </thead>\n",
       "  <tbody>\n",
       "    <tr>\n",
       "      <th>0</th>\n",
       "      <td>51.31631,-0.13485458</td>\n",
       "      <td>58.857143</td>\n",
       "      <td>21.942566</td>\n",
       "      <td>7</td>\n",
       "      <td>51.31631</td>\n",
       "      <td>-0.13485458</td>\n",
       "      <td>[Coulsdon]</td>\n",
       "    </tr>\n",
       "    <tr>\n",
       "      <th>1</th>\n",
       "      <td>51.347934,-0.20189584</td>\n",
       "      <td>75.312500</td>\n",
       "      <td>23.564716</td>\n",
       "      <td>16</td>\n",
       "      <td>51.347934</td>\n",
       "      <td>-0.20189584</td>\n",
       "      <td>[Sutton]</td>\n",
       "    </tr>\n",
       "    <tr>\n",
       "      <th>2</th>\n",
       "      <td>51.351158,-0.023605341</td>\n",
       "      <td>53.437500</td>\n",
       "      <td>23.303701</td>\n",
       "      <td>16</td>\n",
       "      <td>51.351158</td>\n",
       "      <td>-0.023605341</td>\n",
       "      <td>[New Addington]</td>\n",
       "    </tr>\n",
       "    <tr>\n",
       "      <th>3</th>\n",
       "      <td>51.358282,-0.112836</td>\n",
       "      <td>69.470588</td>\n",
       "      <td>26.664859</td>\n",
       "      <td>17</td>\n",
       "      <td>51.358282</td>\n",
       "      <td>-0.112836</td>\n",
       "      <td>[South Croydon]</td>\n",
       "    </tr>\n",
       "    <tr>\n",
       "      <th>4</th>\n",
       "      <td>51.375134,-0.095896548</td>\n",
       "      <td>55.215278</td>\n",
       "      <td>21.567641</td>\n",
       "      <td>144</td>\n",
       "      <td>51.375134</td>\n",
       "      <td>-0.095896548</td>\n",
       "      <td>[Southern House]</td>\n",
       "    </tr>\n",
       "    <tr>\n",
       "      <th>5</th>\n",
       "      <td>51.377998,-0.059997376</td>\n",
       "      <td>70.029412</td>\n",
       "      <td>24.895606</td>\n",
       "      <td>102</td>\n",
       "      <td>51.377998</td>\n",
       "      <td>-0.059997376</td>\n",
       "      <td>[Croydon]</td>\n",
       "    </tr>\n",
       "    <tr>\n",
       "      <th>6</th>\n",
       "      <td>51.3813829,-0.28092</td>\n",
       "      <td>103.500000</td>\n",
       "      <td>4.434712</td>\n",
       "      <td>4</td>\n",
       "      <td>51.3813829</td>\n",
       "      <td>-0.28092</td>\n",
       "      <td>[Tolworth]</td>\n",
       "    </tr>\n",
       "    <tr>\n",
       "      <th>7</th>\n",
       "      <td>51.38637,0.064749625</td>\n",
       "      <td>56.722222</td>\n",
       "      <td>26.523698</td>\n",
       "      <td>18</td>\n",
       "      <td>51.38637</td>\n",
       "      <td>0.064749625</td>\n",
       "      <td>[Orpington NETS]</td>\n",
       "    </tr>\n",
       "    <tr>\n",
       "      <th>8</th>\n",
       "      <td>51.386751,-0.18413419</td>\n",
       "      <td>61.109756</td>\n",
       "      <td>30.432279</td>\n",
       "      <td>82</td>\n",
       "      <td>51.386751</td>\n",
       "      <td>-0.18413419</td>\n",
       "      <td>[St Helier]</td>\n",
       "    </tr>\n",
       "    <tr>\n",
       "      <th>9</th>\n",
       "      <td>51.389314,0.036839645</td>\n",
       "      <td>65.958621</td>\n",
       "      <td>30.407390</td>\n",
       "      <td>145</td>\n",
       "      <td>51.389314</td>\n",
       "      <td>0.036839645</td>\n",
       "      <td>[Bromley Training Centre, Bromley, Bromley Tra...</td>\n",
       "    </tr>\n",
       "  </tbody>\n",
       "</table>\n",
       "</div>"
      ],
      "text/plain": [
       "               WorkLatLon  meanDuration  stdDuration  counts     WorkLat  \\\n",
       "0    51.31631,-0.13485458     58.857143    21.942566       7    51.31631   \n",
       "1   51.347934,-0.20189584     75.312500    23.564716      16   51.347934   \n",
       "2  51.351158,-0.023605341     53.437500    23.303701      16   51.351158   \n",
       "3     51.358282,-0.112836     69.470588    26.664859      17   51.358282   \n",
       "4  51.375134,-0.095896548     55.215278    21.567641     144   51.375134   \n",
       "5  51.377998,-0.059997376     70.029412    24.895606     102   51.377998   \n",
       "6     51.3813829,-0.28092    103.500000     4.434712       4  51.3813829   \n",
       "7    51.38637,0.064749625     56.722222    26.523698      18    51.38637   \n",
       "8   51.386751,-0.18413419     61.109756    30.432279      82   51.386751   \n",
       "9   51.389314,0.036839645     65.958621    30.407390     145   51.389314   \n",
       "\n",
       "        WorkLon                                      locationNames  \n",
       "0   -0.13485458                                         [Coulsdon]  \n",
       "1   -0.20189584                                           [Sutton]  \n",
       "2  -0.023605341                                    [New Addington]  \n",
       "3     -0.112836                                    [South Croydon]  \n",
       "4  -0.095896548                                   [Southern House]  \n",
       "5  -0.059997376                                          [Croydon]  \n",
       "6      -0.28092                                         [Tolworth]  \n",
       "7   0.064749625                                   [Orpington NETS]  \n",
       "8   -0.18413419                                        [St Helier]  \n",
       "9   0.036839645  [Bromley Training Centre, Bromley, Bromley Tra...  "
      ]
     },
     "execution_count": 237,
     "metadata": {},
     "output_type": "execute_result"
    }
   ],
   "source": [
    "locationNames = pd.DataFrame(staffFinal.groupby('WorkLatLon')['WorkLocation'].unique()).reset_index()\n",
    "locationNames.rename(columns={'WorkLocation': 'locationNames'}, inplace=True)\n",
    "locationTravel = locationTravel.merge(locationNames, on='WorkLatLon')\n",
    "locationTravel.head(10)"
   ]
  },
  {
   "cell_type": "code",
   "execution_count": 240,
   "metadata": {},
   "outputs": [],
   "source": [
    "locationTravel.locationNames = locationTravel.locationNames.astype(str)"
   ]
  },
  {
   "cell_type": "code",
   "execution_count": 256,
   "metadata": {},
   "outputs": [],
   "source": [
    "locationTravel.to_csv('locationTravelDuration_v2.csv', index=False)"
   ]
  },
  {
   "cell_type": "code",
   "execution_count": 209,
   "metadata": {},
   "outputs": [
    {
     "data": {
      "text/html": [
       "<div>\n",
       "<style scoped>\n",
       "    .dataframe tbody tr th:only-of-type {\n",
       "        vertical-align: middle;\n",
       "    }\n",
       "\n",
       "    .dataframe tbody tr th {\n",
       "        vertical-align: top;\n",
       "    }\n",
       "\n",
       "    .dataframe thead th {\n",
       "        text-align: right;\n",
       "    }\n",
       "</style>\n",
       "<table border=\"1\" class=\"dataframe\">\n",
       "  <thead>\n",
       "    <tr style=\"text-align: right;\">\n",
       "      <th></th>\n",
       "      <th>WorkLatLon</th>\n",
       "      <th>meanDuration</th>\n",
       "      <th>stdDuration</th>\n",
       "      <th>counts</th>\n",
       "      <th>WorkLat</th>\n",
       "      <th>WorkLon</th>\n",
       "      <th>locationNames</th>\n",
       "    </tr>\n",
       "  </thead>\n",
       "  <tbody>\n",
       "    <tr>\n",
       "      <th>0</th>\n",
       "      <td>51.31631,-0.13485458</td>\n",
       "      <td>58.857143</td>\n",
       "      <td>21.942566</td>\n",
       "      <td>7</td>\n",
       "      <td>51.31631</td>\n",
       "      <td>-0.13485458</td>\n",
       "      <td>Coulsdon</td>\n",
       "    </tr>\n",
       "    <tr>\n",
       "      <th>1</th>\n",
       "      <td>51.347934,-0.20189584</td>\n",
       "      <td>75.312500</td>\n",
       "      <td>23.564716</td>\n",
       "      <td>16</td>\n",
       "      <td>51.347934</td>\n",
       "      <td>-0.20189584</td>\n",
       "      <td>Sutton</td>\n",
       "    </tr>\n",
       "    <tr>\n",
       "      <th>2</th>\n",
       "      <td>51.351158,-0.023605341</td>\n",
       "      <td>53.437500</td>\n",
       "      <td>23.303701</td>\n",
       "      <td>16</td>\n",
       "      <td>51.351158</td>\n",
       "      <td>-0.023605341</td>\n",
       "      <td>New Addington</td>\n",
       "    </tr>\n",
       "    <tr>\n",
       "      <th>3</th>\n",
       "      <td>51.358282,-0.112836</td>\n",
       "      <td>69.470588</td>\n",
       "      <td>26.664859</td>\n",
       "      <td>17</td>\n",
       "      <td>51.358282</td>\n",
       "      <td>-0.112836</td>\n",
       "      <td>South Croydon</td>\n",
       "    </tr>\n",
       "    <tr>\n",
       "      <th>4</th>\n",
       "      <td>51.375134,-0.095896548</td>\n",
       "      <td>55.215278</td>\n",
       "      <td>21.567641</td>\n",
       "      <td>144</td>\n",
       "      <td>51.375134</td>\n",
       "      <td>-0.095896548</td>\n",
       "      <td>Southern House</td>\n",
       "    </tr>\n",
       "    <tr>\n",
       "      <th>5</th>\n",
       "      <td>51.377998,-0.059997376</td>\n",
       "      <td>70.029412</td>\n",
       "      <td>24.895606</td>\n",
       "      <td>102</td>\n",
       "      <td>51.377998</td>\n",
       "      <td>-0.059997376</td>\n",
       "      <td>Croydon</td>\n",
       "    </tr>\n",
       "    <tr>\n",
       "      <th>6</th>\n",
       "      <td>51.3813829,-0.28092</td>\n",
       "      <td>103.500000</td>\n",
       "      <td>4.434712</td>\n",
       "      <td>4</td>\n",
       "      <td>51.3813829</td>\n",
       "      <td>-0.28092</td>\n",
       "      <td>Tolworth</td>\n",
       "    </tr>\n",
       "    <tr>\n",
       "      <th>7</th>\n",
       "      <td>51.38637,0.064749625</td>\n",
       "      <td>56.722222</td>\n",
       "      <td>26.523698</td>\n",
       "      <td>18</td>\n",
       "      <td>51.38637</td>\n",
       "      <td>0.064749625</td>\n",
       "      <td>Orpington NETS</td>\n",
       "    </tr>\n",
       "    <tr>\n",
       "      <th>8</th>\n",
       "      <td>51.386751,-0.18413419</td>\n",
       "      <td>61.109756</td>\n",
       "      <td>30.432279</td>\n",
       "      <td>82</td>\n",
       "      <td>51.386751</td>\n",
       "      <td>-0.18413419</td>\n",
       "      <td>St Helier</td>\n",
       "    </tr>\n",
       "    <tr>\n",
       "      <th>9</th>\n",
       "      <td>51.389314,0.036839645</td>\n",
       "      <td>65.958621</td>\n",
       "      <td>30.407390</td>\n",
       "      <td>145</td>\n",
       "      <td>51.389314</td>\n",
       "      <td>0.036839645</td>\n",
       "      <td>Bromley Training Centre' 'Bromley' 'Bromley Tr...</td>\n",
       "    </tr>\n",
       "  </tbody>\n",
       "</table>\n",
       "</div>"
      ],
      "text/plain": [
       "               WorkLatLon  meanDuration  stdDuration  counts     WorkLat  \\\n",
       "0    51.31631,-0.13485458     58.857143    21.942566       7    51.31631   \n",
       "1   51.347934,-0.20189584     75.312500    23.564716      16   51.347934   \n",
       "2  51.351158,-0.023605341     53.437500    23.303701      16   51.351158   \n",
       "3     51.358282,-0.112836     69.470588    26.664859      17   51.358282   \n",
       "4  51.375134,-0.095896548     55.215278    21.567641     144   51.375134   \n",
       "5  51.377998,-0.059997376     70.029412    24.895606     102   51.377998   \n",
       "6     51.3813829,-0.28092    103.500000     4.434712       4  51.3813829   \n",
       "7    51.38637,0.064749625     56.722222    26.523698      18    51.38637   \n",
       "8   51.386751,-0.18413419     61.109756    30.432279      82   51.386751   \n",
       "9   51.389314,0.036839645     65.958621    30.407390     145   51.389314   \n",
       "\n",
       "        WorkLon                                      locationNames  \n",
       "0   -0.13485458                                           Coulsdon  \n",
       "1   -0.20189584                                             Sutton  \n",
       "2  -0.023605341                                      New Addington  \n",
       "3     -0.112836                                      South Croydon  \n",
       "4  -0.095896548                                     Southern House  \n",
       "5  -0.059997376                                            Croydon  \n",
       "6      -0.28092                                           Tolworth  \n",
       "7   0.064749625                                     Orpington NETS  \n",
       "8   -0.18413419                                          St Helier  \n",
       "9   0.036839645  Bromley Training Centre' 'Bromley' 'Bromley Tr...  "
      ]
     },
     "execution_count": 209,
     "metadata": {},
     "output_type": "execute_result"
    }
   ],
   "source": [
    "locationTravel.head(10)"
   ]
  },
  {
   "cell_type": "code",
   "execution_count": 259,
   "metadata": {},
   "outputs": [
    {
     "data": {
      "text/plain": [
       "Index(['IDnumber', 'Board', 'Division', 'Directorate', 'Locality', 'Service',\n",
       "       'Department', 'Location', 'Gender', 'AgeBand', 'PostcodeSector',\n",
       "       'PositionTitle', 'EmployeeCategory', 'AssignmentCategory', 'FTE',\n",
       "       'ContractHours', 'Frequency', 'LengthOfService(Years)',\n",
       "       'LengthOfService(Months)', 'nhsEntryDate', 'LatestStartDate',\n",
       "       'StartDateInGrade', 'TimeInGrade(Years)',\n",
       "       'AssignmentEffectiveStartDate', 'OriginalHireDate',\n",
       "       'StartDateInPosition', 'LengthOfService(YearsFloat)', 'StartMonth',\n",
       "       'WorkLocation', 'WorkAddress', 'WorkPostcode', 'WorkLocationFull',\n",
       "       'manual', 'ResLatLon', 'WorkLatLon', 'travelDuration', 'ResLat',\n",
       "       'ResLon', 'WorkLat', 'WorkLon'],\n",
       "      dtype='object')"
      ]
     },
     "execution_count": 259,
     "metadata": {},
     "output_type": "execute_result"
    }
   ],
   "source": [
    "staffFinal.columns"
   ]
  },
  {
   "cell_type": "code",
   "execution_count": 359,
   "metadata": {},
   "outputs": [
    {
     "data": {
      "text/plain": [
       "Index(['IDnumber', 'Board', 'Division', 'Directorate', 'Locality', 'Service',\n",
       "       'Department', 'Location', 'Gender', 'AgeBand', 'PostcodeSector',\n",
       "       'PositionTitle', 'EmployeeCategory', 'AssignmentCategory', 'FTE',\n",
       "       'ContractHours', 'Frequency', 'LengthOfService(Years)',\n",
       "       'LengthOfService(Months)', 'nhsEntryDate', 'LatestStartDate',\n",
       "       'StartDateInGrade', 'TimeInGrade(Years)',\n",
       "       'AssignmentEffectiveStartDate', 'OriginalHireDate',\n",
       "       'StartDateInPosition', 'LengthOfService(YearsFloat)', 'StartMonth',\n",
       "       'WorkLocation', 'WorkAddress', 'WorkPostcode', 'WorkLocationFull',\n",
       "       'manual', 'ResLatLon', 'WorkLatLon', 'travelDuration', 'ResLat',\n",
       "       'ResLon', 'WorkLat', 'WorkLon', 'AgeBandIndex'],\n",
       "      dtype='object')"
      ]
     },
     "execution_count": 359,
     "metadata": {},
     "output_type": "execute_result"
    }
   ],
   "source": [
    "staffFinal.columns"
   ]
  },
  {
   "cell_type": "code",
   "execution_count": 361,
   "metadata": {},
   "outputs": [
    {
     "data": {
      "text/plain": [
       "array(['Edmonton', 'Friern Barnet', 'Romford', 'Tottenham', 'Camden',\n",
       "       'Camden Training Centre', 'Newham', 'Whipps Cross', 'Westminster',\n",
       "       'Ilford Training', 'Ilford', 'Ilford Training Centre',\n",
       "       'Ilford A&E', 'Barking Education Centre',\n",
       "       'Barking Training Centre', 'Homerton', '111 NEL', 'Waterloo',\n",
       "       'St Johns Wood', 'Kenton', 'Kenton Training Centre',\n",
       "       'Kenton Training', 'HQ', 'Waterloo HQ Admin', 'Waterloo Exec Dept',\n",
       "       'Waterloo Communications', 'Waterloo EOC', 'Waterloo HQ A&E',\n",
       "       'Waterloo HQ', 'Ponders End', 'Chase Farm', 'Bounds Green',\n",
       "       'Islington', 'Fulham', 'Fulham Training', 'Barnet', 'Cody Road',\n",
       "       'Becontree', 'Hornchurch', 'Bow', 'Bow EOC',\n",
       "       'Bow Scheduling Centre', 'Brent', 'Brent A&E', 'Poplar',\n",
       "       'Pocock St', 'Pocock Street', 'Union St', 'Union St IT Dept',\n",
       "       'Mill Hill', 'Morley St', 'Ruislip', 'Royal London Hospital',\n",
       "       'Deptford Logistics Depot', 'Deptford', 'Smithfield', 'West Ham',\n",
       "       'New Malden Training', 'New Malden', 'New Malden Training Centre',\n",
       "       'Wembley', 'Silvertown', 'Bloomsbury', 'St Helier', 'Walthamstow',\n",
       "       'Greenwich', 'Bromley Training Centre', 'Bromley',\n",
       "       'Bromley Training', 'Hillingdon', 'Pinner', 'Oval', 'Barnehurst',\n",
       "       'Woolwich', 'Croydon', 'Southern House', 'Wimbledon',\n",
       "       'Wimbledon A&E', 'Battersea', 'Richmond', 'Greenford', 'Hanwell',\n",
       "       'Lee', 'Sutton', 'Streatham', 'Beckenham', 'Bermondsey NETS',\n",
       "       'Mottingham', 'St Pauls Cray', 'North Kensington',\n",
       "       'Orpington NETS', 'South Croydon', 'Feltham', 'New Addington',\n",
       "       'Isleworth', 'Tolworth', 'Hayes', 'Forest Hill', 'Putney',\n",
       "       'Coulsdon', 'Heathrow', 'Brixton', 'Clock Tower Road',\n",
       "       'Clock Tower HART West', 'Shoreditch', 'Twickenham',\n",
       "       'Southwark Bridge', 'Chiswick', 'Richmond House', 'Loman St'],\n",
       "      dtype=object)"
      ]
     },
     "execution_count": 361,
     "metadata": {},
     "output_type": "execute_result"
    }
   ],
   "source": [
    "staffFinal['WorkLocation'].unique()"
   ]
  },
  {
   "cell_type": "code",
   "execution_count": 371,
   "metadata": {
    "scrolled": false
   },
   "outputs": [
    {
     "data": {
      "image/png": "[encoded data removed]",
      "text/plain": [
       "<Figure size 864x648 with 1 Axes>"
      ]
     },
     "metadata": {},
     "output_type": "display_data"
    }
   ],
   "source": [
    "import matplotlib.pyplot as plt\n",
    "plt.figure(figsize=(12,9))\n",
    "ax = plt.subplot(111)\n",
    "ax.scatter(staffFinal['travelDuration'], staffFinal['LengthOfService(YearsFloat)'])\n",
    "ax.set_xlabel('travel duration (mins)', fontsize=13)\n",
    "ax.set_ylabel('length of service (years)', fontsize=13)\n",
    "ax.set_title('Staff In Post', fontsize=14)\n",
    "plt.show()"
   ]
  },
  {
   "cell_type": "code",
   "execution_count": 281,
   "metadata": {},
   "outputs": [
    {
     "data": {
      "text/plain": [
       "array(['26-30', '46-50', '21-25', '56-60', '31-35', '41-45', '51-55',\n",
       "       '36-40', '61-65', '>=71 Years', '66-70', '<=20 Years'],\n",
       "      dtype=object)"
      ]
     },
     "execution_count": 281,
     "metadata": {},
     "output_type": "execute_result"
    }
   ],
   "source": [
    "staffFinal.AgeBand.unique()"
   ]
  },
  {
   "cell_type": "code",
   "execution_count": 295,
   "metadata": {},
   "outputs": [
    {
     "name": "stdout",
     "output_type": "stream",
     "text": [
      "False\n"
     ]
    }
   ],
   "source": [
    "if staffFinal['AgeBand'][0] == '<=20 Years':\n",
    "    print(True)\n",
    "else:\n",
    "    print(False)"
   ]
  },
  {
   "cell_type": "code",
   "execution_count": 298,
   "metadata": {},
   "outputs": [],
   "source": [
    "staffFinal['AgeBandIndex'] = ''"
   ]
  },
  {
   "cell_type": "code",
   "execution_count": 317,
   "metadata": {},
   "outputs": [],
   "source": [
    "def ageBandIndex(elem):\n",
    "    if elem == \"<=20 Years\":\n",
    "        return 1\n",
    "    elif elem == \"21-25\":\n",
    "        return 2\n",
    "    elif elem == \"26-30\":\n",
    "        return 3\n",
    "    elif elem == \"31-35\":\n",
    "        return 4\n",
    "    elif elem == \"36-40\":\n",
    "        return 5\n",
    "    elif elem == \"41-45\":\n",
    "        return 6\n",
    "    elif elem == \"46-50\":\n",
    "        return 7\n",
    "    elif elem == \"51-55\":\n",
    "        return 8\n",
    "    elif elem == \"56-60\":\n",
    "        return 9\n",
    "    elif elem == \"61-65\":\n",
    "        return 10\n",
    "    elif elem == \"66-70\":\n",
    "        return 11\n",
    "    elif elem == \">=71 Years\":\n",
    "        return 12\n",
    "    else:\n",
    "        return np.nan"
   ]
  },
  {
   "cell_type": "code",
   "execution_count": 322,
   "metadata": {
    "scrolled": true
   },
   "outputs": [],
   "source": [
    "staffFinal['AgeBandIndex'] = staffFinal['AgeBand'].apply(ageBandIndex)"
   ]
  },
  {
   "cell_type": "code",
   "execution_count": 324,
   "metadata": {},
   "outputs": [
    {
     "data": {
      "text/html": [
       "<div>\n",
       "<style scoped>\n",
       "    .dataframe tbody tr th:only-of-type {\n",
       "        vertical-align: middle;\n",
       "    }\n",
       "\n",
       "    .dataframe tbody tr th {\n",
       "        vertical-align: top;\n",
       "    }\n",
       "\n",
       "    .dataframe thead th {\n",
       "        text-align: right;\n",
       "    }\n",
       "</style>\n",
       "<table border=\"1\" class=\"dataframe\">\n",
       "  <thead>\n",
       "    <tr style=\"text-align: right;\">\n",
       "      <th></th>\n",
       "      <th>IDnumber</th>\n",
       "      <th>FTE</th>\n",
       "      <th>ContractHours</th>\n",
       "      <th>LengthOfService(Years)</th>\n",
       "      <th>LengthOfService(Months)</th>\n",
       "      <th>TimeInGrade(Years)</th>\n",
       "      <th>LengthOfService(YearsFloat)</th>\n",
       "      <th>StartMonth</th>\n",
       "      <th>manual</th>\n",
       "      <th>travelDuration</th>\n",
       "      <th>AgeBandIndex</th>\n",
       "    </tr>\n",
       "  </thead>\n",
       "  <tbody>\n",
       "    <tr>\n",
       "      <th>IDnumber</th>\n",
       "      <td>1.000000</td>\n",
       "      <td>0.066174</td>\n",
       "      <td>0.066195</td>\n",
       "      <td>-0.898238</td>\n",
       "      <td>-0.058216</td>\n",
       "      <td>-0.522576</td>\n",
       "      <td>-0.898786</td>\n",
       "      <td>-0.019277</td>\n",
       "      <td>0.215497</td>\n",
       "      <td>-0.208721</td>\n",
       "      <td>-0.617426</td>\n",
       "    </tr>\n",
       "    <tr>\n",
       "      <th>FTE</th>\n",
       "      <td>0.066174</td>\n",
       "      <td>1.000000</td>\n",
       "      <td>0.999966</td>\n",
       "      <td>-0.026870</td>\n",
       "      <td>-0.018915</td>\n",
       "      <td>0.001187</td>\n",
       "      <td>-0.027438</td>\n",
       "      <td>-0.060341</td>\n",
       "      <td>-0.103646</td>\n",
       "      <td>-0.025875</td>\n",
       "      <td>-0.091478</td>\n",
       "    </tr>\n",
       "    <tr>\n",
       "      <th>ContractHours</th>\n",
       "      <td>0.066195</td>\n",
       "      <td>0.999966</td>\n",
       "      <td>1.000000</td>\n",
       "      <td>-0.026972</td>\n",
       "      <td>-0.018941</td>\n",
       "      <td>0.001112</td>\n",
       "      <td>-0.027540</td>\n",
       "      <td>-0.060154</td>\n",
       "      <td>-0.103668</td>\n",
       "      <td>-0.025675</td>\n",
       "      <td>-0.091508</td>\n",
       "    </tr>\n",
       "    <tr>\n",
       "      <th>LengthOfService(Years)</th>\n",
       "      <td>-0.898238</td>\n",
       "      <td>-0.026870</td>\n",
       "      <td>-0.026972</td>\n",
       "      <td>1.000000</td>\n",
       "      <td>0.029768</td>\n",
       "      <td>0.619521</td>\n",
       "      <td>0.999485</td>\n",
       "      <td>0.002659</td>\n",
       "      <td>-0.216529</td>\n",
       "      <td>0.182799</td>\n",
       "      <td>0.620796</td>\n",
       "    </tr>\n",
       "    <tr>\n",
       "      <th>LengthOfService(Months)</th>\n",
       "      <td>-0.058216</td>\n",
       "      <td>-0.018915</td>\n",
       "      <td>-0.018941</td>\n",
       "      <td>0.029768</td>\n",
       "      <td>1.000000</td>\n",
       "      <td>0.049098</td>\n",
       "      <td>0.061820</td>\n",
       "      <td>0.095009</td>\n",
       "      <td>-0.029042</td>\n",
       "      <td>-0.017113</td>\n",
       "      <td>0.046637</td>\n",
       "    </tr>\n",
       "    <tr>\n",
       "      <th>TimeInGrade(Years)</th>\n",
       "      <td>-0.522576</td>\n",
       "      <td>0.001187</td>\n",
       "      <td>0.001112</td>\n",
       "      <td>0.619521</td>\n",
       "      <td>0.049098</td>\n",
       "      <td>1.000000</td>\n",
       "      <td>0.620186</td>\n",
       "      <td>-0.005917</td>\n",
       "      <td>-0.156693</td>\n",
       "      <td>0.091561</td>\n",
       "      <td>0.434005</td>\n",
       "    </tr>\n",
       "    <tr>\n",
       "      <th>LengthOfService(YearsFloat)</th>\n",
       "      <td>-0.898786</td>\n",
       "      <td>-0.027438</td>\n",
       "      <td>-0.027540</td>\n",
       "      <td>0.999485</td>\n",
       "      <td>0.061820</td>\n",
       "      <td>0.620186</td>\n",
       "      <td>1.000000</td>\n",
       "      <td>0.005704</td>\n",
       "      <td>-0.217143</td>\n",
       "      <td>0.181981</td>\n",
       "      <td>0.621380</td>\n",
       "    </tr>\n",
       "    <tr>\n",
       "      <th>StartMonth</th>\n",
       "      <td>-0.019277</td>\n",
       "      <td>-0.060341</td>\n",
       "      <td>-0.060154</td>\n",
       "      <td>0.002659</td>\n",
       "      <td>0.095009</td>\n",
       "      <td>-0.005917</td>\n",
       "      <td>0.005704</td>\n",
       "      <td>1.000000</td>\n",
       "      <td>0.071777</td>\n",
       "      <td>0.065424</td>\n",
       "      <td>0.043786</td>\n",
       "    </tr>\n",
       "    <tr>\n",
       "      <th>manual</th>\n",
       "      <td>0.215497</td>\n",
       "      <td>-0.103646</td>\n",
       "      <td>-0.103668</td>\n",
       "      <td>-0.216529</td>\n",
       "      <td>-0.029042</td>\n",
       "      <td>-0.156693</td>\n",
       "      <td>-0.217143</td>\n",
       "      <td>0.071777</td>\n",
       "      <td>1.000000</td>\n",
       "      <td>-0.031423</td>\n",
       "      <td>-0.117563</td>\n",
       "    </tr>\n",
       "    <tr>\n",
       "      <th>travelDuration</th>\n",
       "      <td>-0.208721</td>\n",
       "      <td>-0.025875</td>\n",
       "      <td>-0.025675</td>\n",
       "      <td>0.182799</td>\n",
       "      <td>-0.017113</td>\n",
       "      <td>0.091561</td>\n",
       "      <td>0.181981</td>\n",
       "      <td>0.065424</td>\n",
       "      <td>-0.031423</td>\n",
       "      <td>1.000000</td>\n",
       "      <td>0.148730</td>\n",
       "    </tr>\n",
       "    <tr>\n",
       "      <th>AgeBandIndex</th>\n",
       "      <td>-0.617426</td>\n",
       "      <td>-0.091478</td>\n",
       "      <td>-0.091508</td>\n",
       "      <td>0.620796</td>\n",
       "      <td>0.046637</td>\n",
       "      <td>0.434005</td>\n",
       "      <td>0.621380</td>\n",
       "      <td>0.043786</td>\n",
       "      <td>-0.117563</td>\n",
       "      <td>0.148730</td>\n",
       "      <td>1.000000</td>\n",
       "    </tr>\n",
       "  </tbody>\n",
       "</table>\n",
       "</div>"
      ],
      "text/plain": [
       "                             IDnumber       FTE  ContractHours  \\\n",
       "IDnumber                     1.000000  0.066174       0.066195   \n",
       "FTE                          0.066174  1.000000       0.999966   \n",
       "ContractHours                0.066195  0.999966       1.000000   \n",
       "LengthOfService(Years)      -0.898238 -0.026870      -0.026972   \n",
       "LengthOfService(Months)     -0.058216 -0.018915      -0.018941   \n",
       "TimeInGrade(Years)          -0.522576  0.001187       0.001112   \n",
       "LengthOfService(YearsFloat) -0.898786 -0.027438      -0.027540   \n",
       "StartMonth                  -0.019277 -0.060341      -0.060154   \n",
       "manual                       0.215497 -0.103646      -0.103668   \n",
       "travelDuration              -0.208721 -0.025875      -0.025675   \n",
       "AgeBandIndex                -0.617426 -0.091478      -0.091508   \n",
       "\n",
       "                             LengthOfService(Years)  LengthOfService(Months)  \\\n",
       "IDnumber                                  -0.898238                -0.058216   \n",
       "FTE                                       -0.026870                -0.018915   \n",
       "ContractHours                             -0.026972                -0.018941   \n",
       "LengthOfService(Years)                     1.000000                 0.029768   \n",
       "LengthOfService(Months)                    0.029768                 1.000000   \n",
       "TimeInGrade(Years)                         0.619521                 0.049098   \n",
       "LengthOfService(YearsFloat)                0.999485                 0.061820   \n",
       "StartMonth                                 0.002659                 0.095009   \n",
       "manual                                    -0.216529                -0.029042   \n",
       "travelDuration                             0.182799                -0.017113   \n",
       "AgeBandIndex                               0.620796                 0.046637   \n",
       "\n",
       "                             TimeInGrade(Years)  LengthOfService(YearsFloat)  \\\n",
       "IDnumber                              -0.522576                    -0.898786   \n",
       "FTE                                    0.001187                    -0.027438   \n",
       "ContractHours                          0.001112                    -0.027540   \n",
       "LengthOfService(Years)                 0.619521                     0.999485   \n",
       "LengthOfService(Months)                0.049098                     0.061820   \n",
       "TimeInGrade(Years)                     1.000000                     0.620186   \n",
       "LengthOfService(YearsFloat)            0.620186                     1.000000   \n",
       "StartMonth                            -0.005917                     0.005704   \n",
       "manual                                -0.156693                    -0.217143   \n",
       "travelDuration                         0.091561                     0.181981   \n",
       "AgeBandIndex                           0.434005                     0.621380   \n",
       "\n",
       "                             StartMonth    manual  travelDuration  \\\n",
       "IDnumber                      -0.019277  0.215497       -0.208721   \n",
       "FTE                           -0.060341 -0.103646       -0.025875   \n",
       "ContractHours                 -0.060154 -0.103668       -0.025675   \n",
       "LengthOfService(Years)         0.002659 -0.216529        0.182799   \n",
       "LengthOfService(Months)        0.095009 -0.029042       -0.017113   \n",
       "TimeInGrade(Years)            -0.005917 -0.156693        0.091561   \n",
       "LengthOfService(YearsFloat)    0.005704 -0.217143        0.181981   \n",
       "StartMonth                     1.000000  0.071777        0.065424   \n",
       "manual                         0.071777  1.000000       -0.031423   \n",
       "travelDuration                 0.065424 -0.031423        1.000000   \n",
       "AgeBandIndex                   0.043786 -0.117563        0.148730   \n",
       "\n",
       "                             AgeBandIndex  \n",
       "IDnumber                        -0.617426  \n",
       "FTE                             -0.091478  \n",
       "ContractHours                   -0.091508  \n",
       "LengthOfService(Years)           0.620796  \n",
       "LengthOfService(Months)          0.046637  \n",
       "TimeInGrade(Years)               0.434005  \n",
       "LengthOfService(YearsFloat)      0.621380  \n",
       "StartMonth                       0.043786  \n",
       "manual                          -0.117563  \n",
       "travelDuration                   0.148730  \n",
       "AgeBandIndex                     1.000000  "
      ]
     },
     "execution_count": 324,
     "metadata": {},
     "output_type": "execute_result"
    }
   ],
   "source": [
    "staffFinal.corr()"
   ]
  },
  {
   "cell_type": "code",
   "execution_count": 355,
   "metadata": {},
   "outputs": [
    {
     "data": {
      "text/plain": [
       "Index(['IDnumber', 'Board', 'Division', 'Directorate', 'Locality', 'Service',\n",
       "       'Department', 'Location', 'Gender', 'AgeBand', 'PostcodeSector',\n",
       "       'PositionTitle', 'EmployeeCategory', 'AssignmentCategory', 'FTE',\n",
       "       'ContractHours', 'Frequency', 'LengthOfService(Years)',\n",
       "       'LengthOfService(Months)', 'nhsEntryDate', 'LatestStartDate',\n",
       "       'StartDateInGrade', 'TimeInGrade(Years)',\n",
       "       'AssignmentEffectiveStartDate', 'OriginalHireDate',\n",
       "       'StartDateInPosition', 'LengthOfService(YearsFloat)', 'StartMonth',\n",
       "       'WorkLocation', 'WorkAddress', 'WorkPostcode', 'WorkLocationFull',\n",
       "       'manual', 'ResLatLon', 'WorkLatLon', 'travelDuration', 'ResLat',\n",
       "       'ResLon', 'WorkLat', 'WorkLon', 'AgeBandIndex'],\n",
       "      dtype='object')"
      ]
     },
     "execution_count": 355,
     "metadata": {},
     "output_type": "execute_result"
    }
   ],
   "source": [
    "staffFinal.columns"
   ]
  },
  {
   "cell_type": "code",
   "execution_count": 374,
   "metadata": {},
   "outputs": [
    {
     "data": {
      "text/plain": [
       "array(['Emergency Ambulance Crew', 'Emergency Medical Dispatcher Grade 2',\n",
       "       'Community Resuscitation Training Officer',\n",
       "       'Trainee Emergency Ambulance Crew 2', 'Paramedic B6',\n",
       "       'Medicine Support Worker', 'Information Governance Manager',\n",
       "       'Safeguarding Specialist Children & Adults', 'Paramedic NQ',\n",
       "       'Clinical Advisor - Paramedic', 'Watch Manager (HQ)',\n",
       "       'Emergency Medical Dispatcher Grade 1', 'Recruitment Team Leader',\n",
       "       'Call Handler/Health Advisor 111', 'Web Developer',\n",
       "       'Clinical Data Assistant', 'NETS Co-ordinator',\n",
       "       'Station Administrator', 'Operations Manager', 'Ambulance Person',\n",
       "       'Station Support Manager', 'Senior Business Intelligence Analyst',\n",
       "       'Health Advisor', 'Shift Lead', 'Vehicle Resource Co-ordinator',\n",
       "       'Finance Work Placement Trainee', 'Health Advisor - TUPE',\n",
       "       'Corporate Secretary', 'Systems Manager',\n",
       "       'Finance Trainee Accountant', 'Personal Assistant',\n",
       "       'Business Manager', 'EBS Admissions Officer',\n",
       "       'Governance Assistant', 'Systems Advanced Technical Specialist',\n",
       "       'Recruitment Co-ordinator', 'Financial Analyst',\n",
       "       'Emergency Medical Technician 4', 'Media & Campaigns Manager',\n",
       "       'Team Administrator', 'Clinical Data Officer', 'Project Manager',\n",
       "       'OPC Paramedic B6', 'IM&T Service Desk Administrator',\n",
       "       'Senior Paramedic', 'Fleet Multi-skilled Technician',\n",
       "       'EBS Deputy Operations Room Manager',\n",
       "       'Senior Quality Assurance Manager', 'Multimedia Officer',\n",
       "       'Emergency Medical Dispatcher Grade 3',\n",
       "       'Strategy & Communications Planning Manager',\n",
       "       'Clinical Team Leader', 'MI Clerk',\n",
       "       'Emergency Medical Dispatcher Allocator',\n",
       "       'Resource Centre Co-ordinator', 'Clinical Education Tutor',\n",
       "       'Clinical Advisor 111', 'Learning & Development Co-ordinator',\n",
       "       'Apprentice Paramedic 4', 'Research Paramedic',\n",
       "       'Location Group Manager', 'Senior Clinical Advisor 111 - Nurse',\n",
       "       'Clinical Advisor', 'Incident & Delivery Manager',\n",
       "       'Warehouse Supervisor', 'Advanced Paramedic Practitioner',\n",
       "       'Equipment Support Personnel', 'Control Services Tutor',\n",
       "       'Geo Services Manager', 'Legal Services Administrator',\n",
       "       'Specialist Administrator', 'Vehicle Resource Centre Supervisor',\n",
       "       'Control Services Development Manager', 'HR Manager',\n",
       "       'Support Services Finance Manager', 'Logistics Manager',\n",
       "       'Team Manager 111', 'Fleet & Road Traffic Administrator',\n",
       "       'Service Desk Analyst', 'Workshop Manager',\n",
       "       'Incident Response Officer',\n",
       "       'Emergency Planning & Resilience Officer - Clinical',\n",
       "       'Centre Operations Manager 111',\n",
       "       'Trainee Emergency Ambulance Crew 1',\n",
       "       'Work Based Learning Facilitator 111 - Clinical',\n",
       "       'Head of Patient Experiences',\n",
       "       'Deputy Director of Operations (Central Operations)',\n",
       "       'Higher Education Programme Manager',\n",
       "       'Senior Clinical Advisor 111 - Paramedic',\n",
       "       'Head of Contracting & Commissioner Relations',\n",
       "       'Stakeholder Engagement Manager',\n",
       "       'Trainee Clinical Education Tutor',\n",
       "       'Clinical Team Leader (Clinical Hub)',\n",
       "       'OPC Emergency Ambulance Crew', 'Building Services Assistant',\n",
       "       'Business Intelligence Analyst',\n",
       "       'Corporate Services Finance Manager', 'CSU Co-ordinator',\n",
       "       'Apprentice Paramedic 3', 'Clinical Hub Manager',\n",
       "       'Training Officer', 'Operational Compliance Manager',\n",
       "       'Motorcycle Response Unit Manager', 'Duty Station Officer',\n",
       "       'Emergency Medical Technician 3',\n",
       "       'Senior Building Services Engineer',\n",
       "       'Workforce Intelligence Analyst', 'Treasury & Debtors Manager',\n",
       "       'Internal Communications Consultant', 'HR Assistant',\n",
       "       'Fleet Operational Support Manager',\n",
       "       'Deputy Head of Business Intelligence',\n",
       "       'Education & Development Administrator',\n",
       "       'Senior Contract Support Manager', 'Unit Administrator',\n",
       "       'Head of 999 Quality & Continuous Improvement',\n",
       "       'Estates Building Surveyor', 'Quality Assurance Manager',\n",
       "       'CSU Allocator', 'Resource & Planning Administrator',\n",
       "       'Clinical Education Driving Tutor', 'P&C Business Partner',\n",
       "       'Head of IT Service Management', 'Programme Manager',\n",
       "       'Work Based Learning Facilitator 111 - Non-Clinical',\n",
       "       'Fleet Administration Manager', 'Non Clinical Team Manager',\n",
       "       'CQI Advisor 111 - Nurse',\n",
       "       'Operational Information & Archives Assistant', 'Area Controller',\n",
       "       'Recruitment Advisor', 'Administrator',\n",
       "       'Estates Maintenance Helpdesk Administrator',\n",
       "       'Development Projects Officer', 'Associate Tutor',\n",
       "       'Communications Officer - Internal Comms',\n",
       "       'Education Governance Manager', 'General Manager',\n",
       "       'Shift Manager 111', 'Governance & Assurance Manager',\n",
       "       'Resource & Planning Facilitator', 'Head of Engagement',\n",
       "       'Head of Emergency Operations Centre', 'Category Manager',\n",
       "       'Infection Prevention & Control Advisor',\n",
       "       'Admin & Clerical Band 5', 'Service Performance Manager',\n",
       "       'Frequent Caller Manager', 'Patient Experiences Officer',\n",
       "       'Clinical Supervisor 111 - Nurse', 'Practice Learning Manager',\n",
       "       'Trainee Tutor Control Services',\n",
       "       'Emergency Planning & Resilience Officer - FPOS',\n",
       "       'Senior Stakeholder Communications Manager',\n",
       "       'Deputy Director of Integrated Quality & Assurance',\n",
       "       'Learning & Development Facilitator',\n",
       "       'Resource & Planning Co-ordinator',\n",
       "       'Practice Lead, Prehospital Maternity Care',\n",
       "       'Principal Investigator', 'PPI & Public Education Co-ordinator',\n",
       "       'Assistant Medical Director - Clinical',\n",
       "       'Clinical Audit Facilitator', 'Staff Recognition & Awards Officer',\n",
       "       'Staff Officer', 'Analyst Programmer', 'Deputy Head of Transport',\n",
       "       'Head of Management Accounts', 'Digital Media and Design Manager',\n",
       "       'P&C Senior Business Partner', 'Business Support Manager',\n",
       "       'Clinical Operations Lead', 'Financial Controller',\n",
       "       'Head of Emergency Care Services', 'Control Manager',\n",
       "       'Freedom to Speak Up Guardian', 'Assistant Director of Operations',\n",
       "       'Head of Driving Standards', 'Support Services Manager',\n",
       "       'Education Centre Manager', 'Senior Software Engineer',\n",
       "       'OPC Emergency Medical Technician 4', 'Head of Transport',\n",
       "       'Deputy Head of Patient Experiences', 'Payroll Manager',\n",
       "       'Head of Estates', 'Learner Engagement & Partnership Manager',\n",
       "       'Head of Procurement', 'CAD System Manager',\n",
       "       'Communications Officer - Stakeholder Engagement',\n",
       "       'Senior Operations Manager', 'EBS Operations Room Manager',\n",
       "       'Customer Support Manager',\n",
       "       'Head of Integrated IT Service Delivery',\n",
       "       'Governance Administrator', 'Training Administrator',\n",
       "       'Internal Communications & Digital Manager',\n",
       "       'Clinical Practice Development Manager',\n",
       "       'Operational Business Change Manager',\n",
       "       'Fleet Administration Team Leader', 'Consultant Paramedic',\n",
       "       'Networks Advanced Technical Specialist',\n",
       "       'Claims & Inquest Manager',\n",
       "       'Communications Officer - Media & Campaigns',\n",
       "       'Quality & Governance Manager', 'Sector Senior Clinical Lead',\n",
       "       'Clinical Advisor - Nurse',\n",
       "       'Assistant Director of Operations Sector Services',\n",
       "       'Operational Information & Archives Manager',\n",
       "       'Staff Support Counselling & Occupational Health Services Mgr',\n",
       "       'Risk Systems & Development Manager',\n",
       "       'IPC Audit & Support Officer', 'Payroll Assistant',\n",
       "       'Stroke Data Officer', 'Strategy Lead',\n",
       "       'Head of Clinical Audit & Research', 'Health & Safety Manager',\n",
       "       'P&C HR Strategic Business Partner',\n",
       "       'Clinical Apprenticeship Co-ordinator',\n",
       "       'Assistant Head of Clinical Audit & Research',\n",
       "       'Vehicle Resource Centre Manager',\n",
       "       'Safeguarding Governance & Training Lead',\n",
       "       'Senior Payroll Assistant', 'NETS Work Based Trainer',\n",
       "       'Risk Manager',\n",
       "       'Assistant Director of Operations Incident & Delivery',\n",
       "       'Post Room Administrator', 'OPC Manager',\n",
       "       'CQI Advisor 111 - Paramedic', 'Health & Safety Advisor',\n",
       "       'MI Assistant', 'Programme & Project Manager', 'Senior Surveyor',\n",
       "       'Senior CAD Support Officer', 'Service Desk Manager',\n",
       "       'Data Scientist', 'Community Defibrillator Officer',\n",
       "       'Contract Manager - Vehicle Preparation Services',\n",
       "       'Head of Clinical Hub', 'Contract Support Co-ordinator',\n",
       "       'Practice Placement Co-ordinator', 'E-Learning Manager',\n",
       "       'Claims & Inquest Assistant',\n",
       "       'Senior Resource Centre Co-ordinator',\n",
       "       'Clinical IT Services Manager', 'Head of 999 Service Delivery',\n",
       "       'Third Party Ambulance Manager',\n",
       "       'Interoperability Development Officer',\n",
       "       'Vehicle Resource Supervisor', 'Head of First Responders',\n",
       "       'Integrated Urgent Care General Practitioner Clinical Lead',\n",
       "       'Head of Emergency Bed Service', 'Head of Healthy Workforce',\n",
       "       'Quality, Governance & Assurance Manager',\n",
       "       'Clinical Practice Learning Manager (Control Services)',\n",
       "       'Head of Infection Prevention & Control',\n",
       "       'Contract Support Manager', 'Resourcing 111', 'Head of Scheduling',\n",
       "       'Head of Business Intelligence', 'Resource Centre Administrator',\n",
       "       'Deputy Director Clinical Education & Standards',\n",
       "       'Cardiac Researcher', 'Pensions Manager',\n",
       "       'Estates Administration Manager',\n",
       "       'Call Handler/Health Advisor 111 - TUPE',\n",
       "       'Integrated Urgent Care Specialist Pharmacist',\n",
       "       'Network Service Manager', 'Head of Financial Services',\n",
       "       'Capital & Financial Services Accountant',\n",
       "       'Head of Resilience & Specialist Assets',\n",
       "       'Learning Business Manager',\n",
       "       'Head of Operational Compliance & Standards',\n",
       "       'A&E Finance Manager', 'Public Education Officer',\n",
       "       'Support Specialist', 'Head of Business Planning',\n",
       "       'Assistant Director of Performance', 'IM&T Customer Support Lead',\n",
       "       'Advanced Care Practitioner - Paramedic',\n",
       "       'Clinical Audit & Research Administrator',\n",
       "       'GRS Systems Administrator & Workforce Planning Officer',\n",
       "       '111 Internal Auditor - TUPE', 'Research Facilitator',\n",
       "       'MacMillan Nurse Consultant', 'Logistics Project Manager',\n",
       "       'Operations Officer',\n",
       "       'Assistant Director of Operations Resilience',\n",
       "       'Clinical Advisor 111 - TUPE',\n",
       "       'Interim Head of Employee Relations',\n",
       "       'Head of Strategic Development', 'Deputy Medical Director',\n",
       "       'Research Manager',\n",
       "       'Head of Patient & Public Involvement & Public Education',\n",
       "       'Senior Finance Manager Band 8b', 'Head of Recruitment',\n",
       "       'Mental Health Advisor', 'Cycle Response Unit Manager',\n",
       "       'Category & Project Buyer', 'Senior Mental Health Nurse Advisor',\n",
       "       'Trust Pharmacist', 'Consultant Midwife Advisor',\n",
       "       'Project Manager & Data Analyst', 'Manager',\n",
       "       'Airwave Advanced Technical Specialist',\n",
       "       'Cycle Response Unit Leader',\n",
       "       'Location Group Manager (Generic Recruitment)',\n",
       "       'Media & Campaigns Assistant',\n",
       "       'Head of MI, Archives & Data Processing Service',\n",
       "       'Corporate Logistics Manager',\n",
       "       'Clinical Education & Training Manager', 'Senior BI Developer',\n",
       "       'CAD & Technical Lead', 'Procurement Assistant',\n",
       "       'NHS111 Pathways Training Lead', 'Safeguarding Officer', 'Buyer',\n",
       "       'MI Analyst', 'Integrated Urgent Care Advanced Pharmacist',\n",
       "       'Senior Manager Band 8b',\n",
       "       'Health & Safety, Medical Devices Manager', 'Business Analyst',\n",
       "       'Safety & Risk Advisor', 'Pensions Data Administrator',\n",
       "       'Integration & Transformation Lead',\n",
       "       'Head of 111 & Integrated Emergency Care Service',\n",
       "       'Head of Media & Campaigns', 'Legal Services Manager',\n",
       "       'Operational Information & Archives Officer',\n",
       "       'Committee Services Officer',\n",
       "       'Community Social Worker Liaison Officer',\n",
       "       'Emergency Bed Service Manager',\n",
       "       'Safeguarding & Infection Control, Data Coordinator & Admin',\n",
       "       'Admin & Clerical Band 7', 'Health & Safety Administrator',\n",
       "       'Integrated Urgent Care General Practitioner',\n",
       "       'End User Computing Advanced Technical Specialist',\n",
       "       'National Programme Manager', 'Assistant Payroll Manager',\n",
       "       'Data Quality Manager', 'Contracts & Performance Officer - TUPE',\n",
       "       'Head of Fleet', 'Staff Support Advisor', 'Resourcing Manager',\n",
       "       'Committee Secretary', 'EOC Administrator', 'Cardiac Data Officer',\n",
       "       'Senior Quality Governance Manager',\n",
       "       'Development Projects Manager',\n",
       "       'Head of Resilience & Special Operations', 'IUC Service Manager',\n",
       "       'Head of CBRN & HART', 'Education Performance Manager',\n",
       "       'Head of Workforce Analytics', 'Clinical Liaison Officer (LAA)',\n",
       "       'First Responder Manager',\n",
       "       'Deputy Director of Transformation & Strategy',\n",
       "       'Senior Office & Resource Adminstrator',\n",
       "       'Head of Business Continuity',\n",
       "       'EBS Switchboard & Database Operator', 'Clinical Lead - TUPE',\n",
       "       'Operational Deployment Senior Co-ordinator',\n",
       "       'Business Engagement Manager', 'Capital Projects Surveyor',\n",
       "       'Clinical Audit Manager', 'Executive Officer',\n",
       "       'Deputy Director of Quality & Nursing',\n",
       "       'Paramedic Research Fellow', 'Head of Forecasting & Planning',\n",
       "       'Facilities Manager', 'Head of Leadership & Performance',\n",
       "       'Learning & Organisation Development Manager',\n",
       "       'Programme Administrator / Co-ordinator',\n",
       "       'Safety & Security Officer',\n",
       "       'Leadership Education & Performance Team Leader',\n",
       "       'Named Professional for Safeguarding', 'EPPR Support Officer',\n",
       "       'Clinical Audit Officer', 'Coronary Heart Disease Data Officer',\n",
       "       'Supplier Manager', 'Test Coordinator', 'Fleet Support Officer',\n",
       "       'Infection Prevention & Control Specialist Practitioner',\n",
       "       'Workforce Intelligence Administrator',\n",
       "       'Fleet & Logistics Performance Improvement Manager',\n",
       "       'Health & Safety Officer', 'Deputy Site Lead 111',\n",
       "       'Deputy Director of Fleet & Logistics',\n",
       "       'Senior Operational Compliance Support Manager',\n",
       "       'CBRN Secretary / Administrative Assistant',\n",
       "       'Head of Quality Assurance', 'Head of Talent',\n",
       "       'Unit Support Officer', 'Logistics Administrator',\n",
       "       'Executive Assistant', 'Receptionist Bow',\n",
       "       'Third Party Ambulance Administrator',\n",
       "       'Head of Quality & Intelligence',\n",
       "       'Head of IM&T Strategy, Security & Architecture'], dtype=object)"
      ]
     },
     "execution_count": 374,
     "metadata": {},
     "output_type": "execute_result"
    }
   ],
   "source": [
    "staffInPost.PositionTitle.unique()"
   ]
  },
  {
   "cell_type": "code",
   "execution_count": 380,
   "metadata": {},
   "outputs": [
    {
     "data": {
      "text/plain": [
       "1851"
      ]
     },
     "execution_count": 380,
     "metadata": {},
     "output_type": "execute_result"
    }
   ],
   "source": [
    "len(staffInPost[staffInPost['PositionTitle'].str.lower().str.contains(\"emergency\" or \"paramedic\" or \"ambulance\")])"
   ]
  },
  {
   "cell_type": "code",
   "execution_count": 388,
   "metadata": {},
   "outputs": [],
   "source": [
    "ambulanceStation = staffInPost[staffInPost['Department'].str.lower().str.contains(\"ambulance station\")]"
   ]
  },
  {
   "cell_type": "code",
   "execution_count": 389,
   "metadata": {},
   "outputs": [
    {
     "data": {
      "text/plain": [
       "2906"
      ]
     },
     "execution_count": 389,
     "metadata": {},
     "output_type": "execute_result"
    }
   ],
   "source": [
    "len(ambulanceStation)"
   ]
  },
  {
   "cell_type": "code",
   "execution_count": 391,
   "metadata": {},
   "outputs": [
    {
     "data": {
      "text/plain": [
       "array(['Emergency Ambulance Crew', 'Trainee Emergency Ambulance Crew 2',\n",
       "       'Paramedic B6', 'Paramedic NQ', 'Clinical Advisor - Paramedic',\n",
       "       'Emergency Medical Technician 4', 'Apprentice Paramedic 4',\n",
       "       'Senior Paramedic', 'Trainee Emergency Ambulance Crew 1',\n",
       "       'Apprentice Paramedic 3', 'Emergency Medical Technician 3',\n",
       "       'Clinical Advisor', 'OPC Paramedic B6',\n",
       "       'Advanced Care Practitioner - Paramedic',\n",
       "       'Cycle Response Unit Leader', 'Frequent Caller Manager'],\n",
       "      dtype=object)"
      ]
     },
     "execution_count": 391,
     "metadata": {},
     "output_type": "execute_result"
    }
   ],
   "source": [
    "ambulanceStation['PositionTitle'].unique()"
   ]
  },
  {
   "cell_type": "code",
   "execution_count": 397,
   "metadata": {},
   "outputs": [
    {
     "data": {
      "text/plain": [
       "1691"
      ]
     },
     "execution_count": 397,
     "metadata": {},
     "output_type": "execute_result"
    }
   ],
   "source": [
    "len(ambulanceStation[ambulanceStation['PositionTitle'].str.lower().str.contains(\"paramedic\")])"
   ]
  },
  {
   "cell_type": "code",
   "execution_count": 398,
   "metadata": {},
   "outputs": [
    {
     "data": {
      "text/plain": [
       "304"
      ]
     },
     "execution_count": 398,
     "metadata": {},
     "output_type": "execute_result"
    }
   ],
   "source": [
    "len(ambulanceStation[ambulanceStation['PositionTitle'].str.lower().str.contains(\"technician\")])"
   ]
  },
  {
   "cell_type": "code",
   "execution_count": 400,
   "metadata": {},
   "outputs": [
    {
     "data": {
      "text/plain": [
       "904"
      ]
     },
     "execution_count": 400,
     "metadata": {},
     "output_type": "execute_result"
    }
   ],
   "source": [
    "len(ambulanceStation[ambulanceStation['PositionTitle'].str.lower().str.contains(\"ambulance crew\")])"
   ]
  },
  {
   "cell_type": "code",
   "execution_count": 385,
   "metadata": {},
   "outputs": [
    {
     "data": {
      "text/plain": [
       "5721"
      ]
     },
     "execution_count": 385,
     "metadata": {},
     "output_type": "execute_result"
    }
   ],
   "source": [
    "len(staffInPost)"
   ]
  },
  {
   "cell_type": "code",
   "execution_count": 395,
   "metadata": {},
   "outputs": [
    {
     "data": {
      "text/plain": [
       "441"
      ]
     },
     "execution_count": 395,
     "metadata": {},
     "output_type": "execute_result"
    }
   ],
   "source": [
    "len(staffInPost[staffInPost['PositionTitle'].str.lower().str.contains(\"dispatcher\")])"
   ]
  },
  {
   "cell_type": "markdown",
   "metadata": {},
   "source": [
    "## Profile of the LAS Staff In Post\n",
    "- Total of 5721 staff\n",
    "- 2906 are based at an Ambulance Station (a bit more than half)\n",
    "\n",
    "### Within the staff working at an ambulance station:\n",
    "- 1691 are paramedics\n",
    "- 904 are ambulance crew members\n",
    "- 304 are technicians\n",
    "- the rest are managers/leaders"
   ]
  },
  {
   "cell_type": "code",
   "execution_count": 408,
   "metadata": {},
   "outputs": [
    {
     "data": {
      "text/plain": [
       "array(['British', 'Irish', nan, 'Indian', 'Cameroonian', 'Pakistani',\n",
       "       'Zimbabwean', 'Canadian', 'Swedish', 'Dutch', 'Polish',\n",
       "       'Australian', 'Nigerian', 'American', 'South African',\n",
       "       'Portuguese', 'Romanian', 'Spanish', 'Chinese', 'Ghanaian',\n",
       "       'Kenyan', 'Italian', 'New Zealander', 'Danish', 'Bangladeshi',\n",
       "       'Finnish', 'Russian', 'Bulgarian', 'German', 'Greek', 'Hungarian',\n",
       "       'French', 'Angolan', 'Jamaican'], dtype=object)"
      ]
     },
     "execution_count": 408,
     "metadata": {},
     "output_type": "execute_result"
    }
   ],
   "source": [
    "leavers.Nationality.unique()"
   ]
  },
  {
   "cell_type": "code",
   "execution_count": 418,
   "metadata": {
    "scrolled": false
   },
   "outputs": [
    {
     "data": {
      "text/plain": [
       "2988"
      ]
     },
     "execution_count": 418,
     "metadata": {},
     "output_type": "execute_result"
    }
   ],
   "source": [
    "len(leavers)"
   ]
  },
  {
   "cell_type": "code",
   "execution_count": 425,
   "metadata": {},
   "outputs": [
    {
     "data": {
      "text/plain": [
       "1117"
      ]
     },
     "execution_count": 425,
     "metadata": {},
     "output_type": "execute_result"
    }
   ],
   "source": [
    "len(leavers[leavers['Nationality'].isnull()])"
   ]
  },
  {
   "cell_type": "code",
   "execution_count": 420,
   "metadata": {},
   "outputs": [],
   "source": [
    "leaversNoNA = leavers.dropna(axis=0, subset=[\"Nationality\"])"
   ]
  },
  {
   "cell_type": "code",
   "execution_count": 421,
   "metadata": {},
   "outputs": [
    {
     "data": {
      "text/plain": [
       "1871"
      ]
     },
     "execution_count": 421,
     "metadata": {},
     "output_type": "execute_result"
    }
   ],
   "source": [
    "len(leaversNoNA)"
   ]
  },
  {
   "cell_type": "code",
   "execution_count": 427,
   "metadata": {},
   "outputs": [
    {
     "data": {
      "text/plain": [
       "1473"
      ]
     },
     "execution_count": 427,
     "metadata": {},
     "output_type": "execute_result"
    }
   ],
   "source": [
    "len(leaversNoNA[leaversNoNA['Nationality'].str.lower().str.contains(\"british\")])"
   ]
  },
  {
   "cell_type": "code",
   "execution_count": 428,
   "metadata": {},
   "outputs": [
    {
     "data": {
      "text/plain": [
       "398"
      ]
     },
     "execution_count": 428,
     "metadata": {},
     "output_type": "execute_result"
    }
   ],
   "source": [
    "len(leaversNoNA) - len(leaversNoNA[leaversNoNA['Nationality'].str.lower().str.contains(\"british\")])"
   ]
  },
  {
   "cell_type": "code",
   "execution_count": 429,
   "metadata": {},
   "outputs": [
    {
     "data": {
      "text/plain": [
       "0.21272047033671834"
      ]
     },
     "execution_count": 429,
     "metadata": {},
     "output_type": "execute_result"
    }
   ],
   "source": [
    "398/1871"
   ]
  },
  {
   "cell_type": "code",
   "execution_count": 430,
   "metadata": {},
   "outputs": [],
   "source": [
    "def nonBritish(elem):\n",
    "    if elem == 'British':\n",
    "        return 0\n",
    "    else:\n",
    "        return 1"
   ]
  },
  {
   "cell_type": "code",
   "execution_count": 431,
   "metadata": {},
   "outputs": [
    {
     "name": "stderr",
     "output_type": "stream",
     "text": [
      "C:\\Users\\rachelsim\\Anaconda3\\lib\\site-packages\\ipykernel_launcher.py:1: SettingWithCopyWarning: \n",
      "A value is trying to be set on a copy of a slice from a DataFrame.\n",
      "Try using .loc[row_indexer,col_indexer] = value instead\n",
      "\n",
      "See the caveats in the documentation: http://pandas.pydata.org/pandas-docs/stable/indexing.html#indexing-view-versus-copy\n",
      "  \"\"\"Entry point for launching an IPython kernel.\n"
     ]
    }
   ],
   "source": [
    "leaversNoNA['nonBritish'] = leaversNoNA['Nationality'].map(nonBritish)"
   ]
  },
  {
   "cell_type": "code",
   "execution_count": 443,
   "metadata": {},
   "outputs": [],
   "source": [
    "def relocation(elem):\n",
    "    if \"relocation\" in elem:\n",
    "        return 1\n",
    "    else:\n",
    "        return 0"
   ]
  },
  {
   "cell_type": "code",
   "execution_count": 444,
   "metadata": {},
   "outputs": [
    {
     "name": "stderr",
     "output_type": "stream",
     "text": [
      "C:\\Users\\rachelsim\\Anaconda3\\lib\\site-packages\\ipykernel_launcher.py:1: SettingWithCopyWarning: \n",
      "A value is trying to be set on a copy of a slice from a DataFrame.\n",
      "Try using .loc[row_indexer,col_indexer] = value instead\n",
      "\n",
      "See the caveats in the documentation: http://pandas.pydata.org/pandas-docs/stable/indexing.html#indexing-view-versus-copy\n",
      "  \"\"\"Entry point for launching an IPython kernel.\n"
     ]
    }
   ],
   "source": [
    "leaversNoNA['relocation'] = leaversNoNA['Leaving Reason'].str.lower().map(relocation)"
   ]
  },
  {
   "cell_type": "code",
   "execution_count": 448,
   "metadata": {},
   "outputs": [
    {
     "data": {
      "text/html": [
       "<div>\n",
       "<style scoped>\n",
       "    .dataframe tbody tr th:only-of-type {\n",
       "        vertical-align: middle;\n",
       "    }\n",
       "\n",
       "    .dataframe tbody tr th {\n",
       "        vertical-align: top;\n",
       "    }\n",
       "\n",
       "    .dataframe thead th {\n",
       "        text-align: right;\n",
       "    }\n",
       "</style>\n",
       "<table border=\"1\" class=\"dataframe\">\n",
       "  <thead>\n",
       "    <tr style=\"text-align: right;\">\n",
       "      <th></th>\n",
       "      <th>Employee Number</th>\n",
       "      <th>Leaving year</th>\n",
       "      <th>FTE</th>\n",
       "      <th>Length of Service (Years)</th>\n",
       "      <th>Length of Service (Months)</th>\n",
       "      <th>LOS</th>\n",
       "      <th>LOS (Years)</th>\n",
       "      <th>nonBritish</th>\n",
       "      <th>relocation</th>\n",
       "    </tr>\n",
       "  </thead>\n",
       "  <tbody>\n",
       "    <tr>\n",
       "      <th>Employee Number</th>\n",
       "      <td>1.000000</td>\n",
       "      <td>0.446681</td>\n",
       "      <td>0.130420</td>\n",
       "      <td>-0.705682</td>\n",
       "      <td>-0.060969</td>\n",
       "      <td>-0.709416</td>\n",
       "      <td>-0.709366</td>\n",
       "      <td>0.251487</td>\n",
       "      <td>0.016668</td>\n",
       "    </tr>\n",
       "    <tr>\n",
       "      <th>Leaving year</th>\n",
       "      <td>0.446681</td>\n",
       "      <td>1.000000</td>\n",
       "      <td>-0.000358</td>\n",
       "      <td>-0.032649</td>\n",
       "      <td>-0.036788</td>\n",
       "      <td>-0.036534</td>\n",
       "      <td>-0.036505</td>\n",
       "      <td>0.238193</td>\n",
       "      <td>0.108268</td>\n",
       "    </tr>\n",
       "    <tr>\n",
       "      <th>FTE</th>\n",
       "      <td>0.130420</td>\n",
       "      <td>-0.000358</td>\n",
       "      <td>1.000000</td>\n",
       "      <td>-0.113630</td>\n",
       "      <td>-0.019455</td>\n",
       "      <td>-0.115285</td>\n",
       "      <td>-0.115612</td>\n",
       "      <td>0.080820</td>\n",
       "      <td>0.097608</td>\n",
       "    </tr>\n",
       "    <tr>\n",
       "      <th>Length of Service (Years)</th>\n",
       "      <td>-0.705682</td>\n",
       "      <td>-0.032649</td>\n",
       "      <td>-0.113630</td>\n",
       "      <td>1.000000</td>\n",
       "      <td>-0.016813</td>\n",
       "      <td>0.994012</td>\n",
       "      <td>0.994150</td>\n",
       "      <td>-0.171521</td>\n",
       "      <td>0.037669</td>\n",
       "    </tr>\n",
       "    <tr>\n",
       "      <th>Length of Service (Months)</th>\n",
       "      <td>-0.060969</td>\n",
       "      <td>-0.036788</td>\n",
       "      <td>-0.019455</td>\n",
       "      <td>-0.016813</td>\n",
       "      <td>1.000000</td>\n",
       "      <td>0.092548</td>\n",
       "      <td>0.090822</td>\n",
       "      <td>-0.023356</td>\n",
       "      <td>0.005917</td>\n",
       "    </tr>\n",
       "    <tr>\n",
       "      <th>LOS</th>\n",
       "      <td>-0.709416</td>\n",
       "      <td>-0.036534</td>\n",
       "      <td>-0.115285</td>\n",
       "      <td>0.994012</td>\n",
       "      <td>0.092548</td>\n",
       "      <td>1.000000</td>\n",
       "      <td>0.999949</td>\n",
       "      <td>-0.173362</td>\n",
       "      <td>0.038159</td>\n",
       "    </tr>\n",
       "    <tr>\n",
       "      <th>LOS (Years)</th>\n",
       "      <td>-0.709366</td>\n",
       "      <td>-0.036505</td>\n",
       "      <td>-0.115612</td>\n",
       "      <td>0.994150</td>\n",
       "      <td>0.090822</td>\n",
       "      <td>0.999949</td>\n",
       "      <td>1.000000</td>\n",
       "      <td>-0.173695</td>\n",
       "      <td>0.037797</td>\n",
       "    </tr>\n",
       "    <tr>\n",
       "      <th>nonBritish</th>\n",
       "      <td>0.251487</td>\n",
       "      <td>0.238193</td>\n",
       "      <td>0.080820</td>\n",
       "      <td>-0.171521</td>\n",
       "      <td>-0.023356</td>\n",
       "      <td>-0.173362</td>\n",
       "      <td>-0.173695</td>\n",
       "      <td>1.000000</td>\n",
       "      <td>0.370396</td>\n",
       "    </tr>\n",
       "    <tr>\n",
       "      <th>relocation</th>\n",
       "      <td>0.016668</td>\n",
       "      <td>0.108268</td>\n",
       "      <td>0.097608</td>\n",
       "      <td>0.037669</td>\n",
       "      <td>0.005917</td>\n",
       "      <td>0.038159</td>\n",
       "      <td>0.037797</td>\n",
       "      <td>0.370396</td>\n",
       "      <td>1.000000</td>\n",
       "    </tr>\n",
       "  </tbody>\n",
       "</table>\n",
       "</div>"
      ],
      "text/plain": [
       "                            Employee Number  Leaving year       FTE  \\\n",
       "Employee Number                    1.000000      0.446681  0.130420   \n",
       "Leaving year                       0.446681      1.000000 -0.000358   \n",
       "FTE                                0.130420     -0.000358  1.000000   \n",
       "Length of Service (Years)         -0.705682     -0.032649 -0.113630   \n",
       "Length of Service (Months)        -0.060969     -0.036788 -0.019455   \n",
       "LOS                               -0.709416     -0.036534 -0.115285   \n",
       "LOS (Years)                       -0.709366     -0.036505 -0.115612   \n",
       "nonBritish                         0.251487      0.238193  0.080820   \n",
       "relocation                         0.016668      0.108268  0.097608   \n",
       "\n",
       "                            Length of Service (Years)  \\\n",
       "Employee Number                             -0.705682   \n",
       "Leaving year                                -0.032649   \n",
       "FTE                                         -0.113630   \n",
       "Length of Service (Years)                    1.000000   \n",
       "Length of Service (Months)                  -0.016813   \n",
       "LOS                                          0.994012   \n",
       "LOS (Years)                                  0.994150   \n",
       "nonBritish                                  -0.171521   \n",
       "relocation                                   0.037669   \n",
       "\n",
       "                            Length of Service (Months)       LOS  LOS (Years)  \\\n",
       "Employee Number                              -0.060969 -0.709416    -0.709366   \n",
       "Leaving year                                 -0.036788 -0.036534    -0.036505   \n",
       "FTE                                          -0.019455 -0.115285    -0.115612   \n",
       "Length of Service (Years)                    -0.016813  0.994012     0.994150   \n",
       "Length of Service (Months)                    1.000000  0.092548     0.090822   \n",
       "LOS                                           0.092548  1.000000     0.999949   \n",
       "LOS (Years)                                   0.090822  0.999949     1.000000   \n",
       "nonBritish                                   -0.023356 -0.173362    -0.173695   \n",
       "relocation                                    0.005917  0.038159     0.037797   \n",
       "\n",
       "                            nonBritish  relocation  \n",
       "Employee Number               0.251487    0.016668  \n",
       "Leaving year                  0.238193    0.108268  \n",
       "FTE                           0.080820    0.097608  \n",
       "Length of Service (Years)    -0.171521    0.037669  \n",
       "Length of Service (Months)   -0.023356    0.005917  \n",
       "LOS                          -0.173362    0.038159  \n",
       "LOS (Years)                  -0.173695    0.037797  \n",
       "nonBritish                    1.000000    0.370396  \n",
       "relocation                    0.370396    1.000000  "
      ]
     },
     "execution_count": 448,
     "metadata": {},
     "output_type": "execute_result"
    }
   ],
   "source": [
    "leaversNoNA.corr()"
   ]
  },
  {
   "cell_type": "code",
   "execution_count": 455,
   "metadata": {},
   "outputs": [
    {
     "data": {
      "text/plain": [
       "311"
      ]
     },
     "execution_count": 455,
     "metadata": {},
     "output_type": "execute_result"
    }
   ],
   "source": [
    "len(leaversNoNA[(leaversNoNA.relocation==1)&(leaversNoNA.nonBritish==0)])"
   ]
  },
  {
   "cell_type": "code",
   "execution_count": 451,
   "metadata": {},
   "outputs": [
    {
     "data": {
      "text/plain": [
       "1473"
      ]
     },
     "execution_count": 451,
     "metadata": {},
     "output_type": "execute_result"
    }
   ],
   "source": [
    "len(leaversNoNA[leaversNoNA.nonBritish==0])"
   ]
  },
  {
   "cell_type": "code",
   "execution_count": 456,
   "metadata": {},
   "outputs": [
    {
     "data": {
      "text/plain": [
       "0.6261713520749665"
      ]
     },
     "execution_count": 456,
     "metadata": {},
     "output_type": "execute_result"
    }
   ],
   "source": [
    "1871/2988"
   ]
  },
  {
   "cell_type": "code",
   "execution_count": 457,
   "metadata": {},
   "outputs": [],
   "source": [
    "from beautifultable import BeautifulTable"
   ]
  },
  {
   "cell_type": "code",
   "execution_count": 460,
   "metadata": {},
   "outputs": [
    {
     "name": "stdout",
     "output_type": "stream",
     "text": [
      "+-----------+---------+-------------+-------+\n",
      "|           | British | Non-British | Total |\n",
      "+-----------+---------+-------------+-------+\n",
      "| Relocated |   311   |     249     |  560  |\n",
      "+-----------+---------+-------------+-------+\n",
      "|   Other   |  1162   |     149     | 1311  |\n",
      "+-----------+---------+-------------+-------+\n",
      "|   Total   |  1473   |     398     | 1871  |\n",
      "+-----------+---------+-------------+-------+\n"
     ]
    }
   ],
   "source": [
    "table = BeautifulTable()\n",
    "table.column_headers = [\"\", \"British\", \"Non-British\", \"Total\"]\n",
    "table.append_row([\"Relocated\", 311, 249, 560])\n",
    "table.append_row([\"Other\", 1162, 149, 1311])\n",
    "table.append_row([\"Total\", 1473, 398, 1871])\n",
    "print(table)"
   ]
  },
  {
   "cell_type": "code",
   "execution_count": 481,
   "metadata": {},
   "outputs": [
    {
     "data": {
      "text/plain": [
       "Index(['IDnumber', 'Board', 'Division', 'Directorate', 'Locality', 'Service',\n",
       "       'Department', 'Location', 'Gender', 'AgeBand', 'PostcodeSector',\n",
       "       'PositionTitle', 'EmployeeCategory', 'AssignmentCategory', 'FTE',\n",
       "       'ContractHours', 'Frequency', 'LengthOfService(Years)',\n",
       "       'LengthOfService(Months)', 'nhsEntryDate', 'LatestStartDate',\n",
       "       'StartDateInGrade', 'TimeInGrade(Years)',\n",
       "       'AssignmentEffectiveStartDate', 'OriginalHireDate',\n",
       "       'StartDateInPosition', 'LengthOfService(YearsFloat)', 'StartMonth',\n",
       "       'WorkLocation', 'WorkAddress', 'WorkPostcode', 'WorkLocationFull',\n",
       "       'manual', 'ResLatLon', 'WorkLatLon', 'travelDuration', 'ResLat',\n",
       "       'ResLon', 'WorkLat', 'WorkLon', 'AgeBandIndex'],\n",
       "      dtype='object')"
      ]
     },
     "execution_count": 481,
     "metadata": {},
     "output_type": "execute_result"
    }
   ],
   "source": [
    "staffFinal.columns"
   ]
  },
  {
   "cell_type": "code",
   "execution_count": 492,
   "metadata": {},
   "outputs": [],
   "source": [
    "tdmean = staffFinal.travelDuration.mean()"
   ]
  },
  {
   "cell_type": "code",
   "execution_count": 495,
   "metadata": {},
   "outputs": [
    {
     "data": {
      "text/plain": [
       "63.113862390907244"
      ]
     },
     "execution_count": 495,
     "metadata": {},
     "output_type": "execute_result"
    }
   ],
   "source": [
    "tdmean"
   ]
  },
  {
   "cell_type": "code",
   "execution_count": 529,
   "metadata": {
    "scrolled": false
   },
   "outputs": [
    {
     "data": {
      "image/png": "[encoded data removed]",
      "text/plain": [
       "<Figure size 864x576 with 1 Axes>"
      ]
     },
     "metadata": {},
     "output_type": "display_data"
    }
   ],
   "source": [
    "plt.figure(figsize=(12,8))\n",
    "plt.hist(staffFinal.travelDuration, bins=20, color=\"#3F5D7D\")\n",
    "tdmean = staffFinal.travelDuration.mean()\n",
    "tdmedian = np.median(staffFinal.travelDuration)\n",
    "tdsigma = staffFinal.travelDuration.std()\n",
    "textstr = '\\n'.join((\n",
    "    r'$\\mu=%.2f$' % (tdmean, ),\n",
    "    r'$\\mathrm{median}=%.2f$' % (tdmedian, ),\n",
    "    r'$\\sigma=%.2f$' % (tdsigma, )))\n",
    "props = dict(boxstyle='round', facecolor='lightblue', alpha=0.3)\n",
    "plt.text(0.1, 1.7, textstr, transform=ax.transAxes, fontsize=14,\n",
    "        verticalalignment='top', bbox=props)\n",
    "plt.title('Distribution of Travel Duration \\n', fontsize=16)\n",
    "plt.xlabel('Time in Minutes', fontsize=14)\n",
    "plt.ylabel('Number of Staff', fontsize=14)\n",
    "plt.show()"
   ]
  },
  {
   "cell_type": "code",
   "execution_count": null,
   "metadata": {},
   "outputs": [],
   "source": []
  }
 ],
 "metadata": {
  "kernelspec": {
   "display_name": "Python 3",
   "language": "python",
   "name": "python3"
  },
  "language_info": {
   "codemirror_mode": {
    "name": "ipython",
    "version": 3
   },
   "file_extension": ".py",
   "mimetype": "text/x-python",
   "name": "python",
   "nbconvert_exporter": "python",
   "pygments_lexer": "ipython3",
   "version": "3.6.5"
  }
 },
 "nbformat": 4,
 "nbformat_minor": 2
}
