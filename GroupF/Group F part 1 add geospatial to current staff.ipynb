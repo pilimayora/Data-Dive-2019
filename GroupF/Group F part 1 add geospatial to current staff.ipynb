{
 "cells": [
  {
   "cell_type": "markdown",
   "metadata": {
    "slideshow": {
     "slide_type": "slide"
    }
   },
   "source": [
    "# LAS Data Dive Group F"
   ]
  },
  {
   "cell_type": "code",
   "execution_count": null,
   "metadata": {
    "slideshow": {
     "slide_type": "skip"
    }
   },
   "outputs": [],
   "source": [
    "import numpy as np\n",
    "import pandas as pd\n",
    "import geopandas as gpd\n",
    "import re\n",
    "%matplotlib inline\n",
    "pd.set_option('display.max_rows', 500)\n",
    "pd.set_option('display.max_columns', 500)"
   ]
  },
  {
   "cell_type": "markdown",
   "metadata": {
    "slideshow": {
     "slide_type": "skip"
    }
   },
   "source": [
    "## Read in data"
   ]
  },
  {
   "cell_type": "code",
   "execution_count": null,
   "metadata": {
    "slideshow": {
     "slide_type": "skip"
    }
   },
   "outputs": [],
   "source": [
    "LEAVERS = pd.read_csv(\"data/Workforce Data/LAS_Leavers_070319.csv\")\n",
    "STAFF = pd.read_csv(\"data/Workforce Data/LAS_Staff_in_Post_070319.csv\")\n",
    "STATIONS = pd.read_csv(\"data/Workforce Data/workplace location table.csv\")\n",
    "\n",
    "\n",
    "#From https://datashare.is.ed.ac.uk/handle/10283/2597\n",
    "PC_SECTOR = gpd.read_file(\"data/postcode/Sectors.shp\", crs={'init': 'epsg:4326'})"
   ]
  },
  {
   "cell_type": "code",
   "execution_count": null,
   "metadata": {
    "slideshow": {
     "slide_type": "skip"
    }
   },
   "outputs": [],
   "source": [
    "STAFF[\"LengthOfService(Years)\"] = pd.to_numeric(STAFF[\"LengthOfService(Years)\"], float)\n",
    "\n",
    "STAFF[\"LengthOfService(Months)\"] = pd.to_numeric(STAFF[\"LengthOfService(Months)\"], float)\n",
    "\n",
    "STAFF[\"LengthOfServiceFLOAT\"] = STAFF[\"LengthOfService(Years)\"] + STAFF[\"LengthOfService(Months)\"]/12"
   ]
  },
  {
   "cell_type": "markdown",
   "metadata": {},
   "source": [
    "## Adding geospatial info to current staff table"
   ]
  },
  {
   "cell_type": "code",
   "execution_count": null,
   "metadata": {
    "slideshow": {
     "slide_type": "skip"
    }
   },
   "outputs": [],
   "source": [
    "#Add station postcodes to staff data\n",
    "STAFFM2 = pd.merge(STAFF, STATIONS, left_on=\"Location\", right_on=\"esrLocationFull\")\n",
    "STAFFM2 = STAFFM2.rename(columns={\"Location\" : \"WorkLocation\", \"postcode\" : \"PostcodeWork\"})\n",
    "STAFFM2"
   ]
  },
  {
   "cell_type": "code",
   "execution_count": null,
   "metadata": {
    "slideshow": {
     "slide_type": "skip"
    }
   },
   "outputs": [],
   "source": [
    "#Function to extract coordinates\n",
    "def extract_coords(point):\n",
    "    lat = re.findall(r'[-]*[0-9]+[.]*[0-9]+', str(point))\n",
    "    long = re.findall(r'\\s([0-9]+[.]*[0-9]+)', str(point))\n",
    "    return str(long[0] + \",\" + lat[0])"
   ]
  },
  {
   "cell_type": "code",
   "execution_count": null,
   "metadata": {
    "slideshow": {
     "slide_type": "skip"
    }
   },
   "outputs": [],
   "source": [
    "#Merge staff data with postcode sector boundaries\n",
    "STAFF_PC_AGG_GEO = pd.merge(STAFF, PC_SECTOR, left_on=\"PostcodeSector\", right_on=\"name\")\n",
    "\n",
    "#Create geodatamframe\n",
    "STAFF_PC_AGG_GEO = gpd.GeoDataFrame(STAFF_PC_AGG_GEO, geometry='geometry', crs={'init': 'epsg:4326'})\n",
    "\n",
    "#Get centroids\n",
    "STAFF_PC_AGG_GEO[\"centroids\"] = STAFF_PC_AGG_GEO.centroid\n",
    "\n",
    "STAFF_PC_AGG_GEO[\"centroids_str\"] = STAFF_PC_AGG_GEO[\"centroids\"].apply(extract_coords)"
   ]
  },
  {
   "cell_type": "code",
   "execution_count": null,
   "metadata": {
    "slideshow": {
     "slide_type": "skip"
    }
   },
   "outputs": [],
   "source": [
    "#Get postcodes of departments\n",
    "INFERR = pd.DataFrame(STAFFM2.groupby(by=[\"Department\", \"WorkLocation\", \"PostcodeWork\"]).count()[\"IDnumber\"].sort_values(ascending = False))\n",
    "INFERR.columns = [\"Count\"]\n",
    "\n",
    "INFERR = INFERR.reset_index()\n",
    "\n",
    "INFERR2 = INFERR.set_index([\"Department\", \"WorkLocation\"])\n",
    "\n",
    "#Input this in to online postcode search website https://gridreferencefinder.com/postcodeBatchConverter/\n",
    "INFERR2.to_csv(\"Org Department postcodes.csv\")"
   ]
  },
  {
   "cell_type": "code",
   "execution_count": null,
   "metadata": {},
   "outputs": [],
   "source": [
    "#Import this data\n",
    "Workplace_coords = pd.read_csv(\"station_pc_latlong.csv\")\n",
    "Workplace_coords"
   ]
  },
  {
   "cell_type": "code",
   "execution_count": null,
   "metadata": {},
   "outputs": [],
   "source": [
    "#Add co-ordinates to staff data\n",
    "MERGED_MEGA = pd.merge(STAFFM2, Workplace_coords,  left_on=\"PostcodeWork\", right_on=\"Postcode\", how=\"left\")\n",
    "\n",
    "#Export to csv for use in Tableau\n",
    "MERGED_MEGA.to_csv(\"OD COUNTS5.csv\")"
   ]
  },
  {
   "cell_type": "markdown",
   "metadata": {},
   "source": [
    "## Calculating turnover"
   ]
  },
  {
   "cell_type": "code",
   "execution_count": null,
   "metadata": {},
   "outputs": [],
   "source": [
    "STAFF[\"LatestStartDate\"] = pd.to_datetime(STAFFM2[\"LatestStartDate\"])\n",
    "LEAVERS[\"Employee Latest Start Date\"] = pd.to_datetime(LEAVERS[\"Employee Latest Start Date\"])\n",
    "LEAVERS[\"Termination Date\"] = pd.to_datetime(LEAVERS[\"Termination Date\"])"
   ]
  },
  {
   "cell_type": "code",
   "execution_count": null,
   "metadata": {},
   "outputs": [],
   "source": [
    "Leavers_2018 = len(LEAVERS.loc[LEAVERS[\"Leaving year\"] == 2018])\n",
    "\n",
    "Staff_Dec_2018 = len(STAFF.loc[STAFF[\"LatestStartDate\"] < pd.to_datetime(\"2018-12-31\")])\n",
    "Staff_Jan_2018 = len(STAFF.loc[STAFF[\"LatestStartDate\"] < pd.to_datetime(\"2018-01-01\")])\n",
    "Average_staff2018 = (Staff_Dec_2018 + Staff_Jan_2018)/2 + Leavers_2018/2\n",
    "Average_staff2018\n",
    "\n",
    "Turnover_Rate = Leavers_2018/Average_staff2018\n",
    "Turnover_Rate"
   ]
  },
  {
   "cell_type": "code",
   "execution_count": null,
   "metadata": {},
   "outputs": [],
   "source": [
    "LEAVERS3 = LEAVERS[[\"Employee Number\", \"Employee Latest Start Date\", \"Termination Date\", \"Org L5\"]]\n",
    "\n",
    "STAFF[\"Termination Date\"] = np.nan\n",
    "STAFFM3 = STAFF[[\"IDnumber\", \"LatestStartDate\", \"Directorate\", \"Termination Date\"]]"
   ]
  },
  {
   "cell_type": "code",
   "execution_count": null,
   "metadata": {},
   "outputs": [],
   "source": [
    "STAFFM3.columns = [\"Employee Number\", \"Employee Latest Start Date\", \"Org L5\", \"Termination Date\"]"
   ]
  },
  {
   "cell_type": "code",
   "execution_count": null,
   "metadata": {},
   "outputs": [],
   "source": [
    "MERGED_STAFF = pd.concat([LEAVERS3, STAFFM3], axis=0, ignore_index=True)"
   ]
  },
  {
   "cell_type": "code",
   "execution_count": null,
   "metadata": {},
   "outputs": [],
   "source": [
    "Leave2018 = MERGED_STAFF.loc[MERGED_STAFF[\"Termination Date\"] < pd.to_datetime(\"2018-12-31\")]\n",
    "Leave2018 = Leave2018.loc[Leave2018[\"Termination Date\"] > pd.to_datetime(\"2018-01-01\")]"
   ]
  }
 ],
 "metadata": {
  "hide_input": false,
  "kernelspec": {
   "display_name": "“cusplondon”",
   "language": "python",
   "name": "cusplondon"
  },
  "language_info": {
   "codemirror_mode": {
    "name": "ipython",
    "version": 3
   },
   "file_extension": ".py",
   "mimetype": "text/x-python",
   "name": "python",
   "nbconvert_exporter": "python",
   "pygments_lexer": "ipython3",
   "version": "3.6.7"
  }
 },
 "nbformat": 4,
 "nbformat_minor": 2
}
