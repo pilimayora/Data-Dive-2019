{
 "cells": [
  {
   "cell_type": "code",
   "execution_count": 1,
   "metadata": {},
   "outputs": [],
   "source": [
    "import pandas as pd\n",
    "import geopandas as gpd\n",
    "import matplotlib.pyplot as plt\n",
    "from scipy.stats import chi2_contingency\n",
    "from datetime import datetime"
   ]
  },
  {
   "cell_type": "code",
   "execution_count": 2,
   "metadata": {},
   "outputs": [],
   "source": [
    "jan_feb_responses = pd.read_csv(\"data/Responses/responsesP1(Jan-Feb).csv\")\n",
    "mar_apr_responses = pd.read_csv(\"data/Responses/responsesP2(Mar-Apr).csv\")\n",
    "may_jun_responses = pd.read_csv(\"data/Responses/responsesP3(May-Jun).csv\")\n",
    "jul_aug_responses = pd.read_csv(\"data/Responses/responsesP4(Jul-Aug).csv\")\n",
    "sep_oct_responses = pd.read_csv(\"data/Responses/responsesP5(Sep-Oct).csv\")\n",
    "nov_dec_responses = pd.read_csv(\"data/Responses/responsesP6(Nov-Dec).csv\")"
   ]
  },
  {
   "cell_type": "markdown",
   "metadata": {},
   "source": [
    "Split responses into 111 calls vs non all other calls"
   ]
  },
  {
   "cell_type": "code",
   "execution_count": 3,
   "metadata": {},
   "outputs": [],
   "source": [
    "jan_feb_responses_111 = jan_feb_responses[jan_feb_responses['chiefcomplaintcode'] == 111]\n",
    "mar_apr_responses_111 = mar_apr_responses[mar_apr_responses['chiefcomplaintcode'] == 111]\n",
    "may_jun_responses_111 = may_jun_responses[may_jun_responses['chiefcomplaintcode'] == 111]\n",
    "jul_aug_responses_111 = jul_aug_responses[jul_aug_responses['chiefcomplaintcode'] == 111]\n",
    "sep_oct_responses_111 = sep_oct_responses[sep_oct_responses['chiefcomplaintcode'] == 111]\n",
    "nov_dec_responses_111 = nov_dec_responses[nov_dec_responses['chiefcomplaintcode'] == 111]\n",
    "\n",
    "jan_feb_responses_not_111 = jan_feb_responses[jan_feb_responses['chiefcomplaintcode'] != 111]\n",
    "mar_apr_responses_not_111 = mar_apr_responses[mar_apr_responses['chiefcomplaintcode'] != 111]\n",
    "may_jun_responses_not_111 = may_jun_responses[may_jun_responses['chiefcomplaintcode'] != 111]\n",
    "jul_aug_responses_not_111 = jul_aug_responses[jul_aug_responses['chiefcomplaintcode'] != 111]\n",
    "sep_oct_responses_not_111 = sep_oct_responses[sep_oct_responses['chiefcomplaintcode'] != 111]\n",
    "nov_dec_responses_not_111 = nov_dec_responses[nov_dec_responses['chiefcomplaintcode'] != 111]"
   ]
  },
  {
   "cell_type": "markdown",
   "metadata": {},
   "source": [
    "Put all responses for the year into one dataframe"
   ]
  },
  {
   "cell_type": "code",
   "execution_count": 4,
   "metadata": {},
   "outputs": [],
   "source": [
    "all_responses_111 = jan_feb_responses_111.append([mar_apr_responses_111,may_jun_responses_111,jul_aug_responses_111,sep_oct_responses_111,nov_dec_responses_111])\n",
    "all_responses_not_111 = jan_feb_responses_not_111.append([mar_apr_responses_not_111,may_jun_responses_not_111,jul_aug_responses_not_111,sep_oct_responses_not_111,nov_dec_responses_not_111])"
   ]
  },
  {
   "cell_type": "code",
   "execution_count": 5,
   "metadata": {},
   "outputs": [
    {
     "data": {
      "text/plain": [
       "(262782, 43)"
      ]
     },
     "execution_count": 5,
     "metadata": {},
     "output_type": "execute_result"
    }
   ],
   "source": [
    "all_responses_111.shape"
   ]
  },
  {
   "cell_type": "code",
   "execution_count": 6,
   "metadata": {},
   "outputs": [],
   "source": [
    "# clean repeated dates by restricting the dates\n",
    "all_responses_111 = all_responses_111[(all_responses_111['callstart'] > '2017-12-31') & (all_responses_111['callstart'] < '2019-01-01')]\n",
    "all_responses_not_111 = all_responses_not_111[(all_responses_not_111['callstart'] > '2017-12-31') & (all_responses_not_111['callstart'] < '2019-01-01')]"
   ]
  },
  {
   "cell_type": "code",
   "execution_count": 7,
   "metadata": {},
   "outputs": [
    {
     "data": {
      "text/plain": [
       "(260732, 43)"
      ]
     },
     "execution_count": 7,
     "metadata": {},
     "output_type": "execute_result"
    }
   ],
   "source": [
    "all_responses_111.shape"
   ]
  },
  {
   "cell_type": "markdown",
   "metadata": {},
   "source": [
    "------"
   ]
  },
  {
   "cell_type": "markdown",
   "metadata": {},
   "source": [
    "## Group 111 calls by LSOA and time of day during working days\n",
    "Outputs one file per hour of the day with the count of 111 calls in each LSOA"
   ]
  },
  {
   "cell_type": "code",
   "execution_count": 8,
   "metadata": {},
   "outputs": [],
   "source": [
    "all_responses_111['callstart'] = pd.to_datetime(all_responses_111['callstart'])\n",
    "all_responses_111['day_of_week'] = all_responses_111['callstart'].dt.day_name()"
   ]
  },
  {
   "cell_type": "code",
   "execution_count": 9,
   "metadata": {},
   "outputs": [],
   "source": [
    "# keep responses that happened on week days\n",
    "all_responses_111_weekdays = all_responses_111[(all_responses_111['day_of_week'] != 'Sunday') & (all_responses_111['day_of_week'] != 'Saturday')]"
   ]
  },
  {
   "cell_type": "code",
   "execution_count": 10,
   "metadata": {},
   "outputs": [
    {
     "data": {
      "text/plain": [
       "(174496, 44)"
      ]
     },
     "execution_count": 10,
     "metadata": {},
     "output_type": "execute_result"
    }
   ],
   "source": [
    "all_responses_111_weekdays.shape"
   ]
  },
  {
   "cell_type": "code",
   "execution_count": 11,
   "metadata": {},
   "outputs": [
    {
     "name": "stderr",
     "output_type": "stream",
     "text": [
      "/anaconda3/lib/python3.7/site-packages/ipykernel_launcher.py:1: SettingWithCopyWarning: \n",
      "A value is trying to be set on a copy of a slice from a DataFrame.\n",
      "Try using .loc[row_indexer,col_indexer] = value instead\n",
      "\n",
      "See the caveats in the documentation: http://pandas.pydata.org/pandas-docs/stable/indexing.html#indexing-view-versus-copy\n",
      "  \"\"\"Entry point for launching an IPython kernel.\n"
     ]
    }
   ],
   "source": [
    "all_responses_111_weekdays['time_of_day'] = all_responses_111_weekdays['callstart'].dt.hour"
   ]
  },
  {
   "cell_type": "code",
   "execution_count": 13,
   "metadata": {},
   "outputs": [],
   "source": [
    "for i in range(0, 24):\n",
    "    file_name = \"outputs/num_responses_111_per_lsoa_time_\" + str(i) + \".csv\"\n",
    "    num_responses_111_per_lsoa_time_i = all_responses_111_weekdays[all_responses_111_weekdays['time_of_day'] == i].groupby('lsoa').count()[['incidentid']].reset_index()\n",
    "    num_responses_111_per_lsoa_time_i.to_csv(file_name)"
   ]
  },
  {
   "cell_type": "markdown",
   "metadata": {},
   "source": [
    "-----------"
   ]
  },
  {
   "cell_type": "markdown",
   "metadata": {},
   "source": [
    "## Compare 111 calls to non-111 calls\n",
    "Are there any noticeable patterns? Could we say that 111 calls are used more by locals? Is there a difference in 111 usage between females/males and different age groups?"
   ]
  },
  {
   "cell_type": "code",
   "execution_count": 14,
   "metadata": {},
   "outputs": [
    {
     "data": {
      "text/plain": [
       "(260732, 44)"
      ]
     },
     "execution_count": 14,
     "metadata": {},
     "output_type": "execute_result"
    }
   ],
   "source": [
    "all_responses_111.shape"
   ]
  },
  {
   "cell_type": "code",
   "execution_count": 15,
   "metadata": {},
   "outputs": [
    {
     "data": {
      "text/plain": [
       "(1686138, 43)"
      ]
     },
     "execution_count": 15,
     "metadata": {},
     "output_type": "execute_result"
    }
   ],
   "source": [
    "all_responses_not_111.shape"
   ]
  },
  {
   "cell_type": "markdown",
   "metadata": {},
   "source": [
    "### Borough"
   ]
  },
  {
   "cell_type": "code",
   "execution_count": 16,
   "metadata": {},
   "outputs": [],
   "source": [
    "num_responses_111_per_borough = all_responses_111.groupby('borough').count()[['incidentid']].rename(columns={'incidentid':'num_111_responses'})\n",
    "num_responses_not_111_per_borough = all_responses_not_111.groupby('borough').count()[['incidentid']].rename(columns={'incidentid':'num_not_111_responses'})"
   ]
  },
  {
   "cell_type": "code",
   "execution_count": 17,
   "metadata": {},
   "outputs": [],
   "source": [
    "borough_111_vs_not_111 = pd.concat([num_responses_111_per_borough,num_responses_not_111_per_borough], axis=1)"
   ]
  },
  {
   "cell_type": "code",
   "execution_count": 18,
   "metadata": {},
   "outputs": [],
   "source": [
    "borough_111_vs_not_111['per_111_responses'] = borough_111_vs_not_111['num_111_responses'] / borough_111_vs_not_111['num_111_responses'].sum() * 100\n",
    "borough_111_vs_not_111['per_not_111_responses'] = borough_111_vs_not_111['num_not_111_responses'] / borough_111_vs_not_111['num_not_111_responses'].sum() * 100\n",
    "\n",
    "borough_111_vs_not_111['per_abs_difference'] = (borough_111_vs_not_111['per_111_responses'] - borough_111_vs_not_111['per_not_111_responses']).abs()"
   ]
  },
  {
   "cell_type": "code",
   "execution_count": 19,
   "metadata": {},
   "outputs": [],
   "source": [
    "borough_111_vs_not_111.to_csv(\"outputs/percentage_diff_111_vs_not_111_by_borough.csv\")"
   ]
  },
  {
   "cell_type": "code",
   "execution_count": 20,
   "metadata": {},
   "outputs": [
    {
     "data": {
      "text/html": [
       "<div>\n",
       "<style scoped>\n",
       "    .dataframe tbody tr th:only-of-type {\n",
       "        vertical-align: middle;\n",
       "    }\n",
       "\n",
       "    .dataframe tbody tr th {\n",
       "        vertical-align: top;\n",
       "    }\n",
       "\n",
       "    .dataframe thead th {\n",
       "        text-align: right;\n",
       "    }\n",
       "</style>\n",
       "<table border=\"1\" class=\"dataframe\">\n",
       "  <thead>\n",
       "    <tr style=\"text-align: right;\">\n",
       "      <th></th>\n",
       "      <th>num_111_responses</th>\n",
       "      <th>num_not_111_responses</th>\n",
       "      <th>per_111_responses</th>\n",
       "      <th>per_not_111_responses</th>\n",
       "      <th>per_abs_difference</th>\n",
       "    </tr>\n",
       "    <tr>\n",
       "      <th>borough</th>\n",
       "      <th></th>\n",
       "      <th></th>\n",
       "      <th></th>\n",
       "      <th></th>\n",
       "      <th></th>\n",
       "    </tr>\n",
       "  </thead>\n",
       "  <tbody>\n",
       "    <tr>\n",
       "      <th>Barking and Dagenham</th>\n",
       "      <td>7777</td>\n",
       "      <td>41949</td>\n",
       "      <td>2.983546</td>\n",
       "      <td>2.489118</td>\n",
       "      <td>0.494428</td>\n",
       "    </tr>\n",
       "    <tr>\n",
       "      <th>Barnet</th>\n",
       "      <td>10380</td>\n",
       "      <td>61591</td>\n",
       "      <td>3.982153</td>\n",
       "      <td>3.654610</td>\n",
       "      <td>0.327543</td>\n",
       "    </tr>\n",
       "    <tr>\n",
       "      <th>Bexley</th>\n",
       "      <td>7792</td>\n",
       "      <td>41476</td>\n",
       "      <td>2.989300</td>\n",
       "      <td>2.461051</td>\n",
       "      <td>0.528249</td>\n",
       "    </tr>\n",
       "    <tr>\n",
       "      <th>Brent</th>\n",
       "      <td>10000</td>\n",
       "      <td>64743</td>\n",
       "      <td>3.836371</td>\n",
       "      <td>3.841640</td>\n",
       "      <td>0.005269</td>\n",
       "    </tr>\n",
       "    <tr>\n",
       "      <th>Bromley</th>\n",
       "      <td>9823</td>\n",
       "      <td>53602</td>\n",
       "      <td>3.768467</td>\n",
       "      <td>3.180569</td>\n",
       "      <td>0.587898</td>\n",
       "    </tr>\n",
       "    <tr>\n",
       "      <th>Camden</th>\n",
       "      <td>6836</td>\n",
       "      <td>56630</td>\n",
       "      <td>2.622543</td>\n",
       "      <td>3.360241</td>\n",
       "      <td>0.737697</td>\n",
       "    </tr>\n",
       "    <tr>\n",
       "      <th>City of London</th>\n",
       "      <td>807</td>\n",
       "      <td>12618</td>\n",
       "      <td>0.309595</td>\n",
       "      <td>0.748711</td>\n",
       "      <td>0.439116</td>\n",
       "    </tr>\n",
       "    <tr>\n",
       "      <th>Croydon</th>\n",
       "      <td>15324</td>\n",
       "      <td>73363</td>\n",
       "      <td>5.878855</td>\n",
       "      <td>4.353123</td>\n",
       "      <td>1.525733</td>\n",
       "    </tr>\n",
       "    <tr>\n",
       "      <th>Ealing</th>\n",
       "      <td>10617</td>\n",
       "      <td>65903</td>\n",
       "      <td>4.073075</td>\n",
       "      <td>3.910470</td>\n",
       "      <td>0.162605</td>\n",
       "    </tr>\n",
       "    <tr>\n",
       "      <th>Enfield</th>\n",
       "      <td>10703</td>\n",
       "      <td>60134</td>\n",
       "      <td>4.106068</td>\n",
       "      <td>3.568157</td>\n",
       "      <td>0.537911</td>\n",
       "    </tr>\n",
       "    <tr>\n",
       "      <th>Greenwich</th>\n",
       "      <td>7909</td>\n",
       "      <td>52601</td>\n",
       "      <td>3.034186</td>\n",
       "      <td>3.121173</td>\n",
       "      <td>0.086987</td>\n",
       "    </tr>\n",
       "    <tr>\n",
       "      <th>Hackney</th>\n",
       "      <td>6418</td>\n",
       "      <td>50582</td>\n",
       "      <td>2.462183</td>\n",
       "      <td>3.001372</td>\n",
       "      <td>0.539189</td>\n",
       "    </tr>\n",
       "    <tr>\n",
       "      <th>Hammersmith and Fulham</th>\n",
       "      <td>5459</td>\n",
       "      <td>39237</td>\n",
       "      <td>2.094275</td>\n",
       "      <td>2.328196</td>\n",
       "      <td>0.233921</td>\n",
       "    </tr>\n",
       "    <tr>\n",
       "      <th>Haringey</th>\n",
       "      <td>7865</td>\n",
       "      <td>51589</td>\n",
       "      <td>3.017306</td>\n",
       "      <td>3.061124</td>\n",
       "      <td>0.043818</td>\n",
       "    </tr>\n",
       "    <tr>\n",
       "      <th>Harrow</th>\n",
       "      <td>6477</td>\n",
       "      <td>37863</td>\n",
       "      <td>2.484818</td>\n",
       "      <td>2.246668</td>\n",
       "      <td>0.238150</td>\n",
       "    </tr>\n",
       "    <tr>\n",
       "      <th>Havering</th>\n",
       "      <td>8723</td>\n",
       "      <td>47489</td>\n",
       "      <td>3.346467</td>\n",
       "      <td>2.817843</td>\n",
       "      <td>0.528623</td>\n",
       "    </tr>\n",
       "    <tr>\n",
       "      <th>Hillingdon</th>\n",
       "      <td>11033</td>\n",
       "      <td>65063</td>\n",
       "      <td>4.232668</td>\n",
       "      <td>3.860627</td>\n",
       "      <td>0.372041</td>\n",
       "    </tr>\n",
       "    <tr>\n",
       "      <th>Hounslow</th>\n",
       "      <td>9701</td>\n",
       "      <td>49785</td>\n",
       "      <td>3.721664</td>\n",
       "      <td>2.954080</td>\n",
       "      <td>0.767583</td>\n",
       "    </tr>\n",
       "    <tr>\n",
       "      <th>Islington</th>\n",
       "      <td>7723</td>\n",
       "      <td>49639</td>\n",
       "      <td>2.962829</td>\n",
       "      <td>2.945417</td>\n",
       "      <td>0.017412</td>\n",
       "    </tr>\n",
       "    <tr>\n",
       "      <th>Kensington and Chelsea</th>\n",
       "      <td>4263</td>\n",
       "      <td>33641</td>\n",
       "      <td>1.635445</td>\n",
       "      <td>1.996148</td>\n",
       "      <td>0.360703</td>\n",
       "    </tr>\n",
       "    <tr>\n",
       "      <th>Kingston</th>\n",
       "      <td>5252</td>\n",
       "      <td>26345</td>\n",
       "      <td>2.014862</td>\n",
       "      <td>1.563227</td>\n",
       "      <td>0.451635</td>\n",
       "    </tr>\n",
       "    <tr>\n",
       "      <th>Lambeth</th>\n",
       "      <td>7207</td>\n",
       "      <td>69818</td>\n",
       "      <td>2.764873</td>\n",
       "      <td>4.142774</td>\n",
       "      <td>1.377901</td>\n",
       "    </tr>\n",
       "    <tr>\n",
       "      <th>Lewisham</th>\n",
       "      <td>6543</td>\n",
       "      <td>55014</td>\n",
       "      <td>2.510138</td>\n",
       "      <td>3.264352</td>\n",
       "      <td>0.754215</td>\n",
       "    </tr>\n",
       "    <tr>\n",
       "      <th>Merton</th>\n",
       "      <td>6409</td>\n",
       "      <td>31712</td>\n",
       "      <td>2.458730</td>\n",
       "      <td>1.881687</td>\n",
       "      <td>0.577043</td>\n",
       "    </tr>\n",
       "    <tr>\n",
       "      <th>Newham</th>\n",
       "      <td>8155</td>\n",
       "      <td>66527</td>\n",
       "      <td>3.128561</td>\n",
       "      <td>3.947496</td>\n",
       "      <td>0.818936</td>\n",
       "    </tr>\n",
       "    <tr>\n",
       "      <th>Redbridge</th>\n",
       "      <td>9011</td>\n",
       "      <td>53379</td>\n",
       "      <td>3.456954</td>\n",
       "      <td>3.167337</td>\n",
       "      <td>0.289617</td>\n",
       "    </tr>\n",
       "    <tr>\n",
       "      <th>Richmond</th>\n",
       "      <td>5106</td>\n",
       "      <td>28996</td>\n",
       "      <td>1.958851</td>\n",
       "      <td>1.720529</td>\n",
       "      <td>0.238322</td>\n",
       "    </tr>\n",
       "    <tr>\n",
       "      <th>Southwark</th>\n",
       "      <td>7273</td>\n",
       "      <td>69686</td>\n",
       "      <td>2.790193</td>\n",
       "      <td>4.134941</td>\n",
       "      <td>1.344749</td>\n",
       "    </tr>\n",
       "    <tr>\n",
       "      <th>Sutton</th>\n",
       "      <td>7085</td>\n",
       "      <td>32614</td>\n",
       "      <td>2.718069</td>\n",
       "      <td>1.935209</td>\n",
       "      <td>0.782860</td>\n",
       "    </tr>\n",
       "    <tr>\n",
       "      <th>Tower Hamlets</th>\n",
       "      <td>8190</td>\n",
       "      <td>58154</td>\n",
       "      <td>3.141988</td>\n",
       "      <td>3.450670</td>\n",
       "      <td>0.308682</td>\n",
       "    </tr>\n",
       "    <tr>\n",
       "      <th>Waltham Forest</th>\n",
       "      <td>8239</td>\n",
       "      <td>50387</td>\n",
       "      <td>3.160786</td>\n",
       "      <td>2.989801</td>\n",
       "      <td>0.170985</td>\n",
       "    </tr>\n",
       "    <tr>\n",
       "      <th>Wandsworth</th>\n",
       "      <td>8627</td>\n",
       "      <td>49512</td>\n",
       "      <td>3.309637</td>\n",
       "      <td>2.937882</td>\n",
       "      <td>0.371756</td>\n",
       "    </tr>\n",
       "    <tr>\n",
       "      <th>Westminster</th>\n",
       "      <td>7916</td>\n",
       "      <td>80957</td>\n",
       "      <td>3.036871</td>\n",
       "      <td>4.803726</td>\n",
       "      <td>1.766855</td>\n",
       "    </tr>\n",
       "    <tr>\n",
       "      <th>_none</th>\n",
       "      <td>20</td>\n",
       "      <td>2697</td>\n",
       "      <td>0.007673</td>\n",
       "      <td>0.160031</td>\n",
       "      <td>0.152358</td>\n",
       "    </tr>\n",
       "  </tbody>\n",
       "</table>\n",
       "</div>"
      ],
      "text/plain": [
       "                        num_111_responses  num_not_111_responses  \\\n",
       "borough                                                            \n",
       "Barking and Dagenham                 7777                  41949   \n",
       "Barnet                              10380                  61591   \n",
       "Bexley                               7792                  41476   \n",
       "Brent                               10000                  64743   \n",
       "Bromley                              9823                  53602   \n",
       "Camden                               6836                  56630   \n",
       "City of London                        807                  12618   \n",
       "Croydon                             15324                  73363   \n",
       "Ealing                              10617                  65903   \n",
       "Enfield                             10703                  60134   \n",
       "Greenwich                            7909                  52601   \n",
       "Hackney                              6418                  50582   \n",
       "Hammersmith and Fulham               5459                  39237   \n",
       "Haringey                             7865                  51589   \n",
       "Harrow                               6477                  37863   \n",
       "Havering                             8723                  47489   \n",
       "Hillingdon                          11033                  65063   \n",
       "Hounslow                             9701                  49785   \n",
       "Islington                            7723                  49639   \n",
       "Kensington and Chelsea               4263                  33641   \n",
       "Kingston                             5252                  26345   \n",
       "Lambeth                              7207                  69818   \n",
       "Lewisham                             6543                  55014   \n",
       "Merton                               6409                  31712   \n",
       "Newham                               8155                  66527   \n",
       "Redbridge                            9011                  53379   \n",
       "Richmond                             5106                  28996   \n",
       "Southwark                            7273                  69686   \n",
       "Sutton                               7085                  32614   \n",
       "Tower Hamlets                        8190                  58154   \n",
       "Waltham Forest                       8239                  50387   \n",
       "Wandsworth                           8627                  49512   \n",
       "Westminster                          7916                  80957   \n",
       "_none                                  20                   2697   \n",
       "\n",
       "                        per_111_responses  per_not_111_responses  \\\n",
       "borough                                                            \n",
       "Barking and Dagenham             2.983546               2.489118   \n",
       "Barnet                           3.982153               3.654610   \n",
       "Bexley                           2.989300               2.461051   \n",
       "Brent                            3.836371               3.841640   \n",
       "Bromley                          3.768467               3.180569   \n",
       "Camden                           2.622543               3.360241   \n",
       "City of London                   0.309595               0.748711   \n",
       "Croydon                          5.878855               4.353123   \n",
       "Ealing                           4.073075               3.910470   \n",
       "Enfield                          4.106068               3.568157   \n",
       "Greenwich                        3.034186               3.121173   \n",
       "Hackney                          2.462183               3.001372   \n",
       "Hammersmith and Fulham           2.094275               2.328196   \n",
       "Haringey                         3.017306               3.061124   \n",
       "Harrow                           2.484818               2.246668   \n",
       "Havering                         3.346467               2.817843   \n",
       "Hillingdon                       4.232668               3.860627   \n",
       "Hounslow                         3.721664               2.954080   \n",
       "Islington                        2.962829               2.945417   \n",
       "Kensington and Chelsea           1.635445               1.996148   \n",
       "Kingston                         2.014862               1.563227   \n",
       "Lambeth                          2.764873               4.142774   \n",
       "Lewisham                         2.510138               3.264352   \n",
       "Merton                           2.458730               1.881687   \n",
       "Newham                           3.128561               3.947496   \n",
       "Redbridge                        3.456954               3.167337   \n",
       "Richmond                         1.958851               1.720529   \n",
       "Southwark                        2.790193               4.134941   \n",
       "Sutton                           2.718069               1.935209   \n",
       "Tower Hamlets                    3.141988               3.450670   \n",
       "Waltham Forest                   3.160786               2.989801   \n",
       "Wandsworth                       3.309637               2.937882   \n",
       "Westminster                      3.036871               4.803726   \n",
       "_none                            0.007673               0.160031   \n",
       "\n",
       "                        per_abs_difference  \n",
       "borough                                     \n",
       "Barking and Dagenham              0.494428  \n",
       "Barnet                            0.327543  \n",
       "Bexley                            0.528249  \n",
       "Brent                             0.005269  \n",
       "Bromley                           0.587898  \n",
       "Camden                            0.737697  \n",
       "City of London                    0.439116  \n",
       "Croydon                           1.525733  \n",
       "Ealing                            0.162605  \n",
       "Enfield                           0.537911  \n",
       "Greenwich                         0.086987  \n",
       "Hackney                           0.539189  \n",
       "Hammersmith and Fulham            0.233921  \n",
       "Haringey                          0.043818  \n",
       "Harrow                            0.238150  \n",
       "Havering                          0.528623  \n",
       "Hillingdon                        0.372041  \n",
       "Hounslow                          0.767583  \n",
       "Islington                         0.017412  \n",
       "Kensington and Chelsea            0.360703  \n",
       "Kingston                          0.451635  \n",
       "Lambeth                           1.377901  \n",
       "Lewisham                          0.754215  \n",
       "Merton                            0.577043  \n",
       "Newham                            0.818936  \n",
       "Redbridge                         0.289617  \n",
       "Richmond                          0.238322  \n",
       "Southwark                         1.344749  \n",
       "Sutton                            0.782860  \n",
       "Tower Hamlets                     0.308682  \n",
       "Waltham Forest                    0.170985  \n",
       "Wandsworth                        0.371756  \n",
       "Westminster                       1.766855  \n",
       "_none                             0.152358  "
      ]
     },
     "execution_count": 20,
     "metadata": {},
     "output_type": "execute_result"
    }
   ],
   "source": [
    "borough_111_vs_not_111"
   ]
  },
  {
   "cell_type": "markdown",
   "metadata": {},
   "source": [
    "### Gender"
   ]
  },
  {
   "cell_type": "code",
   "execution_count": 21,
   "metadata": {},
   "outputs": [],
   "source": [
    "num_responses_111_per_gender = all_responses_111.groupby('sex').count()[['incidentid']].rename(columns={'incidentid':'num_111_responses'})\n",
    "num_responses_not_111_per_gender = all_responses_not_111.groupby('sex').count()[['incidentid']].rename(columns={'incidentid':'num_not_111_responses'})"
   ]
  },
  {
   "cell_type": "code",
   "execution_count": 22,
   "metadata": {},
   "outputs": [],
   "source": [
    "gender_111_vs_not_111 = pd.concat([num_responses_111_per_gender,num_responses_not_111_per_gender], axis=1)"
   ]
  },
  {
   "cell_type": "code",
   "execution_count": 23,
   "metadata": {},
   "outputs": [
    {
     "data": {
      "text/html": [
       "<div>\n",
       "<style scoped>\n",
       "    .dataframe tbody tr th:only-of-type {\n",
       "        vertical-align: middle;\n",
       "    }\n",
       "\n",
       "    .dataframe tbody tr th {\n",
       "        vertical-align: top;\n",
       "    }\n",
       "\n",
       "    .dataframe thead th {\n",
       "        text-align: right;\n",
       "    }\n",
       "</style>\n",
       "<table border=\"1\" class=\"dataframe\">\n",
       "  <thead>\n",
       "    <tr style=\"text-align: right;\">\n",
       "      <th></th>\n",
       "      <th>num_111_responses</th>\n",
       "      <th>num_not_111_responses</th>\n",
       "    </tr>\n",
       "    <tr>\n",
       "      <th>sex</th>\n",
       "      <th></th>\n",
       "      <th></th>\n",
       "    </tr>\n",
       "  </thead>\n",
       "  <tbody>\n",
       "    <tr>\n",
       "      <th>F</th>\n",
       "      <td>156060</td>\n",
       "      <td>795888</td>\n",
       "    </tr>\n",
       "    <tr>\n",
       "      <th>M</th>\n",
       "      <td>101976</td>\n",
       "      <td>831668</td>\n",
       "    </tr>\n",
       "    <tr>\n",
       "      <th>U</th>\n",
       "      <td>149</td>\n",
       "      <td>33318</td>\n",
       "    </tr>\n",
       "  </tbody>\n",
       "</table>\n",
       "</div>"
      ],
      "text/plain": [
       "     num_111_responses  num_not_111_responses\n",
       "sex                                          \n",
       "F               156060                 795888\n",
       "M               101976                 831668\n",
       "U                  149                  33318"
      ]
     },
     "execution_count": 23,
     "metadata": {},
     "output_type": "execute_result"
    }
   ],
   "source": [
    "gender_111_vs_not_111"
   ]
  },
  {
   "cell_type": "markdown",
   "metadata": {},
   "source": [
    "Chi-squared test"
   ]
  },
  {
   "cell_type": "code",
   "execution_count": 24,
   "metadata": {},
   "outputs": [],
   "source": [
    "chi2, p, dof, ex = chi2_contingency(gender_111_vs_not_111)"
   ]
  },
  {
   "cell_type": "code",
   "execution_count": 25,
   "metadata": {},
   "outputs": [],
   "source": [
    "expected_df = pd.DataFrame(ex)\n",
    "gender_expected_data = {'num_111_responses': expected_df.iloc[:,0], 'num_not_111_responses': expected_df.iloc[:,1]}\n",
    "gender_111_vs_not_111_expected = pd.DataFrame(data = gender_expected_data)\n",
    "gender_111_vs_not_111_expected.index = gender_111_vs_not_111.index"
   ]
  },
  {
   "cell_type": "code",
   "execution_count": 26,
   "metadata": {},
   "outputs": [],
   "source": [
    "gender_111_vs_not_111_expected = gender_111_vs_not_111_expected.astype(int)"
   ]
  },
  {
   "cell_type": "code",
   "execution_count": 27,
   "metadata": {},
   "outputs": [
    {
     "data": {
      "text/html": [
       "<div>\n",
       "<style scoped>\n",
       "    .dataframe tbody tr th:only-of-type {\n",
       "        vertical-align: middle;\n",
       "    }\n",
       "\n",
       "    .dataframe tbody tr th {\n",
       "        vertical-align: top;\n",
       "    }\n",
       "\n",
       "    .dataframe thead th {\n",
       "        text-align: right;\n",
       "    }\n",
       "</style>\n",
       "<table border=\"1\" class=\"dataframe\">\n",
       "  <thead>\n",
       "    <tr style=\"text-align: right;\">\n",
       "      <th></th>\n",
       "      <th>num_111_responses</th>\n",
       "      <th>num_not_111_responses</th>\n",
       "    </tr>\n",
       "    <tr>\n",
       "      <th>sex</th>\n",
       "      <th></th>\n",
       "      <th></th>\n",
       "    </tr>\n",
       "  </thead>\n",
       "  <tbody>\n",
       "    <tr>\n",
       "      <th>F</th>\n",
       "      <td>128072</td>\n",
       "      <td>823875</td>\n",
       "    </tr>\n",
       "    <tr>\n",
       "      <th>M</th>\n",
       "      <td>125609</td>\n",
       "      <td>808034</td>\n",
       "    </tr>\n",
       "    <tr>\n",
       "      <th>U</th>\n",
       "      <td>4502</td>\n",
       "      <td>28964</td>\n",
       "    </tr>\n",
       "  </tbody>\n",
       "</table>\n",
       "</div>"
      ],
      "text/plain": [
       "     num_111_responses  num_not_111_responses\n",
       "sex                                          \n",
       "F               128072                 823875\n",
       "M               125609                 808034\n",
       "U                 4502                  28964"
      ]
     },
     "execution_count": 27,
     "metadata": {},
     "output_type": "execute_result"
    }
   ],
   "source": [
    "gender_111_vs_not_111_expected"
   ]
  },
  {
   "cell_type": "markdown",
   "metadata": {},
   "source": [
    "### Age"
   ]
  },
  {
   "cell_type": "code",
   "execution_count": 28,
   "metadata": {},
   "outputs": [],
   "source": [
    "# no NAs can be passed to this function -- TODO: check age is a valid number\n",
    "def calculate_age_range(age):\n",
    "    if (age <= 15):\n",
    "        return '0-15'\n",
    "    elif (age > 15 and age <= 29):\n",
    "        return '16-29'\n",
    "    elif (age > 29 and age <= 44):\n",
    "        return '30-44'\n",
    "    elif (age > 44 and age <= 64):\n",
    "        return '45-64'\n",
    "    elif (age > 64 and age <= 84):\n",
    "        return '65-84'\n",
    "    else:\n",
    "        return '85+'"
   ]
  },
  {
   "cell_type": "code",
   "execution_count": 29,
   "metadata": {},
   "outputs": [],
   "source": [
    "# remove all null ages\n",
    "all_responses_111_age = all_responses_111.dropna(subset=['age'])\n",
    "all_responses_not_111_age = all_responses_not_111.dropna(subset=['age'])"
   ]
  },
  {
   "cell_type": "code",
   "execution_count": 30,
   "metadata": {},
   "outputs": [
    {
     "data": {
      "text/plain": [
       "(259469, 44)"
      ]
     },
     "execution_count": 30,
     "metadata": {},
     "output_type": "execute_result"
    }
   ],
   "source": [
    "all_responses_111_age.shape"
   ]
  },
  {
   "cell_type": "code",
   "execution_count": 31,
   "metadata": {},
   "outputs": [
    {
     "data": {
      "text/plain": [
       "(1593526, 43)"
      ]
     },
     "execution_count": 31,
     "metadata": {},
     "output_type": "execute_result"
    }
   ],
   "source": [
    "all_responses_not_111_age.shape"
   ]
  },
  {
   "cell_type": "code",
   "execution_count": 32,
   "metadata": {},
   "outputs": [
    {
     "name": "stderr",
     "output_type": "stream",
     "text": [
      "/anaconda3/lib/python3.7/site-packages/ipykernel_launcher.py:1: SettingWithCopyWarning: \n",
      "A value is trying to be set on a copy of a slice from a DataFrame.\n",
      "Try using .loc[row_indexer,col_indexer] = value instead\n",
      "\n",
      "See the caveats in the documentation: http://pandas.pydata.org/pandas-docs/stable/indexing.html#indexing-view-versus-copy\n",
      "  \"\"\"Entry point for launching an IPython kernel.\n",
      "/anaconda3/lib/python3.7/site-packages/ipykernel_launcher.py:2: SettingWithCopyWarning: \n",
      "A value is trying to be set on a copy of a slice from a DataFrame.\n",
      "Try using .loc[row_indexer,col_indexer] = value instead\n",
      "\n",
      "See the caveats in the documentation: http://pandas.pydata.org/pandas-docs/stable/indexing.html#indexing-view-versus-copy\n",
      "  \n"
     ]
    }
   ],
   "source": [
    "all_responses_111_age['age_range'] = all_responses_111_age['age'].apply(lambda x: calculate_age_range(x))\n",
    "all_responses_not_111_age['age_range'] = all_responses_not_111_age['age'].apply(lambda x: calculate_age_range(x))"
   ]
  },
  {
   "cell_type": "code",
   "execution_count": 33,
   "metadata": {},
   "outputs": [],
   "source": [
    "num_responses_111_per_age_range = all_responses_111_age.groupby('age_range').count()[['incidentid']].rename(columns={'incidentid':'num_111_responses'})\n",
    "num_responses_not_111_per_age_range = all_responses_not_111_age.groupby('age_range').count()[['incidentid']].rename(columns={'incidentid':'num_not_111_responses'})"
   ]
  },
  {
   "cell_type": "code",
   "execution_count": 34,
   "metadata": {},
   "outputs": [],
   "source": [
    "age_111_vs_not_111 = pd.concat([num_responses_111_per_age_range,num_responses_not_111_per_age_range], axis=1)"
   ]
  },
  {
   "cell_type": "code",
   "execution_count": 35,
   "metadata": {},
   "outputs": [
    {
     "data": {
      "text/html": [
       "<div>\n",
       "<style scoped>\n",
       "    .dataframe tbody tr th:only-of-type {\n",
       "        vertical-align: middle;\n",
       "    }\n",
       "\n",
       "    .dataframe tbody tr th {\n",
       "        vertical-align: top;\n",
       "    }\n",
       "\n",
       "    .dataframe thead th {\n",
       "        text-align: right;\n",
       "    }\n",
       "</style>\n",
       "<table border=\"1\" class=\"dataframe\">\n",
       "  <thead>\n",
       "    <tr style=\"text-align: right;\">\n",
       "      <th></th>\n",
       "      <th>num_111_responses</th>\n",
       "      <th>num_not_111_responses</th>\n",
       "    </tr>\n",
       "    <tr>\n",
       "      <th>age_range</th>\n",
       "      <th></th>\n",
       "      <th></th>\n",
       "    </tr>\n",
       "  </thead>\n",
       "  <tbody>\n",
       "    <tr>\n",
       "      <th>0-15</th>\n",
       "      <td>30626</td>\n",
       "      <td>116997</td>\n",
       "    </tr>\n",
       "    <tr>\n",
       "      <th>16-29</th>\n",
       "      <td>28434</td>\n",
       "      <td>155169</td>\n",
       "    </tr>\n",
       "    <tr>\n",
       "      <th>30-44</th>\n",
       "      <td>54967</td>\n",
       "      <td>322345</td>\n",
       "    </tr>\n",
       "    <tr>\n",
       "      <th>45-64</th>\n",
       "      <td>55749</td>\n",
       "      <td>354255</td>\n",
       "    </tr>\n",
       "    <tr>\n",
       "      <th>65-84</th>\n",
       "      <td>49979</td>\n",
       "      <td>332114</td>\n",
       "    </tr>\n",
       "    <tr>\n",
       "      <th>85+</th>\n",
       "      <td>39714</td>\n",
       "      <td>312646</td>\n",
       "    </tr>\n",
       "  </tbody>\n",
       "</table>\n",
       "</div>"
      ],
      "text/plain": [
       "           num_111_responses  num_not_111_responses\n",
       "age_range                                          \n",
       "0-15                   30626                 116997\n",
       "16-29                  28434                 155169\n",
       "30-44                  54967                 322345\n",
       "45-64                  55749                 354255\n",
       "65-84                  49979                 332114\n",
       "85+                    39714                 312646"
      ]
     },
     "execution_count": 35,
     "metadata": {},
     "output_type": "execute_result"
    }
   ],
   "source": [
    "age_111_vs_not_111"
   ]
  },
  {
   "cell_type": "markdown",
   "metadata": {},
   "source": [
    "Chi-squared test"
   ]
  },
  {
   "cell_type": "code",
   "execution_count": 36,
   "metadata": {},
   "outputs": [],
   "source": [
    "chi2, p, dof, ex = chi2_contingency(age_111_vs_not_111)"
   ]
  },
  {
   "cell_type": "code",
   "execution_count": 37,
   "metadata": {},
   "outputs": [],
   "source": [
    "expected_df = pd.DataFrame(ex)\n",
    "age_expected_data = {'num_111_responses': expected_df.iloc[:,0], 'num_not_111_responses': expected_df.iloc[:,1]}\n",
    "age_111_vs_not_111_expected = pd.DataFrame(data = age_expected_data)\n",
    "age_111_vs_not_111_expected.index = age_111_vs_not_111.index\n",
    "age_111_vs_not_111_expected = age_111_vs_not_111_expected.astype(int)"
   ]
  },
  {
   "cell_type": "code",
   "execution_count": 38,
   "metadata": {},
   "outputs": [
    {
     "data": {
      "text/html": [
       "<div>\n",
       "<style scoped>\n",
       "    .dataframe tbody tr th:only-of-type {\n",
       "        vertical-align: middle;\n",
       "    }\n",
       "\n",
       "    .dataframe tbody tr th {\n",
       "        vertical-align: top;\n",
       "    }\n",
       "\n",
       "    .dataframe thead th {\n",
       "        text-align: right;\n",
       "    }\n",
       "</style>\n",
       "<table border=\"1\" class=\"dataframe\">\n",
       "  <thead>\n",
       "    <tr style=\"text-align: right;\">\n",
       "      <th></th>\n",
       "      <th>num_111_responses</th>\n",
       "      <th>num_not_111_responses</th>\n",
       "    </tr>\n",
       "    <tr>\n",
       "      <th>age_range</th>\n",
       "      <th></th>\n",
       "      <th></th>\n",
       "    </tr>\n",
       "  </thead>\n",
       "  <tbody>\n",
       "    <tr>\n",
       "      <th>0-15</th>\n",
       "      <td>20671</td>\n",
       "      <td>126951</td>\n",
       "    </tr>\n",
       "    <tr>\n",
       "      <th>16-29</th>\n",
       "      <td>25709</td>\n",
       "      <td>157893</td>\n",
       "    </tr>\n",
       "    <tr>\n",
       "      <th>30-44</th>\n",
       "      <td>52833</td>\n",
       "      <td>324478</td>\n",
       "    </tr>\n",
       "    <tr>\n",
       "      <th>45-64</th>\n",
       "      <td>57411</td>\n",
       "      <td>352592</td>\n",
       "    </tr>\n",
       "    <tr>\n",
       "      <th>65-84</th>\n",
       "      <td>53503</td>\n",
       "      <td>328589</td>\n",
       "    </tr>\n",
       "    <tr>\n",
       "      <th>85+</th>\n",
       "      <td>49339</td>\n",
       "      <td>303020</td>\n",
       "    </tr>\n",
       "  </tbody>\n",
       "</table>\n",
       "</div>"
      ],
      "text/plain": [
       "           num_111_responses  num_not_111_responses\n",
       "age_range                                          \n",
       "0-15                   20671                 126951\n",
       "16-29                  25709                 157893\n",
       "30-44                  52833                 324478\n",
       "45-64                  57411                 352592\n",
       "65-84                  53503                 328589\n",
       "85+                    49339                 303020"
      ]
     },
     "execution_count": 38,
     "metadata": {},
     "output_type": "execute_result"
    }
   ],
   "source": [
    "age_111_vs_not_111_expected"
   ]
  },
  {
   "cell_type": "markdown",
   "metadata": {},
   "source": [
    "-----"
   ]
  },
  {
   "cell_type": "markdown",
   "metadata": {},
   "source": [
    "## Ward Outliers per Day\n",
    "Were there any wards that had outstanding incidents on a particular day?"
   ]
  },
  {
   "cell_type": "code",
   "execution_count": 40,
   "metadata": {},
   "outputs": [],
   "source": [
    "all_responses = jan_feb_responses.append([mar_apr_responses, may_jun_responses, jul_aug_responses, sep_oct_responses, nov_dec_responses])"
   ]
  },
  {
   "cell_type": "code",
   "execution_count": 41,
   "metadata": {},
   "outputs": [
    {
     "data": {
      "text/plain": [
       "(1959727, 43)"
      ]
     },
     "execution_count": 41,
     "metadata": {},
     "output_type": "execute_result"
    }
   ],
   "source": [
    "all_responses.shape"
   ]
  },
  {
   "cell_type": "code",
   "execution_count": 42,
   "metadata": {},
   "outputs": [],
   "source": [
    "# get only 2018 data\n",
    "all_responses = all_responses[(all_responses['callstart'] > '2017-12-31') & (all_responses['callstart'] < '2019-01-01')]"
   ]
  },
  {
   "cell_type": "code",
   "execution_count": 43,
   "metadata": {},
   "outputs": [
    {
     "data": {
      "text/plain": [
       "(1946870, 43)"
      ]
     },
     "execution_count": 43,
     "metadata": {},
     "output_type": "execute_result"
    }
   ],
   "source": [
    "all_responses.shape"
   ]
  },
  {
   "cell_type": "code",
   "execution_count": 44,
   "metadata": {},
   "outputs": [],
   "source": [
    "all_responses['day_of_year'] = pd.to_datetime(all_responses['callstart']).dt.dayofyear"
   ]
  },
  {
   "cell_type": "code",
   "execution_count": 45,
   "metadata": {},
   "outputs": [],
   "source": [
    "responses_by_ward_and_day = all_responses.groupby(['wardID','day_of_year']).count()[['incidentid']].reset_index().rename(columns={'incidentid':'num_incidents'})"
   ]
  },
  {
   "cell_type": "code",
   "execution_count": 46,
   "metadata": {},
   "outputs": [],
   "source": [
    "subset_days = responses_by_ward_and_day[responses_by_ward_and_day['day_of_year'] == 26]"
   ]
  },
  {
   "cell_type": "code",
   "execution_count": 47,
   "metadata": {},
   "outputs": [
    {
     "data": {
      "text/plain": [
       "Text(0.5,1,'Distribution of incidents in wards on January 26')"
      ]
     },
     "execution_count": 47,
     "metadata": {},
     "output_type": "execute_result"
    },
    {
     "data": {
      "image/png": "[encoded data removed]",
      "text/plain": [
       "<Figure size 432x288 with 1 Axes>"
      ]
     },
     "metadata": {
      "needs_background": "light"
     },
     "output_type": "display_data"
    }
   ],
   "source": [
    "subset_days.boxplot(column='num_incidents', grid=False)\n",
    "plt.title(\"Distribution of incidents in wards on January 26\")"
   ]
  },
  {
   "cell_type": "code",
   "execution_count": 48,
   "metadata": {},
   "outputs": [],
   "source": [
    "group_by_day_of_year = responses_by_ward_and_day.groupby('day_of_year')"
   ]
  },
  {
   "cell_type": "code",
   "execution_count": 51,
   "metadata": {},
   "outputs": [],
   "source": [
    "stats_incidents_per_day_all_wards = group_by_day_of_year['num_incidents'].describe().reset_index()"
   ]
  },
  {
   "cell_type": "code",
   "execution_count": 52,
   "metadata": {},
   "outputs": [],
   "source": [
    "stats_incidents_per_day_all_wards['IQR'] = stats_incidents_per_day_all_wards['75%'] - stats_incidents_per_day_all_wards['25%']\n",
    "# apply Tukey fences\n",
    "stats_incidents_per_day_all_wards['outlier_upper_limit'] = stats_incidents_per_day_all_wards['75%'] + 1.5 * stats_incidents_per_day_all_wards['IQR']"
   ]
  },
  {
   "cell_type": "code",
   "execution_count": 54,
   "metadata": {},
   "outputs": [],
   "source": [
    "outliers_per_ward = {}\n",
    "data_outliers_per_day = []\n",
    "\n",
    "for day in range(1,366):\n",
    "    outlier_upper_limit = stats_incidents_per_day_all_wards[stats_incidents_per_day_all_wards['day_of_year'] == day].iloc[0]['outlier_upper_limit']\n",
    "    outlier_wards = responses_by_ward_and_day[(responses_by_ward_and_day['day_of_year'] == day) & (responses_by_ward_and_day['num_incidents'] > outlier_upper_limit)]['wardID']\n",
    "    \n",
    "    for outlier_ward in outlier_wards:\n",
    "        if outlier_ward in outliers_per_ward:\n",
    "            outliers_per_ward[outlier_ward] += 1 \n",
    "        else:\n",
    "            outliers_per_ward[outlier_ward] = 1\n",
    "        \n",
    "        data_outliers_per_day.append([day,outlier_ward,True])\n",
    "\n",
    "data_outliers_per_ward = []\n",
    "for ward in outliers_per_ward:\n",
    "    num_outliers = outliers_per_ward[ward]\n",
    "    \n",
    "    data_outliers_per_ward.append([ward,num_outliers])"
   ]
  },
  {
   "cell_type": "code",
   "execution_count": 55,
   "metadata": {},
   "outputs": [
    {
     "data": {
      "text/html": [
       "<div>\n",
       "<style scoped>\n",
       "    .dataframe tbody tr th:only-of-type {\n",
       "        vertical-align: middle;\n",
       "    }\n",
       "\n",
       "    .dataframe tbody tr th {\n",
       "        vertical-align: top;\n",
       "    }\n",
       "\n",
       "    .dataframe thead th {\n",
       "        text-align: right;\n",
       "    }\n",
       "</style>\n",
       "<table border=\"1\" class=\"dataframe\">\n",
       "  <thead>\n",
       "    <tr style=\"text-align: right;\">\n",
       "      <th></th>\n",
       "      <th>wardID</th>\n",
       "      <th>num_days_as_outlier</th>\n",
       "    </tr>\n",
       "  </thead>\n",
       "  <tbody>\n",
       "    <tr>\n",
       "      <th>0</th>\n",
       "      <td>00AEGK</td>\n",
       "      <td>5</td>\n",
       "    </tr>\n",
       "    <tr>\n",
       "      <th>1</th>\n",
       "      <td>00AGGU</td>\n",
       "      <td>157</td>\n",
       "    </tr>\n",
       "    <tr>\n",
       "      <th>2</th>\n",
       "      <td>00AMGK</td>\n",
       "      <td>6</td>\n",
       "    </tr>\n",
       "    <tr>\n",
       "      <th>3</th>\n",
       "      <td>00ASGP</td>\n",
       "      <td>362</td>\n",
       "    </tr>\n",
       "    <tr>\n",
       "      <th>4</th>\n",
       "      <td>00AYFZ</td>\n",
       "      <td>184</td>\n",
       "    </tr>\n",
       "  </tbody>\n",
       "</table>\n",
       "</div>"
      ],
      "text/plain": [
       "   wardID  num_days_as_outlier\n",
       "0  00AEGK                    5\n",
       "1  00AGGU                  157\n",
       "2  00AMGK                    6\n",
       "3  00ASGP                  362\n",
       "4  00AYFZ                  184"
      ]
     },
     "execution_count": 55,
     "metadata": {},
     "output_type": "execute_result"
    }
   ],
   "source": [
    "outliers_per_ward = pd.DataFrame(data=data_outliers_per_ward, columns=['wardID','num_days_as_outlier'])\n",
    "outliers_per_ward.head()"
   ]
  },
  {
   "cell_type": "code",
   "execution_count": 56,
   "metadata": {},
   "outputs": [
    {
     "data": {
      "text/plain": [
       "(6455, 3)"
      ]
     },
     "execution_count": 56,
     "metadata": {},
     "output_type": "execute_result"
    }
   ],
   "source": [
    "outliers_per_day = pd.DataFrame(data=data_outliers_per_day, columns=['day_of_year','wardID','is_outlier'])\n",
    "outliers_per_day.shape"
   ]
  },
  {
   "cell_type": "code",
   "execution_count": 57,
   "metadata": {},
   "outputs": [
    {
     "data": {
      "text/html": [
       "<div>\n",
       "<style scoped>\n",
       "    .dataframe tbody tr th:only-of-type {\n",
       "        vertical-align: middle;\n",
       "    }\n",
       "\n",
       "    .dataframe tbody tr th {\n",
       "        vertical-align: top;\n",
       "    }\n",
       "\n",
       "    .dataframe thead th {\n",
       "        text-align: right;\n",
       "    }\n",
       "</style>\n",
       "<table border=\"1\" class=\"dataframe\">\n",
       "  <thead>\n",
       "    <tr style=\"text-align: right;\">\n",
       "      <th></th>\n",
       "      <th>day_of_year</th>\n",
       "      <th>wardID</th>\n",
       "      <th>is_outlier</th>\n",
       "    </tr>\n",
       "  </thead>\n",
       "  <tbody>\n",
       "    <tr>\n",
       "      <th>0</th>\n",
       "      <td>1</td>\n",
       "      <td>00AEGK</td>\n",
       "      <td>True</td>\n",
       "    </tr>\n",
       "    <tr>\n",
       "      <th>1</th>\n",
       "      <td>1</td>\n",
       "      <td>00AGGU</td>\n",
       "      <td>True</td>\n",
       "    </tr>\n",
       "    <tr>\n",
       "      <th>2</th>\n",
       "      <td>1</td>\n",
       "      <td>00AMGK</td>\n",
       "      <td>True</td>\n",
       "    </tr>\n",
       "    <tr>\n",
       "      <th>3</th>\n",
       "      <td>1</td>\n",
       "      <td>00ASGP</td>\n",
       "      <td>True</td>\n",
       "    </tr>\n",
       "    <tr>\n",
       "      <th>4</th>\n",
       "      <td>1</td>\n",
       "      <td>00AYFZ</td>\n",
       "      <td>True</td>\n",
       "    </tr>\n",
       "  </tbody>\n",
       "</table>\n",
       "</div>"
      ],
      "text/plain": [
       "   day_of_year  wardID  is_outlier\n",
       "0            1  00AEGK        True\n",
       "1            1  00AGGU        True\n",
       "2            1  00AMGK        True\n",
       "3            1  00ASGP        True\n",
       "4            1  00AYFZ        True"
      ]
     },
     "execution_count": 57,
     "metadata": {},
     "output_type": "execute_result"
    }
   ],
   "source": [
    "outliers_per_day.head()"
   ]
  },
  {
   "cell_type": "code",
   "execution_count": 58,
   "metadata": {},
   "outputs": [
    {
     "data": {
      "text/html": [
       "<div>\n",
       "<style scoped>\n",
       "    .dataframe tbody tr th:only-of-type {\n",
       "        vertical-align: middle;\n",
       "    }\n",
       "\n",
       "    .dataframe tbody tr th {\n",
       "        vertical-align: top;\n",
       "    }\n",
       "\n",
       "    .dataframe thead th {\n",
       "        text-align: right;\n",
       "    }\n",
       "</style>\n",
       "<table border=\"1\" class=\"dataframe\">\n",
       "  <thead>\n",
       "    <tr style=\"text-align: right;\">\n",
       "      <th></th>\n",
       "      <th>wardID</th>\n",
       "      <th>num_days_as_outlier</th>\n",
       "    </tr>\n",
       "  </thead>\n",
       "  <tbody>\n",
       "    <tr>\n",
       "      <th>9</th>\n",
       "      <td>00BKGQ</td>\n",
       "      <td>364</td>\n",
       "    </tr>\n",
       "    <tr>\n",
       "      <th>3</th>\n",
       "      <td>00ASGP</td>\n",
       "      <td>362</td>\n",
       "    </tr>\n",
       "    <tr>\n",
       "      <th>10</th>\n",
       "      <td>00BKGW</td>\n",
       "      <td>335</td>\n",
       "    </tr>\n",
       "    <tr>\n",
       "      <th>7</th>\n",
       "      <td>00BBGU</td>\n",
       "      <td>292</td>\n",
       "    </tr>\n",
       "    <tr>\n",
       "      <th>37</th>\n",
       "      <td>00AHGM</td>\n",
       "      <td>251</td>\n",
       "    </tr>\n",
       "  </tbody>\n",
       "</table>\n",
       "</div>"
      ],
      "text/plain": [
       "    wardID  num_days_as_outlier\n",
       "9   00BKGQ                  364\n",
       "3   00ASGP                  362\n",
       "10  00BKGW                  335\n",
       "7   00BBGU                  292\n",
       "37  00AHGM                  251"
      ]
     },
     "execution_count": 58,
     "metadata": {},
     "output_type": "execute_result"
    }
   ],
   "source": [
    "outliers_per_ward.sort_values(by=['num_days_as_outlier'], ascending=False).head()"
   ]
  },
  {
   "cell_type": "markdown",
   "metadata": {},
   "source": [
    "### Create daily london plots showing the day's outlier wards"
   ]
  },
  {
   "cell_type": "code",
   "execution_count": 59,
   "metadata": {},
   "outputs": [],
   "source": [
    "london_wards = gpd.read_file(\"data/statistical-gis-boundaries-london-2011/ESRI/London_Ward_CityMerged.shp\")"
   ]
  },
  {
   "cell_type": "code",
   "execution_count": 60,
   "metadata": {},
   "outputs": [
    {
     "data": {
      "image/png": "[encoded data removed]",
      "text/plain": [
       "<Figure size 432x288 with 1 Axes>"
      ]
     },
     "metadata": {
      "needs_background": "light"
     },
     "output_type": "display_data"
    }
   ],
   "source": [
    "%matplotlib inline\n",
    "london_wards_plot = london_wards.plot()\n",
    "london_wards_plot.set_axis_off()"
   ]
  },
  {
   "cell_type": "code",
   "execution_count": 61,
   "metadata": {},
   "outputs": [],
   "source": [
    "london_wards_profiles = pd.read_csv(\"data/ward-profiles-excel-version.csv\", header=None)"
   ]
  },
  {
   "cell_type": "code",
   "execution_count": 62,
   "metadata": {},
   "outputs": [
    {
     "data": {
      "text/html": [
       "<div>\n",
       "<style scoped>\n",
       "    .dataframe tbody tr th:only-of-type {\n",
       "        vertical-align: middle;\n",
       "    }\n",
       "\n",
       "    .dataframe tbody tr th {\n",
       "        vertical-align: top;\n",
       "    }\n",
       "\n",
       "    .dataframe thead th {\n",
       "        text-align: right;\n",
       "    }\n",
       "</style>\n",
       "<table border=\"1\" class=\"dataframe\">\n",
       "  <thead>\n",
       "    <tr style=\"text-align: right;\">\n",
       "      <th></th>\n",
       "      <th>0</th>\n",
       "      <th>1</th>\n",
       "      <th>2</th>\n",
       "      <th>3</th>\n",
       "      <th>4</th>\n",
       "      <th>5</th>\n",
       "      <th>6</th>\n",
       "      <th>7</th>\n",
       "      <th>8</th>\n",
       "      <th>9</th>\n",
       "      <th>...</th>\n",
       "      <th>57</th>\n",
       "      <th>58</th>\n",
       "      <th>59</th>\n",
       "      <th>60</th>\n",
       "      <th>61</th>\n",
       "      <th>62</th>\n",
       "      <th>63</th>\n",
       "      <th>64</th>\n",
       "      <th>65</th>\n",
       "      <th>66</th>\n",
       "    </tr>\n",
       "  </thead>\n",
       "  <tbody>\n",
       "    <tr>\n",
       "      <th>0</th>\n",
       "      <td>City of London</td>\n",
       "      <td>00AA</td>\n",
       "      <td>E09000001</td>\n",
       "      <td>8100.0</td>\n",
       "      <td>650.0</td>\n",
       "      <td>6250.0</td>\n",
       "      <td>1250.0</td>\n",
       "      <td>8.0</td>\n",
       "      <td>76.9</td>\n",
       "      <td>15.2</td>\n",
       "      <td>...</td>\n",
       "      <td>662.9</td>\n",
       "      <td>210.5</td>\n",
       "      <td>656.4</td>\n",
       "      <td>85.3</td>\n",
       "      <td>0.4</td>\n",
       "      <td>18.6</td>\n",
       "      <td>0.4</td>\n",
       "      <td>7.9</td>\n",
       "      <td>5.3</td>\n",
       "      <td>48.5</td>\n",
       "    </tr>\n",
       "    <tr>\n",
       "      <th>1</th>\n",
       "      <td>Barking and Dagenham - Abbey</td>\n",
       "      <td>00ABFX</td>\n",
       "      <td>E05000026</td>\n",
       "      <td>14750.0</td>\n",
       "      <td>3850.0</td>\n",
       "      <td>10150.0</td>\n",
       "      <td>750.0</td>\n",
       "      <td>26.0</td>\n",
       "      <td>69.0</td>\n",
       "      <td>5.0</td>\n",
       "      <td>...</td>\n",
       "      <td>682.6</td>\n",
       "      <td>208.9</td>\n",
       "      <td>138.1</td>\n",
       "      <td>42.2</td>\n",
       "      <td>1.4</td>\n",
       "      <td>21.9</td>\n",
       "      <td>0.5</td>\n",
       "      <td>6.0</td>\n",
       "      <td>0.8</td>\n",
       "      <td>25.7</td>\n",
       "    </tr>\n",
       "    <tr>\n",
       "      <th>2</th>\n",
       "      <td>Barking and Dagenham - Alibon</td>\n",
       "      <td>00ABFY</td>\n",
       "      <td>E05000027</td>\n",
       "      <td>10600.0</td>\n",
       "      <td>2700.0</td>\n",
       "      <td>6800.0</td>\n",
       "      <td>1050.0</td>\n",
       "      <td>25.7</td>\n",
       "      <td>64.3</td>\n",
       "      <td>10.0</td>\n",
       "      <td>...</td>\n",
       "      <td>627.9</td>\n",
       "      <td>201.6</td>\n",
       "      <td>73.6</td>\n",
       "      <td>27.3</td>\n",
       "      <td>0.7</td>\n",
       "      <td>20.6</td>\n",
       "      <td>0.8</td>\n",
       "      <td>3.1</td>\n",
       "      <td>1.0</td>\n",
       "      <td>20.3</td>\n",
       "    </tr>\n",
       "    <tr>\n",
       "      <th>3</th>\n",
       "      <td>Barking and Dagenham - Becontree</td>\n",
       "      <td>00ABFZ</td>\n",
       "      <td>E05000028</td>\n",
       "      <td>12700.0</td>\n",
       "      <td>3200.0</td>\n",
       "      <td>8350.0</td>\n",
       "      <td>1100.0</td>\n",
       "      <td>25.4</td>\n",
       "      <td>65.9</td>\n",
       "      <td>8.7</td>\n",
       "      <td>...</td>\n",
       "      <td>632.0</td>\n",
       "      <td>207.9</td>\n",
       "      <td>79.9</td>\n",
       "      <td>27.6</td>\n",
       "      <td>1.2</td>\n",
       "      <td>1.9</td>\n",
       "      <td>0.9</td>\n",
       "      <td>2.9</td>\n",
       "      <td>1.6</td>\n",
       "      <td>22.5</td>\n",
       "    </tr>\n",
       "    <tr>\n",
       "      <th>4</th>\n",
       "      <td>Barking and Dagenham - Chadwell Heath</td>\n",
       "      <td>00ABGA</td>\n",
       "      <td>E05000029</td>\n",
       "      <td>10400.0</td>\n",
       "      <td>2550.0</td>\n",
       "      <td>6400.0</td>\n",
       "      <td>1450.0</td>\n",
       "      <td>24.3</td>\n",
       "      <td>61.5</td>\n",
       "      <td>14.2</td>\n",
       "      <td>...</td>\n",
       "      <td>613.9</td>\n",
       "      <td>210.5</td>\n",
       "      <td>76.1</td>\n",
       "      <td>24.6</td>\n",
       "      <td>1.3</td>\n",
       "      <td>56.0</td>\n",
       "      <td>0.9</td>\n",
       "      <td>2.3</td>\n",
       "      <td>1.2</td>\n",
       "      <td>25.3</td>\n",
       "    </tr>\n",
       "  </tbody>\n",
       "</table>\n",
       "<p>5 rows × 67 columns</p>\n",
       "</div>"
      ],
      "text/plain": [
       "                                      0       1          2        3       4   \\\n",
       "0                         City of London    00AA  E09000001   8100.0   650.0   \n",
       "1           Barking and Dagenham - Abbey  00ABFX  E05000026  14750.0  3850.0   \n",
       "2          Barking and Dagenham - Alibon  00ABFY  E05000027  10600.0  2700.0   \n",
       "3       Barking and Dagenham - Becontree  00ABFZ  E05000028  12700.0  3200.0   \n",
       "4  Barking and Dagenham - Chadwell Heath  00ABGA  E05000029  10400.0  2550.0   \n",
       "\n",
       "        5       6     7     8     9   ...      57     58     59    60   61  \\\n",
       "0   6250.0  1250.0   8.0  76.9  15.2  ...   662.9  210.5  656.4  85.3  0.4   \n",
       "1  10150.0   750.0  26.0  69.0   5.0  ...   682.6  208.9  138.1  42.2  1.4   \n",
       "2   6800.0  1050.0  25.7  64.3  10.0  ...   627.9  201.6   73.6  27.3  0.7   \n",
       "3   8350.0  1100.0  25.4  65.9   8.7  ...   632.0  207.9   79.9  27.6  1.2   \n",
       "4   6400.0  1450.0  24.3  61.5  14.2  ...   613.9  210.5   76.1  24.6  1.3   \n",
       "\n",
       "     62   63   64   65    66  \n",
       "0  18.6  0.4  7.9  5.3  48.5  \n",
       "1  21.9  0.5  6.0  0.8  25.7  \n",
       "2  20.6  0.8  3.1  1.0  20.3  \n",
       "3   1.9  0.9  2.9  1.6  22.5  \n",
       "4  56.0  0.9  2.3  1.2  25.3  \n",
       "\n",
       "[5 rows x 67 columns]"
      ]
     },
     "execution_count": 62,
     "metadata": {},
     "output_type": "execute_result"
    }
   ],
   "source": [
    "london_wards_profiles.head()"
   ]
  },
  {
   "cell_type": "code",
   "execution_count": 63,
   "metadata": {},
   "outputs": [],
   "source": [
    "london_wards_profiles = london_wards_profiles.iloc[:,[0,1,2]]"
   ]
  },
  {
   "cell_type": "code",
   "execution_count": 65,
   "metadata": {},
   "outputs": [],
   "source": [
    "london_wards_profiles.columns = ['ward_name','wardID','GSS_CODE']"
   ]
  },
  {
   "cell_type": "code",
   "execution_count": 66,
   "metadata": {},
   "outputs": [
    {
     "data": {
      "text/html": [
       "<div>\n",
       "<style scoped>\n",
       "    .dataframe tbody tr th:only-of-type {\n",
       "        vertical-align: middle;\n",
       "    }\n",
       "\n",
       "    .dataframe tbody tr th {\n",
       "        vertical-align: top;\n",
       "    }\n",
       "\n",
       "    .dataframe thead th {\n",
       "        text-align: right;\n",
       "    }\n",
       "</style>\n",
       "<table border=\"1\" class=\"dataframe\">\n",
       "  <thead>\n",
       "    <tr style=\"text-align: right;\">\n",
       "      <th></th>\n",
       "      <th>ward_name</th>\n",
       "      <th>wardID</th>\n",
       "      <th>GSS_CODE</th>\n",
       "    </tr>\n",
       "  </thead>\n",
       "  <tbody>\n",
       "    <tr>\n",
       "      <th>0</th>\n",
       "      <td>City of London</td>\n",
       "      <td>00AA</td>\n",
       "      <td>E09000001</td>\n",
       "    </tr>\n",
       "    <tr>\n",
       "      <th>1</th>\n",
       "      <td>Barking and Dagenham - Abbey</td>\n",
       "      <td>00ABFX</td>\n",
       "      <td>E05000026</td>\n",
       "    </tr>\n",
       "    <tr>\n",
       "      <th>2</th>\n",
       "      <td>Barking and Dagenham - Alibon</td>\n",
       "      <td>00ABFY</td>\n",
       "      <td>E05000027</td>\n",
       "    </tr>\n",
       "    <tr>\n",
       "      <th>3</th>\n",
       "      <td>Barking and Dagenham - Becontree</td>\n",
       "      <td>00ABFZ</td>\n",
       "      <td>E05000028</td>\n",
       "    </tr>\n",
       "    <tr>\n",
       "      <th>4</th>\n",
       "      <td>Barking and Dagenham - Chadwell Heath</td>\n",
       "      <td>00ABGA</td>\n",
       "      <td>E05000029</td>\n",
       "    </tr>\n",
       "  </tbody>\n",
       "</table>\n",
       "</div>"
      ],
      "text/plain": [
       "                               ward_name  wardID   GSS_CODE\n",
       "0                         City of London    00AA  E09000001\n",
       "1           Barking and Dagenham - Abbey  00ABFX  E05000026\n",
       "2          Barking and Dagenham - Alibon  00ABFY  E05000027\n",
       "3       Barking and Dagenham - Becontree  00ABFZ  E05000028\n",
       "4  Barking and Dagenham - Chadwell Heath  00ABGA  E05000029"
      ]
     },
     "execution_count": 66,
     "metadata": {},
     "output_type": "execute_result"
    }
   ],
   "source": [
    "london_wards_profiles.head()"
   ]
  },
  {
   "cell_type": "code",
   "execution_count": 67,
   "metadata": {},
   "outputs": [],
   "source": [
    "london_wards_with_old_code = pd.merge(london_wards, london_wards_profiles[['wardID','GSS_CODE']], on=['GSS_CODE'], how='left')"
   ]
  },
  {
   "cell_type": "code",
   "execution_count": 68,
   "metadata": {},
   "outputs": [],
   "source": [
    "london_wards_with_incident_outliers = pd.merge(london_wards_with_old_code, outliers_per_ward, on=['wardID'], how='left')"
   ]
  },
  {
   "cell_type": "code",
   "execution_count": 69,
   "metadata": {},
   "outputs": [],
   "source": [
    "london_wards_with_incident_outliers = london_wards_with_incident_outliers.fillna(0)"
   ]
  },
  {
   "cell_type": "code",
   "execution_count": 70,
   "metadata": {},
   "outputs": [],
   "source": [
    "london_wards_with_incident_outliers.to_file(\"outputs/london_wards_with_incident_outliers.shp\")"
   ]
  },
  {
   "cell_type": "code",
   "execution_count": 71,
   "metadata": {},
   "outputs": [
    {
     "data": {
      "text/html": [
       "<div>\n",
       "<style scoped>\n",
       "    .dataframe tbody tr th:only-of-type {\n",
       "        vertical-align: middle;\n",
       "    }\n",
       "\n",
       "    .dataframe tbody tr th {\n",
       "        vertical-align: top;\n",
       "    }\n",
       "\n",
       "    .dataframe thead th {\n",
       "        text-align: right;\n",
       "    }\n",
       "</style>\n",
       "<table border=\"1\" class=\"dataframe\">\n",
       "  <thead>\n",
       "    <tr style=\"text-align: right;\">\n",
       "      <th></th>\n",
       "      <th>NAME</th>\n",
       "      <th>GSS_CODE</th>\n",
       "      <th>HECTARES</th>\n",
       "      <th>NONLD_AREA</th>\n",
       "      <th>LB_GSS_CD</th>\n",
       "      <th>BOROUGH</th>\n",
       "      <th>POLY_ID</th>\n",
       "      <th>geometry</th>\n",
       "      <th>wardID</th>\n",
       "    </tr>\n",
       "  </thead>\n",
       "  <tbody>\n",
       "    <tr>\n",
       "      <th>0</th>\n",
       "      <td>Chessington South</td>\n",
       "      <td>E05000405</td>\n",
       "      <td>755.173</td>\n",
       "      <td>0.0</td>\n",
       "      <td>E09000021</td>\n",
       "      <td>Kingston upon Thames</td>\n",
       "      <td>50840</td>\n",
       "      <td>POLYGON ((516401.6 160201.8, 516407.3 160210.5...</td>\n",
       "      <td>00AXGC</td>\n",
       "    </tr>\n",
       "    <tr>\n",
       "      <th>1</th>\n",
       "      <td>Tolworth and Hook Rise</td>\n",
       "      <td>E05000414</td>\n",
       "      <td>259.464</td>\n",
       "      <td>0.0</td>\n",
       "      <td>E09000021</td>\n",
       "      <td>Kingston upon Thames</td>\n",
       "      <td>117160</td>\n",
       "      <td>POLYGON ((517829.6 165447.1, 517837.1 165469.4...</td>\n",
       "      <td>00AXGM</td>\n",
       "    </tr>\n",
       "    <tr>\n",
       "      <th>2</th>\n",
       "      <td>Berrylands</td>\n",
       "      <td>E05000401</td>\n",
       "      <td>145.390</td>\n",
       "      <td>0.0</td>\n",
       "      <td>E09000021</td>\n",
       "      <td>Kingston upon Thames</td>\n",
       "      <td>50449</td>\n",
       "      <td>POLYGON ((518107.5 167303.4, 518114.3 167307.5...</td>\n",
       "      <td>00AXFY</td>\n",
       "    </tr>\n",
       "    <tr>\n",
       "      <th>3</th>\n",
       "      <td>Alexandra</td>\n",
       "      <td>E05000400</td>\n",
       "      <td>268.506</td>\n",
       "      <td>0.0</td>\n",
       "      <td>E09000021</td>\n",
       "      <td>Kingston upon Thames</td>\n",
       "      <td>50456</td>\n",
       "      <td>POLYGON ((520480 166909.8, 520490.7 166901.9, ...</td>\n",
       "      <td>00AXFX</td>\n",
       "    </tr>\n",
       "    <tr>\n",
       "      <th>4</th>\n",
       "      <td>Beverley</td>\n",
       "      <td>E05000402</td>\n",
       "      <td>187.821</td>\n",
       "      <td>0.0</td>\n",
       "      <td>E09000021</td>\n",
       "      <td>Kingston upon Thames</td>\n",
       "      <td>117161</td>\n",
       "      <td>POLYGON ((522071 168144.9, 522063.9 168144, 52...</td>\n",
       "      <td>00AXFZ</td>\n",
       "    </tr>\n",
       "  </tbody>\n",
       "</table>\n",
       "</div>"
      ],
      "text/plain": [
       "                     NAME   GSS_CODE  HECTARES  NONLD_AREA  LB_GSS_CD  \\\n",
       "0       Chessington South  E05000405   755.173         0.0  E09000021   \n",
       "1  Tolworth and Hook Rise  E05000414   259.464         0.0  E09000021   \n",
       "2              Berrylands  E05000401   145.390         0.0  E09000021   \n",
       "3               Alexandra  E05000400   268.506         0.0  E09000021   \n",
       "4                Beverley  E05000402   187.821         0.0  E09000021   \n",
       "\n",
       "                BOROUGH  POLY_ID  \\\n",
       "0  Kingston upon Thames    50840   \n",
       "1  Kingston upon Thames   117160   \n",
       "2  Kingston upon Thames    50449   \n",
       "3  Kingston upon Thames    50456   \n",
       "4  Kingston upon Thames   117161   \n",
       "\n",
       "                                            geometry  wardID  \n",
       "0  POLYGON ((516401.6 160201.8, 516407.3 160210.5...  00AXGC  \n",
       "1  POLYGON ((517829.6 165447.1, 517837.1 165469.4...  00AXGM  \n",
       "2  POLYGON ((518107.5 167303.4, 518114.3 167307.5...  00AXFY  \n",
       "3  POLYGON ((520480 166909.8, 520490.7 166901.9, ...  00AXFX  \n",
       "4  POLYGON ((522071 168144.9, 522063.9 168144, 52...  00AXFZ  "
      ]
     },
     "execution_count": 71,
     "metadata": {},
     "output_type": "execute_result"
    }
   ],
   "source": [
    "london_wards_with_old_code.head()"
   ]
  },
  {
   "cell_type": "code",
   "execution_count": 73,
   "metadata": {},
   "outputs": [
    {
     "data": {
      "text/html": [
       "<div>\n",
       "<style scoped>\n",
       "    .dataframe tbody tr th:only-of-type {\n",
       "        vertical-align: middle;\n",
       "    }\n",
       "\n",
       "    .dataframe tbody tr th {\n",
       "        vertical-align: top;\n",
       "    }\n",
       "\n",
       "    .dataframe thead th {\n",
       "        text-align: right;\n",
       "    }\n",
       "</style>\n",
       "<table border=\"1\" class=\"dataframe\">\n",
       "  <thead>\n",
       "    <tr style=\"text-align: right;\">\n",
       "      <th></th>\n",
       "      <th>geometry</th>\n",
       "      <th>wardID</th>\n",
       "    </tr>\n",
       "  </thead>\n",
       "  <tbody>\n",
       "    <tr>\n",
       "      <th>0</th>\n",
       "      <td>POLYGON ((516401.6 160201.8, 516407.3 160210.5...</td>\n",
       "      <td>00AXGC</td>\n",
       "    </tr>\n",
       "    <tr>\n",
       "      <th>1</th>\n",
       "      <td>POLYGON ((517829.6 165447.1, 517837.1 165469.4...</td>\n",
       "      <td>00AXGM</td>\n",
       "    </tr>\n",
       "    <tr>\n",
       "      <th>2</th>\n",
       "      <td>POLYGON ((518107.5 167303.4, 518114.3 167307.5...</td>\n",
       "      <td>00AXFY</td>\n",
       "    </tr>\n",
       "    <tr>\n",
       "      <th>3</th>\n",
       "      <td>POLYGON ((520480 166909.8, 520490.7 166901.9, ...</td>\n",
       "      <td>00AXFX</td>\n",
       "    </tr>\n",
       "    <tr>\n",
       "      <th>4</th>\n",
       "      <td>POLYGON ((522071 168144.9, 522063.9 168144, 52...</td>\n",
       "      <td>00AXFZ</td>\n",
       "    </tr>\n",
       "  </tbody>\n",
       "</table>\n",
       "</div>"
      ],
      "text/plain": [
       "                                            geometry  wardID\n",
       "0  POLYGON ((516401.6 160201.8, 516407.3 160210.5...  00AXGC\n",
       "1  POLYGON ((517829.6 165447.1, 517837.1 165469.4...  00AXGM\n",
       "2  POLYGON ((518107.5 167303.4, 518114.3 167307.5...  00AXFY\n",
       "3  POLYGON ((520480 166909.8, 520490.7 166901.9, ...  00AXFX\n",
       "4  POLYGON ((522071 168144.9, 522063.9 168144, 52...  00AXFZ"
      ]
     },
     "execution_count": 73,
     "metadata": {},
     "output_type": "execute_result"
    }
   ],
   "source": [
    "london_wards_with_old_code[['geometry','wardID']].head()"
   ]
  },
  {
   "cell_type": "code",
   "execution_count": 74,
   "metadata": {},
   "outputs": [],
   "source": [
    "data_days_wards = []\n",
    "for day in range(1,366):\n",
    "    for ward in london_wards_with_old_code['wardID']:\n",
    "        data_days_wards.append([day,ward])\n",
    "        \n",
    "days_vs_wards = pd.DataFrame(data=data_days_wards, columns=['day_of_year','wardID'])\n"
   ]
  },
  {
   "cell_type": "code",
   "execution_count": 75,
   "metadata": {},
   "outputs": [
    {
     "data": {
      "text/html": [
       "<div>\n",
       "<style scoped>\n",
       "    .dataframe tbody tr th:only-of-type {\n",
       "        vertical-align: middle;\n",
       "    }\n",
       "\n",
       "    .dataframe tbody tr th {\n",
       "        vertical-align: top;\n",
       "    }\n",
       "\n",
       "    .dataframe thead th {\n",
       "        text-align: right;\n",
       "    }\n",
       "</style>\n",
       "<table border=\"1\" class=\"dataframe\">\n",
       "  <thead>\n",
       "    <tr style=\"text-align: right;\">\n",
       "      <th></th>\n",
       "      <th>day_of_year</th>\n",
       "      <th>wardID</th>\n",
       "    </tr>\n",
       "  </thead>\n",
       "  <tbody>\n",
       "    <tr>\n",
       "      <th>0</th>\n",
       "      <td>1</td>\n",
       "      <td>00AXGC</td>\n",
       "    </tr>\n",
       "    <tr>\n",
       "      <th>1</th>\n",
       "      <td>1</td>\n",
       "      <td>00AXGM</td>\n",
       "    </tr>\n",
       "    <tr>\n",
       "      <th>2</th>\n",
       "      <td>1</td>\n",
       "      <td>00AXFY</td>\n",
       "    </tr>\n",
       "    <tr>\n",
       "      <th>3</th>\n",
       "      <td>1</td>\n",
       "      <td>00AXFX</td>\n",
       "    </tr>\n",
       "    <tr>\n",
       "      <th>4</th>\n",
       "      <td>1</td>\n",
       "      <td>00AXFZ</td>\n",
       "    </tr>\n",
       "  </tbody>\n",
       "</table>\n",
       "</div>"
      ],
      "text/plain": [
       "   day_of_year  wardID\n",
       "0            1  00AXGC\n",
       "1            1  00AXGM\n",
       "2            1  00AXFY\n",
       "3            1  00AXFX\n",
       "4            1  00AXFZ"
      ]
     },
     "execution_count": 75,
     "metadata": {},
     "output_type": "execute_result"
    }
   ],
   "source": [
    "days_vs_wards.head()"
   ]
  },
  {
   "cell_type": "code",
   "execution_count": 76,
   "metadata": {},
   "outputs": [],
   "source": [
    "merge_days_vs_wards_outliers = pd.merge(days_vs_wards, outliers_per_day, on=['day_of_year','wardID'],how='left')"
   ]
  },
  {
   "cell_type": "code",
   "execution_count": 77,
   "metadata": {},
   "outputs": [
    {
     "data": {
      "text/html": [
       "<div>\n",
       "<style scoped>\n",
       "    .dataframe tbody tr th:only-of-type {\n",
       "        vertical-align: middle;\n",
       "    }\n",
       "\n",
       "    .dataframe tbody tr th {\n",
       "        vertical-align: top;\n",
       "    }\n",
       "\n",
       "    .dataframe thead th {\n",
       "        text-align: right;\n",
       "    }\n",
       "</style>\n",
       "<table border=\"1\" class=\"dataframe\">\n",
       "  <thead>\n",
       "    <tr style=\"text-align: right;\">\n",
       "      <th></th>\n",
       "      <th>day_of_year</th>\n",
       "      <th>wardID</th>\n",
       "      <th>is_outlier</th>\n",
       "    </tr>\n",
       "  </thead>\n",
       "  <tbody>\n",
       "    <tr>\n",
       "      <th>0</th>\n",
       "      <td>1</td>\n",
       "      <td>00AXGC</td>\n",
       "      <td>False</td>\n",
       "    </tr>\n",
       "    <tr>\n",
       "      <th>1</th>\n",
       "      <td>1</td>\n",
       "      <td>00AXGM</td>\n",
       "      <td>False</td>\n",
       "    </tr>\n",
       "    <tr>\n",
       "      <th>2</th>\n",
       "      <td>1</td>\n",
       "      <td>00AXFY</td>\n",
       "      <td>False</td>\n",
       "    </tr>\n",
       "    <tr>\n",
       "      <th>3</th>\n",
       "      <td>1</td>\n",
       "      <td>00AXFX</td>\n",
       "      <td>False</td>\n",
       "    </tr>\n",
       "    <tr>\n",
       "      <th>4</th>\n",
       "      <td>1</td>\n",
       "      <td>00AXFZ</td>\n",
       "      <td>False</td>\n",
       "    </tr>\n",
       "  </tbody>\n",
       "</table>\n",
       "</div>"
      ],
      "text/plain": [
       "   day_of_year  wardID  is_outlier\n",
       "0            1  00AXGC       False\n",
       "1            1  00AXGM       False\n",
       "2            1  00AXFY       False\n",
       "3            1  00AXFX       False\n",
       "4            1  00AXFZ       False"
      ]
     },
     "execution_count": 77,
     "metadata": {},
     "output_type": "execute_result"
    }
   ],
   "source": [
    "merge_days_vs_wards_outliers = merge_days_vs_wards_outliers.fillna(False)\n",
    "merge_days_vs_wards_outliers.head()"
   ]
  },
  {
   "cell_type": "code",
   "execution_count": 78,
   "metadata": {},
   "outputs": [
    {
     "name": "stderr",
     "output_type": "stream",
     "text": [
      "/anaconda3/lib/python3.7/site-packages/ipykernel_launcher.py:1: SettingWithCopyWarning: \n",
      "A value is trying to be set on a copy of a slice from a DataFrame.\n",
      "Try using .loc[row_indexer,col_indexer] = value instead\n",
      "\n",
      "See the caveats in the documentation: http://pandas.pydata.org/pandas-docs/stable/indexing.html#indexing-view-versus-copy\n",
      "  \"\"\"Entry point for launching an IPython kernel.\n"
     ]
    },
    {
     "data": {
      "text/html": [
       "<div>\n",
       "<style scoped>\n",
       "    .dataframe tbody tr th:only-of-type {\n",
       "        vertical-align: middle;\n",
       "    }\n",
       "\n",
       "    .dataframe tbody tr th {\n",
       "        vertical-align: top;\n",
       "    }\n",
       "\n",
       "    .dataframe thead th {\n",
       "        text-align: right;\n",
       "    }\n",
       "</style>\n",
       "<table border=\"1\" class=\"dataframe\">\n",
       "  <thead>\n",
       "    <tr style=\"text-align: right;\">\n",
       "      <th></th>\n",
       "      <th>day_of_year</th>\n",
       "      <th>wardID</th>\n",
       "      <th>is_outlier</th>\n",
       "    </tr>\n",
       "  </thead>\n",
       "  <tbody>\n",
       "    <tr>\n",
       "      <th>0</th>\n",
       "      <td>1</td>\n",
       "      <td>00AXGC</td>\n",
       "      <td>False</td>\n",
       "    </tr>\n",
       "    <tr>\n",
       "      <th>1</th>\n",
       "      <td>1</td>\n",
       "      <td>00AXGM</td>\n",
       "      <td>False</td>\n",
       "    </tr>\n",
       "    <tr>\n",
       "      <th>2</th>\n",
       "      <td>1</td>\n",
       "      <td>00AXFY</td>\n",
       "      <td>False</td>\n",
       "    </tr>\n",
       "    <tr>\n",
       "      <th>3</th>\n",
       "      <td>1</td>\n",
       "      <td>00AXFX</td>\n",
       "      <td>False</td>\n",
       "    </tr>\n",
       "    <tr>\n",
       "      <th>4</th>\n",
       "      <td>1</td>\n",
       "      <td>00AXFZ</td>\n",
       "      <td>False</td>\n",
       "    </tr>\n",
       "  </tbody>\n",
       "</table>\n",
       "</div>"
      ],
      "text/plain": [
       "   day_of_year  wardID  is_outlier\n",
       "0            1  00AXGC       False\n",
       "1            1  00AXGM       False\n",
       "2            1  00AXFY       False\n",
       "3            1  00AXFX       False\n",
       "4            1  00AXFZ       False"
      ]
     },
     "execution_count": 78,
     "metadata": {},
     "output_type": "execute_result"
    }
   ],
   "source": [
    "merge_days_vs_wards_outliers.head()['date'] = pd.to_datetime(2018 * 1000 + merge_days_vs_wards_outliers['day_of_year'], format='%Y%j').dt.date\n",
    "merge_days_vs_wards_outliers.head()"
   ]
  },
  {
   "cell_type": "code",
   "execution_count": null,
   "metadata": {},
   "outputs": [],
   "source": [
    "# Create a plot for each day of the year showing the outliers for that day\n",
    "for day in range(1,366) :\n",
    "    day_pattern = merge_days_vs_wards_outliers[merge_days_vs_wards_outliers['day_of_year'] == day]\n",
    "    merge_day_pattern_and_geometry = pd.merge(day_pattern,london_wards_with_old_code[['geometry','wardID']], on='wardID',how='left')\n",
    "    merge_day_pattern_and_geometry = gpd.GeoDataFrame(merge_day_pattern_and_geometry)\n",
    "\n",
    "    image_title = datetime.strftime(datetime.strptime(str(merge_day_pattern_and_geometry['date'].iloc[0]), \"%Y-%m-%d\"),\"%d %B %Y\")\n",
    "    image_file_path = \"outputs/outliers_per_day/day_\" + str(day) + \".png\"\n",
    "    \n",
    "    fig, ax = plt.subplots(1)\n",
    "    merge_day_pattern_and_geometry.plot(column='is_outlier', ax=ax)\n",
    "    ax.axis('off')\n",
    "    fig.suptitle(image_title)\n",
    "    plt.savefig(image_file_path)\n",
    "    plt.close(fig)\n",
    "    "
   ]
  }
 ],
 "metadata": {
  "kernelspec": {
   "display_name": "Python 3",
   "language": "python",
   "name": "python3"
  },
  "language_info": {
   "codemirror_mode": {
    "name": "ipython",
    "version": 3
   },
   "file_extension": ".py",
   "mimetype": "text/x-python",
   "name": "python",
   "nbconvert_exporter": "python",
   "pygments_lexer": "ipython3",
   "version": "3.7.0"
  }
 },
 "nbformat": 4,
 "nbformat_minor": 2
}
