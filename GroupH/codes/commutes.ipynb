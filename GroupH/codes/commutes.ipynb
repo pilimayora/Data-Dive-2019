{
 "cells": [
  {
   "cell_type": "code",
   "execution_count": null,
   "metadata": {},
   "outputs": [],
   "source": [
    "import pandas as pd\n",
    "\n",
    "wloc = pd.read_csv(\"Workforce data/workplace location table.csv\")\n",
    "staff = pd.read_csv(\"Workforce data/LAS_Staff_in_Post_070319.csv\")\n",
    "\n",
    "# Merge workplace and staff dataframes, append 'AA' to every staff postcode sector \n",
    "df = pd.merge(staff, wloc, left_on = \"Location\", right_on = \"esrLocationFull\")\n",
    "df = df[['PostcodeSector', 'postcode']]\n",
    "df.columns = ['home', 'work']\n",
    "df['home'] = df['home'] + 'AA'\n",
    "df.head()"
   ]
  },
  {
   "cell_type": "code",
   "execution_count": null,
   "metadata": {},
   "outputs": [],
   "source": [
    "from geopy.geocoders import Nominatim\n",
    "from geopy.exc import GeocoderTimedOut\n",
    "from geopy.extra.rate_limiter import RateLimiter\n",
    "\n",
    "# Translate staff postcodes to longitude and latitude\n",
    "geolocator = Nominatim(user_agent=\"GoogleV3\")\n",
    "\n",
    "dt = df\n",
    "geocode = RateLimiter(geolocator.geocode, min_delay_seconds = 1)\n",
    "dt['location'] = df['home'].apply(geocode)\n",
    "\n",
    "dt['point'] = dt['location'].apply(lambda loc: tuple(loc.point) if loc else None)\n",
    "dt.drop(dt.columns[[3]], axis=1, inplace=True)\n",
    "dt.dropna(axis = 0, inplace = True)\n",
    "\n",
    "dt['index'] = range(1, len(dt) + 1)"
   ]
  },
  {
   "cell_type": "code",
   "execution_count": null,
   "metadata": {},
   "outputs": [],
   "source": [
    "# Join with the same data from work places (see other Jupyter notebook)\n",
    "temp = pd.read_pickle(\"work.pkl\")\n",
    "work_pc = pd.concat([wloc, temp], axis=1, join_axes=[wloc.index])\n",
    "work_pc.drop(work_pc.columns[[0, 1, 3, 4]], axis=1, inplace=True)\n",
    "\n",
    "df2 = pd.merge(dt, work_pc, left_on = 'work', right_on = 'postcode', how = 'inner')\n",
    "df2 = df2.drop_duplicates(['index'])\n",
    "\n",
    "df2['index'] = range(len(df2))\n",
    "df2 = df2.set_index(['index'])"
   ]
  },
  {
   "cell_type": "code",
   "execution_count": null,
   "metadata": {},
   "outputs": [],
   "source": [
    "# Drop faulty values, i.e. locations outside in Africa, etc.\n",
    "for i in range(len(df2)):\n",
    "    if not (-5 < df2['location'][i].longitude < 5):\n",
    "        df2 = df2.drop([i], axis = 0)\n",
    "\n",
    "df2['index'] = range(len(df2))\n",
    "df2 = df2.set_index(['index'])"
   ]
  },
  {
   "cell_type": "code",
   "execution_count": null,
   "metadata": {},
   "outputs": [],
   "source": [
    "import openrouteservice as ors\n",
    "\n",
    "# Calculate commute durations from home to work place for every employee using openrouteservice (car commute)\n",
    "df2.dropna(axis = 0, inplace = True)\n",
    "\n",
    "client = ors.Client(key='enter_your_openrouteservice_api_key_here')\n",
    "duration = []\n",
    "\n",
    "for i in range(5004, len(df2)):\n",
    "    coordinates = ((df2['location'][i].longitude, df2['location'][i].latitude), df2['Point'][i])\n",
    "\n",
    "    \n",
    "    duration.append(round(ors.distance_matrix.distance_matrix(client, coordinates, sources = [0],\n",
    "                                                              destinations = [1])['durations'][0][0] / 60, 2))\n",
    "\n",
    "df2['duration'] = duration\n",
    "df2.groupby(['work']).mean()\n",
    "wdur = df2.groupby(['work']).mean()"
   ]
  },
  {
   "cell_type": "code",
   "execution_count": null,
   "metadata": {},
   "outputs": [],
   "source": [
    "# Change a faulty postcode\n",
    "df2[\"work\"] = df2[\"work\"].str.replace(\"SW1 4AT\", \"SW1P 4AT\") \n",
    "rep = df2[df2.work == 'SW1P 4AT']\n",
    "rep['Point'] = rep['work'].apply(geocode)\n",
    "\n",
    "rep['index'] = range(len(rep))\n",
    "rep = rep.set_index(['index'])"
   ]
  },
  {
   "cell_type": "code",
   "execution_count": null,
   "metadata": {},
   "outputs": [],
   "source": [
    "# New distance matrix calculation for fault postcode\n",
    "durrep = []\n",
    "\n",
    "for i in range(len(rep)):\n",
    "    coordinates = ((rep['location'][i].longitude, rep['location'][i].latitude),\n",
    "                   (rep['Point'][i].longitude, rep['Point'][i].latitude))\n",
    "\n",
    "    \n",
    "    durrep.append(round(ors.distance_matrix.distance_matrix(client, coordinates, sources = [0],\n",
    "                                                              destinations = [1])['durations'][0][0] / 60, 2))"
   ]
  },
  {
   "cell_type": "code",
   "execution_count": null,
   "metadata": {},
   "outputs": [],
   "source": [
    "from statistics import mean\n",
    "\n",
    "wdur.iloc[69].duration = mean(durrep)"
   ]
  },
  {
   "cell_type": "code",
   "execution_count": null,
   "metadata": {},
   "outputs": [],
   "source": [
    "# Following, drop other faulty postcode, merge all dataframes and pivot table to create a mean commute time of all employees\n",
    "# by location and a sum of full time employees (FTE) by location\n",
    "wdur = wdur.drop(['BR5'])\n",
    "wdur.index.name = 'postcode'\n",
    "wdur.reset_index(inplace=True)\n",
    "\n",
    "wdur = pd.merge(wloc, wdur, on = \"postcode\")\n",
    "wdur = wdur.drop_duplicates(['postcode'])\n",
    "\n",
    "wfte = staff.groupby(['Location']).sum()\n",
    "\n",
    "wfte.index.name = 'esrLocationFull'\n",
    "wfte.reset_index(inplace=True)\n",
    "wfte = wfte[['esrLocationFull','FTE']]"
   ]
  },
  {
   "cell_type": "code",
   "execution_count": null,
   "metadata": {},
   "outputs": [],
   "source": [
    "wfte = pd.merge(wloc, wfte, on = \"esrLocationFull\")\n",
    "wfte = wfte.groupby(['postcode']).sum()\n",
    "wfte.index.name = 'postcode'\n",
    "wfte.reset_index(inplace=True)\n",
    "wfte = wfte[['postcode','FTE']]\n",
    "\n",
    "wdur = pd.merge(wdur, wfte, on = \"postcode\")"
   ]
  },
  {
   "cell_type": "code",
   "execution_count": null,
   "metadata": {},
   "outputs": [],
   "source": [
    "temp = pd.merge(wdur, work_pc, on = \"postcode\", how = \"inner\")\n",
    "\n",
    "temp = temp.drop_duplicates(['postcode'])\n",
    "temp['index'] = range(len(temp))\n",
    "temp = temp.set_index(['index'])"
   ]
  },
  {
   "cell_type": "code",
   "execution_count": null,
   "metadata": {},
   "outputs": [],
   "source": [
    "lat = []\n",
    "long = []\n",
    "\n",
    "for i in range(len(temp.Point)):\n",
    "    lat.append(temp.Point[i][0])\n",
    "    long.append(temp.Point[i][1])\n",
    "\n",
    "temp['lat'] = lat\n",
    "temp['long'] = long"
   ]
  }
 ],
 "metadata": {
  "kernelspec": {
   "display_name": "Python 3",
   "language": "python",
   "name": "python3"
  },
  "language_info": {
   "codemirror_mode": {
    "name": "ipython",
    "version": 3
   },
   "file_extension": ".py",
   "mimetype": "text/x-python",
   "name": "python",
   "nbconvert_exporter": "python",
   "pygments_lexer": "ipython3",
   "version": "3.6.8"
  }
 },
 "nbformat": 4,
 "nbformat_minor": 2
}
