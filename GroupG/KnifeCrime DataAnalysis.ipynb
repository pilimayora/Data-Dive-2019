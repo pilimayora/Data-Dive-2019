{
 "cells": [
  {
   "cell_type": "code",
   "execution_count": null,
   "metadata": {},
   "outputs": [],
   "source": [
    "import pandas as pd\n",
    "import scipy as sc\n",
    "import matplotlib.pyplot as plt\n",
    "import numpy as np\n"
   ]
  },
  {
   "cell_type": "code",
   "execution_count": null,
   "metadata": {},
   "outputs": [],
   "source": [
    "#Read in Knife Data\n",
    "KnifeData = pd.read_csv(\"/Users/MedoYounes/Desktop/CUSP London Data Dive 2019/data/Knife crime data/WardLevelKnifeCrime.csv\")\n",
    "KnifeData.head()"
   ]
  },
  {
   "cell_type": "code",
   "execution_count": null,
   "metadata": {},
   "outputs": [],
   "source": [
    "KnifeData = KnifeData.rename(columns={'Date - Daily Data': 'Date', 'Borough Name': 'Borough'}, inplace = False)\n",
    "KnifeData['Date'] = pd.to_datetime(KnifeData['Date'])\n",
    "\n",
    "\n",
    " #KnifeData.groupby(['Borough Name', 'Date']).sum()\n",
    "BoroughAgg = KnifeData.groupby(['Borough', \"Borough Code\"],as_index = True).resample('M', on = 'Date').sum()\n",
    "\n",
    "\n",
    "BoroughAgg"
   ]
  },
  {
   "cell_type": "code",
   "execution_count": null,
   "metadata": {},
   "outputs": [],
   "source": [
    "BoroughAgg.to_csv('BoroughAgg.csv')"
   ]
  },
  {
   "cell_type": "code",
   "execution_count": null,
   "metadata": {},
   "outputs": [],
   "source": [
    "WardAgg = KnifeData.groupby(['Ward Name', 'Ward Code'], as_index = True).resample('M', on = \"Date\").sum()\n",
    "\n",
    "WardAgg"
   ]
  },
  {
   "cell_type": "code",
   "execution_count": null,
   "metadata": {},
   "outputs": [],
   "source": [
    "WardAgg.to_csv('WardAgg.csv')"
   ]
  },
  {
   "cell_type": "code",
   "execution_count": null,
   "metadata": {},
   "outputs": [],
   "source": [
    "BoroughAgg = pd.read_csv('BoroughAgg.csv')\n",
    "WardAgg = pd.read_csv('WardAgg.csv')\n",
    "WardAgg"
   ]
  },
  {
   "cell_type": "code",
   "execution_count": null,
   "metadata": {},
   "outputs": [],
   "source": [
    "WardAgg['Knife_Total'] = WardAgg.iloc[:, -7:-1].sum(axis=1)\n",
    "WardAgg\n",
    "WardAgg.to_csv('WardAgg_Monthly.csv')"
   ]
  },
  {
   "cell_type": "code",
   "execution_count": null,
   "metadata": {},
   "outputs": [],
   "source": [
    "#Combining Daily Knife Crime Columns into one \n",
    "Daily_Knife_Gun = KnifeData.groupby(['Ward Name', 'Ward Code'], as_index = True).resample('D', on = 'Date').sum()\n",
    "Daily_Knife_Gun.to_csv('Daily_Knife_Gun.csv')\n",
    "DailyKnife = pd.read_csv('Daily_Knife_Gun.csv')"
   ]
  },
  {
   "cell_type": "code",
   "execution_count": null,
   "metadata": {},
   "outputs": [],
   "source": [
    "DailyKnife['Knife_Total'] = DailyKnife.iloc[:,-8:-2].sum(axis = 1)\n",
    "DailyKnife.to_csv('Daily_Knife_Gun.csv')"
   ]
  },
  {
   "cell_type": "code",
   "execution_count": null,
   "metadata": {},
   "outputs": [],
   "source": [
    "#DailyKnife = DailyKnife.set_index('Ward Code')\n",
    "DailyKnife"
   ]
  },
  {
   "cell_type": "code",
   "execution_count": null,
   "metadata": {},
   "outputs": [],
   "source": [
    "plt.style.use('seaborn-darkgrid')\n",
    "palette = plt.get_cmap('Set1')\n",
    "\n",
    "\n",
    "\n",
    "DailyKnife.loc['E05000026'].plot(x = 'Date', y = 'Knife_Total')\n",
    "plt.ylabel('Total Knife Crimes')\n",
    "plt.xlabel('Time - Daily')\n",
    "plt.title('Abbey')"
   ]
  },
  {
   "cell_type": "code",
   "execution_count": null,
   "metadata": {},
   "outputs": [],
   "source": [
    "DailyKnife['Ward Name'] = "
   ]
  },
  {
   "cell_type": "code",
   "execution_count": null,
   "metadata": {},
   "outputs": [],
   "source": [
    "for i in WardCodes:\n",
    "    \n",
    "    for j in WardNames:\n",
    "    \n",
    "        DailyKnife.loc[i].plot(x = 'Date', y = 'Knife_Total')\n",
    "        plt.ylabel('Total Knife Crimes')\n",
    "        plt.xlabel('Time - Daily')\n",
    "        plt.title(j)"
   ]
  },
  {
   "cell_type": "code",
   "execution_count": null,
   "metadata": {},
   "outputs": [],
   "source": [
    "#Generating Line PLots of Daily Knife Crimes Throughout the Wards\n",
    "#Get Unique List of Ward Codes and Names to iterate through for line plots \n",
    "WardNames = DailyKnife['Ward Name'].unique()\n",
    "\n",
    "\n",
    "WardCodes = WardAgg['Ward Code'].unique()\n",
    "WardNames"
   ]
  },
  {
   "cell_type": "code",
   "execution_count": null,
   "metadata": {},
   "outputs": [],
   "source": [
    "#Combining Ward Population with Knife Crimes\n",
    "\n",
    "WardProf = pd.read_csv('/Users/MedoYounes/Desktop/CUSP London Data Dive 2019/data/Knife crime data/Ward_Profile.csv')\n",
    "WardProf.rename(columns = {'New code':'Ward Code'}, inplace = True)\n",
    "WardProf.set_index('Ward Code')\n",
    "\n",
    "#pd.to_numeric(WardProf['Population'])\n",
    "WardProf"
   ]
  },
  {
   "cell_type": "code",
   "execution_count": null,
   "metadata": {},
   "outputs": [],
   "source": [
    "WardAnnual = KnifeData.groupby(['Ward Name', 'Ward Code', 'Borough']).resample('Y', on = 'Date').sum()\n",
    "\n",
    "WardAnnual.to_csv(\"WardAnnual.csv\")\n",
    "#WardAnnual = pd.read_csv(\"WardAnnual.csv\")\n",
    "WardAnnual"
   ]
  },
  {
   "cell_type": "code",
   "execution_count": null,
   "metadata": {},
   "outputs": [],
   "source": [
    "WardAnnual['Knife_Total'] = WardAnnual.iloc[:,-8:-2].sum(axis = 1)\n",
    "WardAnnual"
   ]
  },
  {
   "cell_type": "code",
   "execution_count": null,
   "metadata": {},
   "outputs": [],
   "source": [
    "WardPopAnn = WardAnnual.merge(WardProf, left_on = 'Ward Code', right_on = 'Ward Code')\n",
    "\n",
    "WardPopAnn['Population'] = WardPopAnn['Population'].apply(lambda x: int(str(x).replace(',','')))\n",
    "WardPopAnn['Knife_Person'] = (WardPopAnn['Knife_Total']/WardPopAnn['Population'])*1000\n",
    "WardPopAnn"
   ]
  },
  {
   "cell_type": "code",
   "execution_count": null,
   "metadata": {},
   "outputs": [],
   "source": [
    "KnifePerson = WardPopAnn['Knife_Person']\n",
    "Wards = WardPopAnn['Ward Name']\n",
    "plt.bar(Wards, KnifePerson)\n",
    "plt.show()"
   ]
  },
  {
   "cell_type": "code",
   "execution_count": null,
   "metadata": {},
   "outputs": [],
   "source": [
    "WardAnnCodes = WardAnnual['Ward Code'].unique()\n",
    "WardProfCodes = WardProf['Ward Code'].unique()\n",
    "\n",
    "set(WardAnnCodes) == set(WardProfCodes)"
   ]
  },
  {
   "cell_type": "code",
   "execution_count": null,
   "metadata": {},
   "outputs": [],
   "source": [
    "WardPopAnn.to_csv(\"Ward_KnifePerson.csv\")"
   ]
  },
  {
   "cell_type": "code",
   "execution_count": null,
   "metadata": {},
   "outputs": [],
   "source": []
  },
  {
   "cell_type": "code",
   "execution_count": null,
   "metadata": {},
   "outputs": [],
   "source": []
  }
 ],
 "metadata": {
  "kernelspec": {
   "display_name": "Python 3",
   "language": "python",
   "name": "python3"
  },
  "language_info": {
   "codemirror_mode": {
    "name": "ipython",
    "version": 3
   },
   "file_extension": ".py",
   "mimetype": "text/x-python",
   "name": "python",
   "nbconvert_exporter": "python",
   "pygments_lexer": "ipython3",
   "version": "3.7.1"
  }
 },
 "nbformat": 4,
 "nbformat_minor": 2
}
