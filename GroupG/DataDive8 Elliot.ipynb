{
 "cells": [
  {
   "cell_type": "markdown",
   "metadata": {},
   "source": [
    "## London Ambulance and Knife Crime\n",
    "\n",
    "There may be differneces between when a knife crime is reported to police and whern victims of stabbing need to be treated. \n",
    "\n",
    "- Do ambulance call-outs correlate with knife crime locations and times? \n",
    "\n",
    "- Do we see the same trend in demand ( sesonal, meteorological, and temporal ) ofr ambulances an ploce?\n"
   ]
  },
  {
   "cell_type": "code",
   "execution_count": null,
   "metadata": {},
   "outputs": [],
   "source": [
    "import geopandas as gdp"
   ]
  },
  {
   "cell_type": "code",
   "execution_count": null,
   "metadata": {},
   "outputs": [],
   "source": [
    "import pandas as pd \n",
    "import seaborn as sns\n",
    "import matplotlib.pyplot as plt\n",
    "\n",
    "%matplotlib inline "
   ]
  },
  {
   "cell_type": "code",
   "execution_count": null,
   "metadata": {},
   "outputs": [],
   "source": [
    "instance1 = pd.read_csv('./data/Incidents/incidentsQ1.csv')"
   ]
  },
  {
   "cell_type": "code",
   "execution_count": null,
   "metadata": {},
   "outputs": [],
   "source": [
    "instance1.head()\n"
   ]
  },
  {
   "cell_type": "code",
   "execution_count": null,
   "metadata": {},
   "outputs": [],
   "source": [
    "sns.jointplot(ins['lat_incident'],ins['lon_incident'])"
   ]
  },
  {
   "cell_type": "code",
   "execution_count": null,
   "metadata": {},
   "outputs": [],
   "source": [
    "responce1 = pd.read_csv('./data/Responses/responsesP1(Jan-Feb).csv')"
   ]
  },
  {
   "cell_type": "code",
   "execution_count": null,
   "metadata": {},
   "outputs": [],
   "source": [
    "#responce1.head()"
   ]
  },
  {
   "cell_type": "code",
   "execution_count": null,
   "metadata": {},
   "outputs": [],
   "source": [
    "ins = pd.read_csv('./data/incidenttot_stab.csv')"
   ]
  },
  {
   "cell_type": "code",
   "execution_count": null,
   "metadata": {},
   "outputs": [],
   "source": [
    "ins.head(1)"
   ]
  },
  {
   "cell_type": "code",
   "execution_count": null,
   "metadata": {},
   "outputs": [],
   "source": [
    "import dateutil.parser\n",
    "def calHrs(time):\n",
    "    a = dateutil.parser.parse(time)\n",
    "    return int(a.strftime(\"%H\"))\n",
    "def calWeek(time):\n",
    "    a = dateutil.parser.parse(time)\n",
    "    return str(a.strftime(\"%a\"))\n",
    "def calWeekD(time):\n",
    "    a = dateutil.parser.parse(time)\n",
    "    return int(a.strftime(\"%u\"))\n",
    "def calMon(time):\n",
    "    a = dateutil.parser.parse(time)\n",
    "    return int(a.strftime(\"%m\"))\n",
    "def calYear(time):\n",
    "    a = dateutil.parser.parse(time)\n",
    "    return int(a.strftime(\"%G\"))"
   ]
  },
  {
   "cell_type": "code",
   "execution_count": null,
   "metadata": {},
   "outputs": [],
   "source": [
    "print(ins['callstart'][1])\n",
    "a = dateutil.parser.parse(ins['callstart'][1])\n",
    "print(a.strftime(\"%a\"))"
   ]
  },
  {
   "cell_type": "code",
   "execution_count": null,
   "metadata": {},
   "outputs": [],
   "source": [
    "ins['Hrs'] = ins.apply(lambda x: calHrs(x['callstart']), axis=1)\n",
    "ins['Week'] = ins.apply(lambda x: calWeek(x['callstart']), axis=1)\n",
    "ins['Mon'] = ins.apply(lambda x: calMon(x['callstart']), axis=1)\n",
    "ins['Year'] = ins.apply(lambda x: calYear(x['callstart']), axis=1)\n",
    "ins[' '] = ins.apply(lambda x: calWeekD(x['callstart']), axis=1)"
   ]
  },
  {
   "cell_type": "code",
   "execution_count": null,
   "metadata": {},
   "outputs": [],
   "source": [
    "ins.head()"
   ]
  },
  {
   "cell_type": "code",
   "execution_count": null,
   "metadata": {},
   "outputs": [],
   "source": [
    "ins.columns"
   ]
  },
  {
   "cell_type": "code",
   "execution_count": null,
   "metadata": {},
   "outputs": [],
   "source": [
    "#ins.chiefcomplai\n",
    "int(ins.callstart[1][:4]) == 2018\n",
    "#ins.to_csv('instance_date.csv')"
   ]
  },
  {
   "cell_type": "code",
   "execution_count": null,
   "metadata": {},
   "outputs": [],
   "source": [
    "ins2018 = ins[ins['Year'] == 2018]\n",
    "#ins2018"
   ]
  },
  {
   "cell_type": "code",
   "execution_count": null,
   "metadata": {},
   "outputs": [],
   "source": [
    "ins2018.to_csv('instance_date_2018_2.csv')"
   ]
  },
  {
   "cell_type": "code",
   "execution_count": null,
   "metadata": {},
   "outputs": [],
   "source": [
    "ins['Hrs'].plot.hist(bins=24, alpha=0.5)\n",
    "plt.show()"
   ]
  },
  {
   "cell_type": "code",
   "execution_count": null,
   "metadata": {},
   "outputs": [],
   "source": [
    "week = ins['Week'].value_counts()\n",
    "plt.bar(range(len(week)), week.values, alpha = 0.5)\n",
    "plt.xticks(range(len(week)), week.index.values, size='small')\n",
    "plt.show()"
   ]
  },
  {
   "cell_type": "code",
   "execution_count": null,
   "metadata": {},
   "outputs": [],
   "source": [
    "ins['Mon'].plot.hist(bins=12, alpha=0.5)\n",
    "plt.show()"
   ]
  },
  {
   "cell_type": "code",
   "execution_count": null,
   "metadata": {},
   "outputs": [],
   "source": [
    "ins['Year'].value_counts()"
   ]
  },
  {
   "cell_type": "code",
   "execution_count": null,
   "metadata": {},
   "outputs": [],
   "source": [
    "k_crime = pd.read_excel('./data/Knife crime data/Daily_ward_level_London_knifecrime_2018.xlsx',sheetname = 'Knife crime data 2018')"
   ]
  },
  {
   "cell_type": "code",
   "execution_count": null,
   "metadata": {},
   "outputs": [],
   "source": [
    "k_crime['Mon'] = k_crime.apply(lambda x: int(x['Date - Daily Data'].strftime(\"%m\")), axis=1)\n",
    "k_crime['Week'] = k_crime.apply(lambda x: str(x['Date - Daily Data'].strftime(\"%a\")), axis=1)\n",
    "k_crime['Week_d'] = k_crime.apply(lambda x: int(x['Date - Daily Data'].strftime(\"%u\")), axis=1)"
   ]
  },
  {
   "cell_type": "code",
   "execution_count": null,
   "metadata": {},
   "outputs": [],
   "source": [
    "k_crime_0 = k_crime[(k_crime.iloc[:,5] != 0 )| (k_crime.iloc[:,6] != 0) |( k_crime.iloc[:,7] != 0) |( k_crime.iloc[:,8] != 0) | (k_crime.iloc[:,9] != 0) | (k_crime.iloc[:,10] != 0) | (k_crime.iloc[:,11] != 0) ]\n"
   ]
  },
  {
   "cell_type": "code",
   "execution_count": null,
   "metadata": {},
   "outputs": [],
   "source": [
    "k_crime.head(50)"
   ]
  },
  {
   "cell_type": "code",
   "execution_count": null,
   "metadata": {},
   "outputs": [],
   "source": [
    "k_crime_0['sum'] = (k_crime.iloc[:,5]) + (k_crime.iloc[:,6]) + ( k_crime.iloc[:,7]) + ( k_crime.iloc[:,8] ) + (k_crime.iloc[:,9] ) + (k_crime.iloc[:,10] ) + (k_crime.iloc[:,11])"
   ]
  },
  {
   "cell_type": "code",
   "execution_count": null,
   "metadata": {},
   "outputs": [],
   "source": [
    "month = []\n",
    "month_count = []\n",
    "for i in range(1,13):\n",
    "    month.append(i)\n",
    "    month_count.append(sum((k_crime_0[k_crime_0['Mon']==i])['sum']))\n",
    "print(len(month_count))\n",
    "plt.plot(month, month_count)"
   ]
  },
  {
   "cell_type": "code",
   "execution_count": null,
   "metadata": {},
   "outputs": [],
   "source": [
    "month = []\n",
    "month_count = []\n",
    "for i in range(1,8):\n",
    "    month.append(i)\n",
    "    month_count.append(sum((k_crime_0[k_crime_0['Week_d']==i])['sum']))\n",
    "print(len(month_count))\n",
    "plt.plot(month, month_count)"
   ]
  },
  {
   "cell_type": "code",
   "execution_count": null,
   "metadata": {},
   "outputs": [],
   "source": [
    "ins.groupby('WeekD')['incidentid'].count().plot()"
   ]
  },
  {
   "cell_type": "code",
   "execution_count": null,
   "metadata": {},
   "outputs": [],
   "source": [
    "sns.set()\n",
    "k_crime['Mon'].plot.hist(bins=12, alpha=0.5)\n",
    "plt.show()"
   ]
  },
  {
   "cell_type": "code",
   "execution_count": null,
   "metadata": {},
   "outputs": [],
   "source": [
    "k_crime['Mon'].describe()"
   ]
  },
  {
   "cell_type": "code",
   "execution_count": null,
   "metadata": {},
   "outputs": [],
   "source": [
    "#k_crime.iloc[:,12]"
   ]
  },
  {
   "cell_type": "code",
   "execution_count": null,
   "metadata": {},
   "outputs": [],
   "source": [
    "#k_crime_0"
   ]
  },
  {
   "cell_type": "code",
   "execution_count": null,
   "metadata": {},
   "outputs": [],
   "source": [
    "sns.set()\n",
    "k_crime['Week_d'].plot.hist(bins=7, alpha=0.5)\n",
    "plt.show()"
   ]
  },
  {
   "cell_type": "code",
   "execution_count": null,
   "metadata": {},
   "outputs": [],
   "source": [
    "import os\n",
    "import geopandas as gpd\n",
    "ward = gpd.read_file(os.path.join('data','London-wards-2014','London-wards-2014_ESRI','London_Ward_CityMerged.shp'))"
   ]
  },
  {
   "cell_type": "code",
   "execution_count": null,
   "metadata": {},
   "outputs": [],
   "source": [
    "f, ax = plt.subplots(figsize = (10,10))\n",
    "ward.plot(ax =ax)\n",
    "plt.show()"
   ]
  },
  {
   "cell_type": "code",
   "execution_count": null,
   "metadata": {},
   "outputs": [],
   "source": [
    "k_crime.columns"
   ]
  },
  {
   "cell_type": "code",
   "execution_count": null,
   "metadata": {},
   "outputs": [],
   "source": [
    "crime5 = k_crime.iloc[:10,:]\n",
    "crime5.columns = ['Ward Code', 'Ward Name', 'Borough Code', 'Borough Name',\n",
    "       'Date - Daily Data', 'a', 'b',\n",
    "       'c',\n",
    "       'd',\n",
    "       'e',\n",
    "       'f',\n",
    "       'g', 'Month', 'Week', 'Week_d',\n",
    "       'Mon']"
   ]
  },
  {
   "cell_type": "code",
   "execution_count": null,
   "metadata": {},
   "outputs": [],
   "source": [
    "crime_new = pd.read_excel('./data/Knife crime data/Daily_ward_level_London_knifecrime_2018.xlsx',sheetname = 'Knife crime data 2018')\n",
    "#crime5 = crime_new[:5,:]\n"
   ]
  },
  {
   "cell_type": "code",
   "execution_count": null,
   "metadata": {},
   "outputs": [],
   "source": [
    "crime4 = []\n",
    "for i in crime_new.iterrows():\n",
    "    for t in range(1,8):\n",
    "        if i[1][(4+t)] > 0:\n",
    "            cy = i[1][:6]\n",
    "            cy[5] = t\n",
    "            cy = cy.to_frame()\n",
    "            cy = cy.T\n",
    "            crime4.append(cy)\n",
    "            #print(type(cy))\n",
    "#         for j in range(5,12):\n",
    "#             cy[j] = 0\n",
    "#         for i in range(i[1][5]):\n",
    "crime4 = pd.concat(crime4)"
   ]
  },
  {
   "cell_type": "code",
   "execution_count": null,
   "metadata": {},
   "outputs": [],
   "source": [
    "crime4.columns = ['Ward Code', 'Ward Name', 'Borough Code', 'Borough Name',\n",
    "       'Date - Daily Data', 'Knife Crime Type']"
   ]
  },
  {
   "cell_type": "code",
   "execution_count": null,
   "metadata": {},
   "outputs": [],
   "source": [
    "crime4['Month'] = crime4.apply(lambda x: int(x['Date - Daily Data'].strftime(\"%m\")), axis=1)\n",
    "crime4['Week'] = crime4.apply(lambda x: str(x['Date - Daily Data'].strftime(\"%a\")), axis=1)\n",
    "crime4['Week_digit'] = crime4.apply(lambda x: int(x['Date - Daily Data'].strftime(\"%u\")), axis=1)"
   ]
  },
  {
   "cell_type": "code",
   "execution_count": null,
   "metadata": {},
   "outputs": [],
   "source": [
    "#crime4.to_csv('KnifeCrimeFormat.csv')\n",
    "ward.columns"
   ]
  },
  {
   "cell_type": "code",
   "execution_count": null,
   "metadata": {},
   "outputs": [],
   "source": [
    "ward.columns = ['Ward Name', 'Ward Code', 'HECTARES', 'NONLD_AREA', 'LB_GSS_CD', 'Borough Name',\n",
    "       'POLY_ID', 'geometry']\n"
   ]
  },
  {
   "cell_type": "code",
   "execution_count": null,
   "metadata": {},
   "outputs": [],
   "source": [
    "count2 = crime4['Ward Code'].value_counts().to_frame()\n",
    "count2.columns = ['count']\n",
    "count2['Ward Code'] = count2.index.values\n",
    "ward4 = (crime4.iloc[:,:4]).drop_duplicates().drop(['Borough Code'], axis = 1)\n",
    "#ward4.describe()\n",
    "ward4 = ward4.merge(count2, on = 'Ward Code')"
   ]
  },
  {
   "cell_type": "code",
   "execution_count": null,
   "metadata": {},
   "outputs": [],
   "source": [
    "crime4_ward = ward.merge(ward4, on = ['Ward Name', 'Borough Name'])\n",
    "crime4_code = ward.merge(ward4, on = ['Ward Code'])"
   ]
  },
  {
   "cell_type": "code",
   "execution_count": null,
   "metadata": {},
   "outputs": [],
   "source": [
    "crime4_ward = crime4_ward.drop(columns=['Ward Code_y'])\n",
    "crime4_code = crime4_code.drop(columns=['Borough Name_y','Ward Name_y'])"
   ]
  },
  {
   "cell_type": "code",
   "execution_count": null,
   "metadata": {},
   "outputs": [],
   "source": [
    "crime4_ward.columns = ['Ward Name', 'Ward Code', 'HECTARES', 'NONLD_AREA', 'LB_GSS_CD',\n",
    "       'Borough Name', 'POLY_ID', 'geometry', 'count']\n",
    "crime4_code.columns = ['Ward Name', 'Ward Code', 'HECTARES', 'NONLD_AREA', 'LB_GSS_CD',\n",
    "       'Borough Name', 'POLY_ID', 'geometry', 'count']"
   ]
  },
  {
   "cell_type": "code",
   "execution_count": null,
   "metadata": {},
   "outputs": [],
   "source": [
    "# f, ax = plt.subplots(figsize = (12, 12))\n",
    "# ax.set_axis_off()\n",
    "# crime4_code.plot(facecolor = 'g',ax = ax)\n",
    "# crime4_ward.plot(column = 'count', cmap = 'Reds',alpha = 1, ax =ax, legend = True )\n",
    "# plt.show()"
   ]
  },
  {
   "cell_type": "code",
   "execution_count": null,
   "metadata": {},
   "outputs": [],
   "source": [
    "w1 = set(ward['POLY_ID'])\n",
    "w2 = set(crime4_ward['POLY_ID'])\n",
    "w0 = w1-w2\n",
    "len(w0)"
   ]
  },
  {
   "cell_type": "code",
   "execution_count": null,
   "metadata": {},
   "outputs": [],
   "source": [
    "missing_ward = crime4_code[crime4_code['POLY_ID'].isin(w0)]"
   ]
  },
  {
   "cell_type": "code",
   "execution_count": null,
   "metadata": {},
   "outputs": [],
   "source": [
    "#crime4_code\n",
    "len(missing_ward)"
   ]
  },
  {
   "cell_type": "code",
   "execution_count": null,
   "metadata": {},
   "outputs": [],
   "source": [
    "print(crime4_ward.columns)\n",
    "print(missing_ward.columns)"
   ]
  },
  {
   "cell_type": "code",
   "execution_count": null,
   "metadata": {},
   "outputs": [],
   "source": [
    "rdf = gpd.GeoDataFrame( pd.concat( [crime4_ward, missing_ward,], ignore_index=True) )"
   ]
  },
  {
   "cell_type": "code",
   "execution_count": null,
   "metadata": {},
   "outputs": [],
   "source": [
    "w1 = set(ward['POLY_ID'])\n",
    "w2 = set(rdf['POLY_ID'])\n",
    "w0 = w1-w2\n",
    "print(len(w0))\n",
    "missing_ward = ward[ward['POLY_ID'].isin(w0)]\n",
    "#missing_ward"
   ]
  },
  {
   "cell_type": "code",
   "execution_count": null,
   "metadata": {},
   "outputs": [],
   "source": [
    "rdf.crs = ward.crs"
   ]
  },
  {
   "cell_type": "code",
   "execution_count": null,
   "metadata": {},
   "outputs": [],
   "source": [
    "rdf.head(1)"
   ]
  },
  {
   "cell_type": "code",
   "execution_count": null,
   "metadata": {},
   "outputs": [],
   "source": [
    "from convertbng.util import convert_bng, convert_lonlat\n",
    "convert_lonlat(rdf.iloc[0,7].centroid.x,rdf.iloc[0,7].centroid.y)[0][0]\n",
    "#rdf.iloc[0,7].centroid.coords.xy"
   ]
  },
  {
   "cell_type": "code",
   "execution_count": null,
   "metadata": {},
   "outputs": [],
   "source": [
    "rdf['lon'] = rdf['geometry'].apply(lambda x: convert_lonlat(x.centroid.x,x.centroid.y)[0][0])\n",
    "rdf['lat'] = rdf['geometry'].apply(lambda x: convert_lonlat(x.centroid.x,x.centroid.y)[1][0])\n"
   ]
  },
  {
   "cell_type": "code",
   "execution_count": null,
   "metadata": {},
   "outputs": [],
   "source": [
    "rdf.head()"
   ]
  },
  {
   "cell_type": "code",
   "execution_count": null,
   "metadata": {},
   "outputs": [],
   "source": [
    "sns.jointplot(rdf['lon'],rdf['lat'], kind = 'kde')\n",
    "import warnings\n",
    "warnings.filterwarnings(action='ignore')\n",
    "plt.show()\n"
   ]
  },
  {
   "cell_type": "code",
   "execution_count": null,
   "metadata": {},
   "outputs": [],
   "source": [
    "rdf.head()"
   ]
  },
  {
   "cell_type": "code",
   "execution_count": null,
   "metadata": {},
   "outputs": [],
   "source": [
    "crime5 = crime4.merge(cor, on = ['Ward Name', 'Borough Name'], how = 'left')"
   ]
  },
  {
   "cell_type": "code",
   "execution_count": null,
   "metadata": {},
   "outputs": [],
   "source": [
    "#cor.describe()\n",
    "crime5.shape"
   ]
  },
  {
   "cell_type": "code",
   "execution_count": null,
   "metadata": {},
   "outputs": [],
   "source": [
    "sns.jointplot(crime5['lon'],crime5['lat'], kind = 'kde')\n",
    "import warnings\n",
    "warnings.filterwarnings(action='ignore')\n",
    "plt.show()"
   ]
  },
  {
   "cell_type": "code",
   "execution_count": null,
   "metadata": {},
   "outputs": [],
   "source": [
    "import folium\n",
    "from folium import plugins\n",
    "from folium.plugins import HeatMap, MarkerCluster, FastMarkerCluster\n",
    "# Ensure you're handing it floats\n",
    "crime5['lat'] = crime5['lat'].astype(float)\n",
    "crime5['lon'] = crime5['lon'].astype(float)\n",
    "\n",
    "# Filter the DF for rows, then columns, then remove NaNs\n",
    "heat_df = crime5[['lat', 'lon']]\n",
    "heat_df = heat_df.dropna(axis=0, subset=['lat','lon'])\n",
    "\n",
    "# List comprehension to make out list of lists\n",
    "heat_data = [[row['lat'],row['lon']] for index, row in heat_df.iterrows()]\n",
    "\n",
    "heatmap_map = folium.Map([51.50632, -0.1271448], zoom_start=12)\n",
    "\n",
    "# Plot it on the map\n",
    "hm=plugins.HeatMap(heat_data,blur = 43, radius = 22)\n",
    "heatmap_map.add_child(hm)\n",
    "# get the map shown below \n",
    "# if it is blank for browser reason, please save it as html file\n",
    "heatmap_map.save('crime3.html')"
   ]
  },
  {
   "cell_type": "code",
   "execution_count": null,
   "metadata": {},
   "outputs": [],
   "source": [
    "heatmap_map.save('ins.html')"
   ]
  },
  {
   "cell_type": "code",
   "execution_count": null,
   "metadata": {},
   "outputs": [],
   "source": [
    "\n",
    "# Ensure you're handing it floats\n",
    "ins['lat'] = ins['lat_incident'].astype(float)\n",
    "ins['lon'] = ins['lon_incident'].astype(float)\n",
    "\n",
    "# Filter the DF for rows, then columns, then remove NaNs\n",
    "heat_df = ins[['lat', 'lon']]\n",
    "heat_df = heat_df.dropna(axis=0, subset=['lat','lon'])\n",
    "\n",
    "# List comprehension to make out list of lists\n",
    "heat_data = [[row['lat'],row['lon']] for index, row in heat_df.iterrows()]\n",
    "\n",
    "heatmap_map = folium.Map([51.50632, -0.1271448], zoom_start=12)\n",
    "\n",
    "# Plot it on the map\n",
    "hm=plugins.HeatMap(heat_data,blur = 30, radius = 30)\n",
    "heatmap_map.add_child(hm)\n",
    "# get the map shown below \n",
    "# if it is blank for browser reason, please save it as html file\n",
    "heatmap_map.save('ins1.html')"
   ]
  },
  {
   "cell_type": "code",
   "execution_count": null,
   "metadata": {},
   "outputs": [],
   "source": [
    "sns.jointplot(ins['lat_incident'],ins['lon_incident'], kind = 'kde')\n",
    "plt.show()"
   ]
  },
  {
   "cell_type": "code",
   "execution_count": null,
   "metadata": {},
   "outputs": [],
   "source": [
    "from pyproj import Proj, transfrom \n",
    "\n",
    "inProj = Proj(init='epsg:27700')\n",
    "outProj = Proj(init = 'epsg:4326')\n"
   ]
  },
  {
   "cell_type": "code",
   "execution_count": null,
   "metadata": {},
   "outputs": [],
   "source": [
    "from IPython.core.pylabtools import figsize\n",
    "#figsize(5,5)\n",
    "sns.jointplot(ins['lat'],ins['lon'], kind = 'hex')\n",
    "plt.show()"
   ]
  },
  {
   "cell_type": "code",
   "execution_count": null,
   "metadata": {},
   "outputs": [],
   "source": [
    "# "
   ]
  },
  {
   "cell_type": "code",
   "execution_count": null,
   "metadata": {},
   "outputs": [],
   "source": []
  },
  {
   "cell_type": "code",
   "execution_count": null,
   "metadata": {},
   "outputs": [],
   "source": [
    "f, ax = plt.subplots(figsize = (12, 12))\n",
    "ax.set_axis_off()\n",
    "ward.plot(facecolor = 'g',ax = ax)\n",
    "rdf.plot(column = 'count', cmap = 'Reds',alpha = 1, ax =ax, legend = True )\n",
    "plt.show()"
   ]
  },
  {
   "cell_type": "code",
   "execution_count": null,
   "metadata": {},
   "outputs": [],
   "source": [
    "rdf.to_file('ward_c.shp')"
   ]
  },
  {
   "cell_type": "code",
   "execution_count": null,
   "metadata": {},
   "outputs": [],
   "source": [
    "ward.crs\n"
   ]
  },
  {
   "cell_type": "code",
   "execution_count": null,
   "metadata": {},
   "outputs": [],
   "source": [
    "rdf.iloc[0,:]"
   ]
  },
  {
   "cell_type": "code",
   "execution_count": null,
   "metadata": {},
   "outputs": [],
   "source": [
    "crime4_ward.head(1)"
   ]
  },
  {
   "cell_type": "code",
   "execution_count": null,
   "metadata": {},
   "outputs": [],
   "source": [
    "count = crime4_ward['Ward Code'].value_counts().to_frame()"
   ]
  },
  {
   "cell_type": "code",
   "execution_count": null,
   "metadata": {},
   "outputs": [],
   "source": [
    "count.columns = ['count']\n",
    "count['Ward Code'] = count.index.values"
   ]
  },
  {
   "cell_type": "code",
   "execution_count": null,
   "metadata": {},
   "outputs": [],
   "source": [
    "ward_count = ward.merge(count, on = '')"
   ]
  },
  {
   "cell_type": "markdown",
   "metadata": {},
   "source": [
    "## The Data of M"
   ]
  },
  {
   "cell_type": "code",
   "execution_count": null,
   "metadata": {},
   "outputs": [],
   "source": [
    "#m_crime = gpd.read_file(os.path.join('SHP_FILEs','LondonWardKnifeCrime','LondonWard_knifeCrime.shp'))\n",
    "#m_crime.head()"
   ]
  },
  {
   "cell_type": "code",
   "execution_count": null,
   "metadata": {},
   "outputs": [],
   "source": [
    "#rdf[rdf['Ward Code']=='E05000027']"
   ]
  },
  {
   "cell_type": "code",
   "execution_count": null,
   "metadata": {},
   "outputs": [],
   "source": [
    "(k_crime[k_crime['Date - Daily Data'] == '2018-04-21'])"
   ]
  },
  {
   "cell_type": "code",
   "execution_count": null,
   "metadata": {},
   "outputs": [],
   "source": [
    "import numpy as np\n",
    "a = np.matrix((k_crime[k_crime['Date - Daily Data'] == '2018-06-02']).iloc[:,5])\n",
    "print(a.sum())\n",
    "\n"
   ]
  },
  {
   "cell_type": "code",
   "execution_count": null,
   "metadata": {},
   "outputs": [],
   "source": [
    "(crime4[k_crime['Date - Daily Data'] == '2018-06-02'])['Date - Daily Data'].value_counts()"
   ]
  },
  {
   "cell_type": "markdown",
   "metadata": {},
   "source": [
    "## API"
   ]
  },
  {
   "cell_type": "code",
   "execution_count": null,
   "metadata": {},
   "outputs": [],
   "source": [
    "api_key  =  '6e61adec4399419abac2feb0cc3f616e'"
   ]
  },
  {
   "cell_type": "code",
   "execution_count": null,
   "metadata": {},
   "outputs": [],
   "source": [
    "import requests \n",
    "api_url  = \"https://newsapi.org/v2/everything/\" # base URL\n",
    "#site_url = \"val/wxobs/all/json/sitelist\" # sites API URL\n",
    "payload = {'country' : 'uk',\n",
    "           'from' : '2018-01-01',\n",
    "           'to' : '2019-01-01',\n",
    "           'category' : 'business',\n",
    "           'q': 'stabbing',\n",
    "           'apiKey': api_key,\n",
    "          } # Dictionary to hold request parameters"
   ]
  },
  {
   "cell_type": "code",
   "execution_count": null,
   "metadata": {},
   "outputs": [],
   "source": [
    "s = requests.get(api_url , params=payload)"
   ]
  },
  {
   "cell_type": "markdown",
   "metadata": {},
   "source": [
    "https://newsapi.org/v2/top-headlines?q=trump&apiKey=6e61adec4399419abac2feb0cc3f616e"
   ]
  },
  {
   "cell_type": "code",
   "execution_count": null,
   "metadata": {},
   "outputs": [],
   "source": [
    "news = s.json()\n",
    "print(\"Done\")"
   ]
  },
  {
   "cell_type": "code",
   "execution_count": null,
   "metadata": {},
   "outputs": [],
   "source": [
    "ins.head(1)\n",
    "print(ins.columns)"
   ]
  },
  {
   "cell_type": "code",
   "execution_count": null,
   "metadata": {},
   "outputs": [],
   "source": [
    "ins['description'].value_counts()"
   ]
  },
  {
   "cell_type": "code",
   "execution_count": null,
   "metadata": {},
   "outputs": [],
   "source": [
    "#crime4['Date - Daily Data'].value_counts()"
   ]
  },
  {
   "cell_type": "code",
   "execution_count": null,
   "metadata": {},
   "outputs": [],
   "source": [
    "ins.sex.value_counts()"
   ]
  },
  {
   "cell_type": "code",
   "execution_count": null,
   "metadata": {},
   "outputs": [],
   "source": []
  }
 ],
 "metadata": {
  "kernelspec": {
   "display_name": "gsa2018",
   "language": "python",
   "name": "gsa2018"
  },
  "language_info": {
   "codemirror_mode": {
    "name": "ipython",
    "version": 3
   },
   "file_extension": ".py",
   "mimetype": "text/x-python",
   "name": "python",
   "nbconvert_exporter": "python",
   "pygments_lexer": "ipython3",
   "version": "3.6.7"
  }
 },
 "nbformat": 4,
 "nbformat_minor": 2
}
