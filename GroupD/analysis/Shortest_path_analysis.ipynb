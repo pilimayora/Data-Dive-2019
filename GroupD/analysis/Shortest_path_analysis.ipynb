{
 "cells": [
  {
   "cell_type": "code",
   "execution_count": null,
   "metadata": {},
   "outputs": [],
   "source": [
    "%matplotlib inline\n",
    "%load_ext autoreload\n",
    "%autoreload 2\n",
    "from helper_func import *"
   ]
  },
  {
   "cell_type": "markdown",
   "metadata": {},
   "source": [
    "### Load Data"
   ]
  },
  {
   "cell_type": "code",
   "execution_count": null,
   "metadata": {},
   "outputs": [],
   "source": [
    "#read cleaned data\n",
    "response_pd = pd.read_csv('data/Responses/subset_data.csv')\n",
    "response_gpd = gpd.GeoDataFrame(response_pd)"
   ]
  },
  {
   "cell_type": "code",
   "execution_count": null,
   "metadata": {},
   "outputs": [],
   "source": [
    "# read london graphml File or download if not on disk\n",
    "london_network = load_london_network()"
   ]
  },
  {
   "cell_type": "markdown",
   "metadata": {},
   "source": [
    "### Reproject response data to BNG"
   ]
  },
  {
   "cell_type": "code",
   "execution_count": null,
   "metadata": {},
   "outputs": [],
   "source": [
    "response_gpd['dispatched_location'] = [Point(response['lon_activation'], response['lat_activation']) for i, response in response_gpd.iterrows()]\n",
    "response_gpd.geometry = response_gpd['dispatched_location']\n",
    "response_gpd.crs = {'init': 'epsg:4326'}\n",
    "response_gpd = response_gpd.to_crs({'init':'epsg:27700'})\n",
    "response_gpd['dispatched_location'] = response_gpd.geometry\n",
    "\n",
    "response_gpd['incident_location'] = [Point(response['lon_incident'], response['lat_incident']) for i, response in response_gpd.iterrows()]\n",
    "response_gpd.geometry = response_gpd['incident_location']\n",
    "response_gpd.crs = {'init': 'epsg:4326'}\n",
    "response_gpd = response_gpd.to_crs({'init':'epsg:27700'})\n",
    "response_gpd['incident_location'] = response_gpd.geometry"
   ]
  },
  {
   "cell_type": "code",
   "execution_count": null,
   "metadata": {},
   "outputs": [],
   "source": [
    "response_pd.drop_duplicates(['lon_activation', 'lat_activation'], keep='first').to_csv('unique_activations')"
   ]
  },
  {
   "cell_type": "markdown",
   "metadata": {},
   "source": [
    "## Save graph nodes to database"
   ]
  },
  {
   "cell_type": "code",
   "execution_count": null,
   "metadata": {},
   "outputs": [],
   "source": [
    "schema = 'public'\n",
    "table_name = 'nodes'\n",
    "host = 'localhost'\n",
    "database = 'postgres'\n",
    "user = 'postgres'\n",
    "password = 'admin'\n",
    "\n",
    "graph_nodes_to_db(london_network, schema, table_name, host, database, user, password)"
   ]
  },
  {
   "cell_type": "markdown",
   "metadata": {},
   "source": [
    "### Get shortest path between incident and dispatch"
   ]
  },
  {
   "cell_type": "code",
   "execution_count": null,
   "metadata": {},
   "outputs": [],
   "source": [
    "# Creating SQLAlchemy's engine to use\n",
    "DSN = 'postgresql://{user}:{password}@{host}:{port}/{database}'.format(\n",
    "    user = user,\n",
    "    password = password, \n",
    "    host = host,\n",
    "    database = database, \n",
    "    port = 5432\n",
    "    )\n",
    "\n",
    "#create threaded connection pool to database to make concurrent calls\n",
    "tcp = ThreadedConnectionPool(1,12,DSN)"
   ]
  },
  {
   "cell_type": "code",
   "execution_count": null,
   "metadata": {},
   "outputs": [],
   "source": [
    "## find what is already on the database\n",
    "conn = tcp.getconn()\n",
    "c = conn.cursor()\n",
    "\n",
    "#checks what activationid are already in shortest_path, is table is not in databse\n",
    "#will throw an error\n",
    "sql = \"SELECT activationid FROM shortest_path\"\n",
    "\n",
    "c.execute(sql)\n",
    "result = c.fetchall()\n",
    "tcp.putconn(conn, close=True)"
   ]
  },
  {
   "cell_type": "code",
   "execution_count": null,
   "metadata": {},
   "outputs": [],
   "source": [
    "#create list of id's already saved in shortest_path\n",
    "result_id=[]\n",
    "for res in result:\n",
    "    result_id.append(res[0])"
   ]
  },
  {
   "cell_type": "code",
   "execution_count": null,
   "metadata": {},
   "outputs": [],
   "source": [
    "#create a subset of all points not in table\n",
    "temp = response_gpd[~response_gpd.activationid.isin(result_id)]"
   ]
  },
  {
   "cell_type": "code",
   "execution_count": null,
   "metadata": {},
   "outputs": [],
   "source": [
    "#terate through each job and find shortest path, and save to database\n",
    "cnt = 0\n",
    "start_time = time.time()\n",
    "for idx, row in temp.iterrows():\n",
    "    if cnt%100 == 0:\n",
    "        print('{}: {:,.2f} seconds'.format(cnt, time.time()-start_time))\n",
    "    with ThreadPoolExecutor(max_workers=12) as pool:\n",
    "        pool.submit(get_shortest_path,  row, tcp, table_name, london_network)\n",
    "    cnt +=1"
   ]
  }
 ],
 "metadata": {
  "kernelspec": {
   "display_name": "py36",
   "language": "python",
   "name": "py36"
  },
  "language_info": {
   "codemirror_mode": {
    "name": "ipython",
    "version": 3
   },
   "file_extension": ".py",
   "mimetype": "text/x-python",
   "name": "python",
   "nbconvert_exporter": "python",
   "pygments_lexer": "ipython3",
   "version": "3.6.6"
  }
 },
 "nbformat": 4,
 "nbformat_minor": 2
}
