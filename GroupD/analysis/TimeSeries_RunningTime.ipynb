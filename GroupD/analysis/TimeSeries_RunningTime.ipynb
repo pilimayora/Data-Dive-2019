{
 "cells": [
  {
   "cell_type": "code",
   "execution_count": null,
   "metadata": {},
   "outputs": [],
   "source": [
    "##__author__ sarah june sachs @sarah_june42\n",
    "## for CUSP London Data Dive\n",
    "import pandas as pd\n",
    "import numpy as np\n",
    "import random\n",
    "pd.set_option('display.max_columns', 500)\n",
    "from datetime import datetime\n",
    "import matplotlib \n",
    "import pylab as plt\n",
    "%pylab inline"
   ]
  },
  {
   "cell_type": "markdown",
   "metadata": {},
   "source": [
    "running variable, mobilization\n",
    "\n",
    "response\tTime taken for vehicle to respond\n",
    "\n",
    "mobilisation\tTime taken for vehicle to become mobile\n",
    "\n",
    "running\tTime taken \"running\" or travelling to the scene of the incident\n"
   ]
  },
  {
   "cell_type": "code",
   "execution_count": null,
   "metadata": {},
   "outputs": [],
   "source": [
    "%mkdir plots"
   ]
  },
  {
   "cell_type": "code",
   "execution_count": null,
   "metadata": {},
   "outputs": [],
   "source": [
    "clean = pd.read_csv(\"data.csv\")"
   ]
  },
  {
   "cell_type": "code",
   "execution_count": null,
   "metadata": {},
   "outputs": [],
   "source": [
    "clean.shape"
   ]
  },
  {
   "cell_type": "code",
   "execution_count": null,
   "metadata": {},
   "outputs": [],
   "source": [
    "clean.columns"
   ]
  },
  {
   "cell_type": "code",
   "execution_count": null,
   "metadata": {},
   "outputs": [],
   "source": [
    "# Make travel Distance Speed Time Formula - distance/time\n",
    "clean['travelDist'] = clean['distance_to_scene']/clean['running']"
   ]
  },
  {
   "cell_type": "code",
   "execution_count": null,
   "metadata": {},
   "outputs": [],
   "source": [
    "clean.dispatchtypegroup.describe()"
   ]
  },
  {
   "cell_type": "code",
   "execution_count": null,
   "metadata": {},
   "outputs": [],
   "source": [
    "clean.dispatchtypegroup.unique()"
   ]
  },
  {
   "cell_type": "code",
   "execution_count": null,
   "metadata": {},
   "outputs": [],
   "source": [
    "sum(clean.dispatchtypegroup=='normal')"
   ]
  },
  {
   "cell_type": "code",
   "execution_count": null,
   "metadata": {},
   "outputs": [],
   "source": [
    "sum(clean.dispatchtypegroup=='auto')"
   ]
  },
  {
   "cell_type": "markdown",
   "metadata": {},
   "source": [
    "# Exploratory Analysis\n",
    "Look at mobilisation and running time for different categories and dispatch type"
   ]
  },
  {
   "cell_type": "code",
   "execution_count": null,
   "metadata": {},
   "outputs": [],
   "source": [
    "mf1 = clean.groupby(['dohcategory']).mean()[[\"mobilisation\"]].reset_index()"
   ]
  },
  {
   "cell_type": "code",
   "execution_count": null,
   "metadata": {},
   "outputs": [],
   "source": [
    "mf2 = clean.groupby(['dohcategory']).count()[[\"mobilisation\"]]"
   ]
  },
  {
   "cell_type": "code",
   "execution_count": null,
   "metadata": {},
   "outputs": [],
   "source": [
    "mobCat = pd.merge(mf1,mf2,on='dohcategory').rename(columns={'mobilisation_x':'Time','mobilisation_y':'Count'})"
   ]
  },
  {
   "cell_type": "code",
   "execution_count": null,
   "metadata": {},
   "outputs": [],
   "source": [
    "mobCat.Time.plot(kind='bar')\n",
    "plt.title('Average Mobilisation Time')\n",
    "plt.xticks(arange(5), mobCat['dohcategory'].unique(),rotation=390)\n",
    "plt.xlabel('Category Type')\n",
    "plt.ylabel('Time (seconds)')"
   ]
  },
  {
   "cell_type": "code",
   "execution_count": null,
   "metadata": {},
   "outputs": [],
   "source": [
    "mobCat.Count.plot(kind='bar')\n",
    "plt.title('Number of Incidents by Category')\n",
    "plt.xticks(arange(5), mobCat['dohcategory'].unique(),rotation=390)\n",
    "plt.xlabel('Category Type')\n",
    "plt.ylabel('Incident Count')"
   ]
  },
  {
   "cell_type": "code",
   "execution_count": null,
   "metadata": {},
   "outputs": [],
   "source": [
    "rf1 = clean.groupby(['dohcategory']).mean()[[\"running\"]].reset_index()\n"
   ]
  },
  {
   "cell_type": "code",
   "execution_count": null,
   "metadata": {},
   "outputs": [],
   "source": [
    "rf2 = clean.groupby(['dohcategory']).count()[[\"running\"]]"
   ]
  },
  {
   "cell_type": "code",
   "execution_count": null,
   "metadata": {},
   "outputs": [],
   "source": [
    "runCat = pd.merge(rf1,rf2,on='dohcategory').rename(columns={'running_x':'Time','running_y':'Count'})"
   ]
  },
  {
   "cell_type": "code",
   "execution_count": null,
   "metadata": {},
   "outputs": [],
   "source": [
    "runCat.Time.plot(kind='bar')\n",
    "plt.title('Average Running Time')\n",
    "plt.xticks(arange(5), runCat['dohcategory'].unique(),rotation=390)\n",
    "plt.xlabel('Category Type')\n",
    "plt.ylabel('Time (seconds)')"
   ]
  },
  {
   "cell_type": "code",
   "execution_count": null,
   "metadata": {},
   "outputs": [],
   "source": [
    "runCat.Count.plot(kind='bar')\n",
    "plt.title('Number of Incidents by Category')\n",
    "plt.xticks(arange(5), runCat['dohcategory'].unique(),rotation=390)\n",
    "plt.xlabel('Category Type')\n",
    "plt.ylabel('Incident Count')"
   ]
  },
  {
   "cell_type": "markdown",
   "metadata": {},
   "source": [
    "### Looking at dispatch type"
   ]
  },
  {
   "cell_type": "code",
   "execution_count": null,
   "metadata": {},
   "outputs": [],
   "source": [
    "disCat = clean.groupby(['dohcategory','dispatchtypegroup'])[[\"running\"]].mean()"
   ]
  },
  {
   "cell_type": "code",
   "execution_count": null,
   "metadata": {},
   "outputs": [],
   "source": [
    "disCat['running'] = disCat['running']/60"
   ]
  },
  {
   "cell_type": "code",
   "execution_count": null,
   "metadata": {},
   "outputs": [],
   "source": [
    "disCat.plot(kind='bar')"
   ]
  },
  {
   "cell_type": "code",
   "execution_count": null,
   "metadata": {},
   "outputs": [],
   "source": [
    "disMobCat = clean.groupby(['dohcategory','dispatchtypegroup'])[[\"mobilisation\"]].mean()"
   ]
  },
  {
   "cell_type": "code",
   "execution_count": null,
   "metadata": {},
   "outputs": [],
   "source": [
    "disMobCat['mobilisation'] = disMobCat['mobilisation']/60"
   ]
  },
  {
   "cell_type": "code",
   "execution_count": null,
   "metadata": {},
   "outputs": [],
   "source": [
    "disMobCat.plot(kind='bar')"
   ]
  },
  {
   "cell_type": "markdown",
   "metadata": {},
   "source": [
    "Time between dispatch and arrivedatscene?"
   ]
  },
  {
   "cell_type": "code",
   "execution_count": null,
   "metadata": {},
   "outputs": [],
   "source": [
    "clean['dispatch'] =  pd.to_datetime(clean['dispatch'], format=\"%Y-%m-%d %H:%M:%S.%f\")\n",
    "clean['arrivedatscene'] =  pd.to_datetime(clean['arrivedatscene'], format=\"%Y-%m-%d %H:%M:%S.%f\")"
   ]
  },
  {
   "cell_type": "code",
   "execution_count": null,
   "metadata": {},
   "outputs": [],
   "source": [
    "clean['timetoscene'] = clean['arrivedatscene'] - clean['dispatch']"
   ]
  },
  {
   "cell_type": "code",
   "execution_count": null,
   "metadata": {},
   "outputs": [],
   "source": [
    "clean['timetoscene'] = clean['timetoscene'].apply(lambda x: x.seconds)"
   ]
  },
  {
   "cell_type": "code",
   "execution_count": null,
   "metadata": {},
   "outputs": [],
   "source": [
    "clean.groupby(['dohcategory','dispatchtypegroup'])[['timetoscene']].mean().plot(kind=\"bar\")"
   ]
  },
  {
   "cell_type": "code",
   "execution_count": null,
   "metadata": {},
   "outputs": [],
   "source": [
    "#disCat.plot(kind='bar')"
   ]
  },
  {
   "cell_type": "markdown",
   "metadata": {},
   "source": [
    "# Time Series \n",
    "\n",
    "## By Month\n",
    "\n",
    "First assign date to each incident, create variable for each unit of time "
   ]
  },
  {
   "cell_type": "markdown",
   "metadata": {},
   "source": [
    "We use callstart as the time closest to incident occuring. Day of week starts on Monday as 0, sunday is 6"
   ]
  },
  {
   "cell_type": "code",
   "execution_count": null,
   "metadata": {},
   "outputs": [],
   "source": [
    "clean['date'] =  pd.to_datetime(clean['callstart'], format=\"%Y-%m-%d %H:%M:%S.%f\")\n",
    "clean[\"dow\"] = clean[\"date\"].dt.dayofweek\n",
    "clean['year'] = pd.DatetimeIndex(clean['date']).year\n",
    "clean['month'] = pd.DatetimeIndex(clean['date']).month\n",
    "clean['day'] = pd.DatetimeIndex(clean['date']).day\n",
    "clean['hour'] = pd.DatetimeIndex(clean['date']).hour"
   ]
  },
  {
   "cell_type": "code",
   "execution_count": null,
   "metadata": {},
   "outputs": [],
   "source": [
    "monthGr = clean.groupby(['month','dow','hour']).mean()"
   ]
  },
  {
   "cell_type": "markdown",
   "metadata": {},
   "source": [
    "### First aggregate for all incident categories"
   ]
  },
  {
   "cell_type": "code",
   "execution_count": null,
   "metadata": {},
   "outputs": [],
   "source": [
    "months = [\"January\",\"February\",\"March\",\"April\",\n",
    "                      \"May\",\"June\",\"July\",\"August\",\"September\",\"October\",\"November\",\"December\"]\n",
    "for i in range(12):\n",
    "    monthGr.groupby(['month']).get_group(i+1)[['running']].plot()\n",
    "    plt.title(months[i])\n",
    "    plt.xticks(np.arange(0,24*7,24),\n",
    "               ('Monday','Tuesday','Wednesday','Thursday','Friday','Saturday','Sunday'),rotation='70')\n",
    "    plt.ylabel('Running Time (seconds)')\n"
   ]
  },
  {
   "cell_type": "code",
   "execution_count": null,
   "metadata": {
    "scrolled": false
   },
   "outputs": [],
   "source": [
    "fig, ax = plt.subplots(figsize=(15,7))\n",
    "for i in range(12):\n",
    "    monthGr.groupby(['month']).get_group(i+1)[['running']].plot(ax=ax)\n",
    "    ax.legend(labels=(\"January\",\"February\",\"March\",\"April\",\n",
    "                      \"May\",\"June\",\"July\",\"August\",\"September\",\"October\",\"November\",\"December\"),ncol=2)\n",
    "    ax.tick_params(axis='y', which='major', labelsize=15)\n",
    "    ax.set_xticks(np.arange(0, 24*7,24))\n",
    "    ax.set_xticklabels(['Monday','Tuesday','Wednesday','Thursday','Friday','Saturday','Sunday'],\n",
    "                       fontsize=15, rotation=30)\n",
    "    ax.set_ylabel('Running Time (seconds)',fontsize=20)\n",
    "    ax.set_xlabel('Day of Week',fontsize=20)\n",
    "    ax.set_title('Average Running Time Per Month', fontsize=25)\n",
    "    fig.savefig('plots/avgMonth')\n"
   ]
  },
  {
   "cell_type": "markdown",
   "metadata": {},
   "source": [
    "## Break Down by Category"
   ]
  },
  {
   "cell_type": "code",
   "execution_count": null,
   "metadata": {},
   "outputs": [],
   "source": [
    "catGr = clean.groupby(['dohcategory','month','dow','hour'])[['running','travelDist']].mean()"
   ]
  },
  {
   "cell_type": "code",
   "execution_count": null,
   "metadata": {
    "scrolled": true
   },
   "outputs": [],
   "source": [
    "catGr.head()"
   ]
  },
  {
   "cell_type": "code",
   "execution_count": null,
   "metadata": {},
   "outputs": [],
   "source": [
    "clean.dohcategory.unique()"
   ]
  },
  {
   "cell_type": "code",
   "execution_count": null,
   "metadata": {},
   "outputs": [],
   "source": [
    "cat_list = [ 'C1 ','C2 ', 'C3 ', 'C4 ', 'C5 ']"
   ]
  },
  {
   "cell_type": "markdown",
   "metadata": {},
   "source": [
    "### Understand missing days in our subset\n",
    "\n",
    "It will cause problems when graphing time series when there are days without any response time."
   ]
  },
  {
   "cell_type": "code",
   "execution_count": null,
   "metadata": {},
   "outputs": [],
   "source": [
    "# Full category will have this many values present\n",
    "24*7*12"
   ]
  },
  {
   "cell_type": "code",
   "execution_count": null,
   "metadata": {},
   "outputs": [],
   "source": [
    "for i in range(5):\n",
    "    print(len(catGr.groupby(['dohcategory']).get_group((cat_list[i]))[['running']]))"
   ]
  },
  {
   "cell_type": "code",
   "execution_count": null,
   "metadata": {},
   "outputs": [],
   "source": [
    "# Use cat2 as our empty framework to duplicate\n",
    "empty = catGr.groupby(['dohcategory']).get_group(('C2 '))[['running','travelDist']]; empty.head()"
   ]
  },
  {
   "cell_type": "code",
   "execution_count": null,
   "metadata": {},
   "outputs": [],
   "source": [
    "len(empty)"
   ]
  },
  {
   "cell_type": "code",
   "execution_count": null,
   "metadata": {},
   "outputs": [],
   "source": [
    "empty['running'] = empty['running'].apply(lambda x: np.nan)\n",
    "empty['travelDist'] = empty['travelDist'].apply(lambda x: np.nan)"
   ]
  },
  {
   "cell_type": "code",
   "execution_count": null,
   "metadata": {},
   "outputs": [],
   "source": [
    "empty.head()"
   ]
  },
  {
   "cell_type": "markdown",
   "metadata": {},
   "source": [
    "# Concatenate for 5 categories\n",
    "\n",
    "Should have 24*7*12*5"
   ]
  },
  {
   "cell_type": "code",
   "execution_count": null,
   "metadata": {},
   "outputs": [],
   "source": [
    "(24*7*12)*5"
   ]
  },
  {
   "cell_type": "code",
   "execution_count": null,
   "metadata": {},
   "outputs": [],
   "source": [
    "len(empty)"
   ]
  },
  {
   "cell_type": "code",
   "execution_count": null,
   "metadata": {},
   "outputs": [],
   "source": [
    "empty.tail()"
   ]
  },
  {
   "cell_type": "code",
   "execution_count": null,
   "metadata": {},
   "outputs": [],
   "source": [
    "empty1 = empty.copy()\n",
    "empty3 = empty.copy()\n",
    "empty4 = empty.copy()\n",
    "empty5 = empty.copy()"
   ]
  },
  {
   "cell_type": "code",
   "execution_count": null,
   "metadata": {},
   "outputs": [],
   "source": [
    "empty1.index.set_levels([u'C2 ', u'C1 '],level=0,inplace=True)\n",
    "empty3.index.set_levels([u'C2 ', u'C3 '],level=0,inplace=True)\n",
    "empty4.index.set_levels([u'C2 ', u'C4 '],level=0,inplace=True)\n",
    "empty5.index.set_levels([u'C2 ', u'C5 '],level=0,inplace=True)"
   ]
  },
  {
   "cell_type": "code",
   "execution_count": null,
   "metadata": {},
   "outputs": [],
   "source": [
    "empty5.tail()"
   ]
  },
  {
   "cell_type": "code",
   "execution_count": null,
   "metadata": {},
   "outputs": [],
   "source": [
    "empty_full = pd.concat([empty1,empty,empty3,empty4,empty5])"
   ]
  },
  {
   "cell_type": "code",
   "execution_count": null,
   "metadata": {},
   "outputs": [],
   "source": [
    "len(empty_full)"
   ]
  },
  {
   "cell_type": "code",
   "execution_count": null,
   "metadata": {},
   "outputs": [],
   "source": [
    "empty_full.head()"
   ]
  },
  {
   "cell_type": "code",
   "execution_count": null,
   "metadata": {},
   "outputs": [],
   "source": [
    "# Join with full dataset "
   ]
  },
  {
   "cell_type": "code",
   "execution_count": null,
   "metadata": {},
   "outputs": [],
   "source": [
    "cat_full = catGr.copy()"
   ]
  },
  {
   "cell_type": "code",
   "execution_count": null,
   "metadata": {},
   "outputs": [],
   "source": [
    "cat_full.index.names"
   ]
  },
  {
   "cell_type": "code",
   "execution_count": null,
   "metadata": {},
   "outputs": [],
   "source": [
    "empty_full.index.names"
   ]
  },
  {
   "cell_type": "code",
   "execution_count": null,
   "metadata": {},
   "outputs": [],
   "source": [
    "catGr = empty_full.reset_index().join(cat_full,\n",
    "                            on=['dohcategory','month','dow','hour'],how='outer',\n",
    "                            lsuffix='_left', rsuffix='_right').set_index(cat_full.index.names) \\\n",
    "                            .drop(columns = ['running_left','travelDist_left']).rename(\\\n",
    "                            {'running_right':'running','travelDist_right':'travelDist'}, axis='columns')\n",
    "\n",
    "\n",
    "\n"
   ]
  },
  {
   "cell_type": "code",
   "execution_count": null,
   "metadata": {},
   "outputs": [],
   "source": [
    "catGr.head()"
   ]
  },
  {
   "cell_type": "code",
   "execution_count": null,
   "metadata": {},
   "outputs": [],
   "source": [
    "len(catGr)"
   ]
  },
  {
   "cell_type": "code",
   "execution_count": null,
   "metadata": {},
   "outputs": [],
   "source": [
    "fig, ax = plt.subplots(figsize=(15,7))\n",
    "catGr.groupby(['dohcategory','month']).get_group(('C1 ',1))[['running']].plot(ax=ax)\n",
    "ax.legend(labels=(\"January\",\"February\",\"March\",\"April\",\n",
    "                      \"May\",\"June\",\"July\",\"August\",\"September\",\"October\",\"November\",\"December\"))\n",
    "ax.set_xticks(np.arange(0, 24*7,24))\n",
    "ax.set_xticklabels(['Monday','Tuesday','Wednesday','Thursday','Friday','Saturday','Sunday'])\n",
    "ax.set_ylabel('Running Time (seconds)')\n",
    "ax.set_xlabel('Day of Week')\n",
    "ax.set_title('Average Running Time Per Month For Category 1')"
   ]
  },
  {
   "cell_type": "code",
   "execution_count": null,
   "metadata": {},
   "outputs": [],
   "source": [
    "fig, ax = plt.subplots(figsize=(15,7))\n",
    "for i in range(12):\n",
    "    catGr.groupby(['dohcategory','month']).get_group(('C1 ',i+1))[['running']].plot(ax=ax,legend=False)\n",
    "   \n",
    "    ax.set_xticks(np.arange(0, 24*7,24))\n",
    "    ax.tick_params(axis='y', which='major', labelsize=30)\n",
    "    ax.set_xticklabels(['Monday','Tuesday','Wednesday','Thursday','Friday','Saturday','Sunday'],\n",
    "                       fontsize=15,rotation=30)\n",
    "    ax.get_xaxis().set_visible(False)\n",
    "    ax.set_xlabel('Day of Week',fontsize=20)\n",
    "    ax.set_ylim(0, 1300)\n",
    "    fig.savefig('plots/cat1',bbox_inches='tight')\n",
    "    \n",
    "   "
   ]
  },
  {
   "cell_type": "code",
   "execution_count": null,
   "metadata": {},
   "outputs": [],
   "source": [
    "fig, ax = plt.subplots(figsize=(15,7))\n",
    "for i in range(12):\n",
    "    catGr.groupby(['dohcategory','month']).get_group(('C2 ',i+1))[['running']].plot(ax=ax,legend=False)\n",
    "    ax.set_xticks(np.arange(0, 24*7,24))\n",
    "    ax.tick_params(axis='y', which='major', labelsize=30)\n",
    "    ax.set_xticklabels(['Monday','Tuesday','Wednesday','Thursday','Friday','Saturday','Sunday'],\n",
    "                       fontsize=15,rotation=30)\n",
    "    #ax.set_ylabel('Running Time (seconds)',fontsize=20)\n",
    "    ax.get_xaxis().set_visible(False)\n",
    "    ax.set_ylim(0, 1300)\n",
    "    fig.savefig('plots/cat2',bbox_inches='tight')"
   ]
  },
  {
   "cell_type": "code",
   "execution_count": null,
   "metadata": {},
   "outputs": [],
   "source": [
    "fig, ax = plt.subplots(figsize=(15,7))\n",
    "for i in range(12):\n",
    "    catGr.groupby(['dohcategory','month']).get_group(('C3 ',i+1))[['running']].plot(ax=ax,legend=False)\n",
    "\n",
    "    ax.set_xticks(np.arange(0, 24*7,24))\n",
    "    ax.tick_params(axis='y', which='major', labelsize=30)\n",
    "    ax.set_xticklabels(['Monday','Tuesday','Wednesday','Thursday','Friday','Saturday','Sunday'],\n",
    "                       fontsize=30,rotation=30)\n",
    "  #  ax.set_ylabel('Running Time (seconds)',fontsize=30)\n",
    "    ax.set_xlabel('Day of Week',fontsize=40)\n",
    "    ax.set_ylim(0, 1300)\n",
    "    fig.savefig('plots/cat3$',bbox_inches='tight')"
   ]
  },
  {
   "cell_type": "code",
   "execution_count": null,
   "metadata": {},
   "outputs": [],
   "source": [
    "fig, ax = plt.subplots(figsize=(15,7))\n",
    "for i in range(12):\n",
    "    catGr.groupby(['dohcategory','month']).get_group(('C4 ',i+1))[['running']].plot(ax=ax)\n",
    "    ax.legend(labels=(\"January\",\"February\",\"March\",\"April\",\n",
    "                      \"May\",\"June\",\"July\",\"August\",\"September\",\"October\",\"November\",\"December\"),ncol=2)\n",
    "    ax.set_xticks(np.arange(0, 24*7,24))\n",
    "    ax.tick_params(axis='y', which='major', labelsize=15)\n",
    "    ax.set_xticklabels(['Monday','Tuesday','Wednesday','Thursday','Friday','Saturday','Sunday'],\n",
    "                       fontsize=15,rotation=30)\n",
    "    ax.set_ylabel('Running Time (seconds)',fontsize=20)\n",
    "    ax.set_xlabel('Day of Week',fontsize=20)\n",
    "    ax.set_ylim(0, 12000)\n",
    "    ax.set_title('Category 4 Average Running Time by Day',fontsize=30)\n",
    "    fig.savefig('plots/cat4')"
   ]
  },
  {
   "cell_type": "code",
   "execution_count": null,
   "metadata": {},
   "outputs": [],
   "source": [
    "fig, ax = plt.subplots(figsize=(15,7))\n",
    "for i in range(12):\n",
    "    catGr.groupby(['dohcategory','month']).get_group(('C5 ',i+1))[['running']].plot(ax=ax)\n",
    "    ax.legend(labels=(\"January\",\"February\",\"March\",\"April\",\n",
    "                      \"May\",\"June\",\"July\",\"August\",\"September\",\"October\",\"November\",\"December\"),ncol=2)\n",
    "    ax.set_xticks(np.arange(0, 24*7,24))\n",
    "    ax.tick_params(axis='y', which='major', labelsize=15)\n",
    "    ax.set_xticklabels(['Monday','Tuesday','Wednesday','Thursday','Friday','Saturday','Sunday'],\n",
    "                       fontsize=15,rotation=30)\n",
    "    ax.set_ylabel('Running Time (seconds)',fontsize=20)\n",
    "    ax.set_xlabel('Day of Week',fontsize=20)\n",
    "    ax.set_ylim(0, 12000)\n",
    "    ax.set_title('Category 5 Average Running Time by Day',fontsize=30)\n",
    "    fig.savefig('plots/cat5')"
   ]
  },
  {
   "cell_type": "markdown",
   "metadata": {},
   "source": [
    "# Month Averaged"
   ]
  },
  {
   "cell_type": "code",
   "execution_count": null,
   "metadata": {},
   "outputs": [],
   "source": [
    "avg = catGr.groupby(['dow','hour']).mean()"
   ]
  },
  {
   "cell_type": "code",
   "execution_count": null,
   "metadata": {},
   "outputs": [],
   "source": [
    "avg.head()"
   ]
  },
  {
   "cell_type": "code",
   "execution_count": null,
   "metadata": {},
   "outputs": [],
   "source": [
    "week = ['Monday','Tuesday','Wednesday','Thursday','Friday','Saturday','Sunday']\n",
    "all_day = []\n",
    "for i in range(0,7):\n",
    "   # avg['running'].plot()\n",
    "    all_day.append(avg.loc[i][['running']])\n",
    "\n",
    "    avg.loc[i][['running']].plot()\n",
    "    plt.ylabel('Running Time (seconds)')\n",
    "    plt.ylim(400, 1000)\n",
    "    plt.title(week[i])\n",
    "    \n"
   ]
  },
  {
   "cell_type": "code",
   "execution_count": null,
   "metadata": {},
   "outputs": [],
   "source": [
    "vals1 = []\n",
    "for i in range(7):\n",
    "    vals1.append(all_day[i]['running'].values)\n",
    "    "
   ]
  },
  {
   "cell_type": "code",
   "execution_count": null,
   "metadata": {},
   "outputs": [],
   "source": [
    "plt.subplots(figsize=(15,7))\n",
    "plt.plot(np.concatenate(vals1))\n",
    "locs, labels = xticks() \n",
    "plt.xticks(np.arange(0, 24*7, 24),\n",
    "           ('Monday','Tuesday','Wednesday','Thursday','Friday','Saturday','Sunday'),rotation='60',fontsize=20)\n",
    "plt.tick_params(axis='y', which='major', labelsize=15)\n",
    "plt.ylabel('Running Time (seconds)',fontsize=20)\n",
    "plt.title('Average Running Time Per Day of Week',fontsize=30)\n",
    "plt.savefig('plots/avgWeek')"
   ]
  },
  {
   "cell_type": "markdown",
   "metadata": {},
   "source": [
    "## By Category"
   ]
  },
  {
   "cell_type": "code",
   "execution_count": null,
   "metadata": {},
   "outputs": [],
   "source": [
    "avgCat = catGr.groupby(['dohcategory','dow','hour']).mean()"
   ]
  },
  {
   "cell_type": "code",
   "execution_count": null,
   "metadata": {},
   "outputs": [],
   "source": [
    "avgCat.tail()"
   ]
  },
  {
   "cell_type": "code",
   "execution_count": null,
   "metadata": {},
   "outputs": [],
   "source": [
    "fig, ax = plt.subplots(figsize=(15,7))\n",
    "avgCat.groupby(['dohcategory','dow']).get_group(('C1 ',5))[['running']].plot(ax=ax)\n",
    "avgCat.groupby(['dohcategory','dow']).get_group(('C2 ',5))[['running']].plot(ax=ax)\n",
    "avgCat.groupby(['dohcategory','dow']).get_group(('C3 ',5))[['running']].plot(ax=ax)\n",
    "#avgCat.groupby(['dohcategory','dow']).get_group(('C4 ',0))[['running']].plot(ax=ax)\n",
    "#avgCat.groupby(['dohcategory','dow']).get_group(('C5 ',0))[['running']].plot(ax=ax)\n",
    "ax.tick_params(which='major', labelsize=20)\n",
    "ax.set_xticks(np.arange(0, 24, 1))\n",
    "ax.set_xticklabels(range(0,24))\n",
    "#ax.set_ylim(0, 1300)\n",
    "ax.set_ylabel('Running Time (seconds)',fontsize=30)\n",
    "ax.legend(cat_list,prop={'size': 20})\n",
    "ax.set_xlabel('Hour of Day',fontsize=30)\n",
    "ax.set_title('Average Running Time per Hour',fontsize=30)\n",
    "fig.savefig(\"plots/avgCat\")"
   ]
  },
  {
   "cell_type": "code",
   "execution_count": null,
   "metadata": {},
   "outputs": [],
   "source": [
    "fig, ax = plt.subplots(figsize=(15,7))\n",
    "avgCat.groupby(['dohcategory','dow']).get_group(('C1 ',4))[['running']].plot(ax=ax)\n",
    "avgCat.groupby(['dohcategory','dow']).get_group(('C2 ',4))[['running']].plot(ax=ax)\n",
    "avgCat.groupby(['dohcategory','dow']).get_group(('C3 ',4))[['running']].plot(ax=ax)\n",
    "#avgCat.groupby(['dohcategory','dow']).get_group(('C4 ',0))[['running']].plot(ax=ax)\n",
    "#avgCat.groupby(['dohcategory','dow']).get_group(('C5 ',0))[['running']].plot(ax=ax)\n",
    "ax.tick_params(which='major', labelsize=20)\n",
    "ax.set_xticks(np.arange(0, 24, 1))\n",
    "ax.set_xticklabels(range(0,24))\n",
    "#ax.set_ylim(0, 1300)\n",
    "ax.set_ylabel('Running Time (seconds)',fontsize=30)\n",
    "ax.legend(cat_list,prop={'size': 20})\n",
    "ax.set_xlabel('Hour of Day',fontsize=30)\n",
    "ax.set_title('Average Running Time per Hour',fontsize=30)\n",
    "fig.savefig(\"plots/avgCat\")"
   ]
  },
  {
   "cell_type": "code",
   "execution_count": null,
   "metadata": {},
   "outputs": [],
   "source": [
    "avgCat.head()"
   ]
  },
  {
   "cell_type": "code",
   "execution_count": null,
   "metadata": {},
   "outputs": [],
   "source": [
    "24*7"
   ]
  },
  {
   "cell_type": "code",
   "execution_count": null,
   "metadata": {},
   "outputs": [],
   "source": [
    "len(avgCat.groupby(['dohcategory']).get_group(('C1 '))[['running']].values)"
   ]
  },
  {
   "cell_type": "code",
   "execution_count": null,
   "metadata": {},
   "outputs": [],
   "source": [
    "plt.subplots(figsize=(15,7))\n",
    "plt.plot(avgCat.groupby(['dohcategory']).get_group(('C1 '))[['running']].values)\n",
    "plt.plot(avgCat.groupby(['dohcategory']).get_group(('C2 '))[['running']].values)\n",
    "plt.plot(avgCat.groupby(['dohcategory']).get_group(('C3 '))[['running']].values)\n",
    "\n",
    "locs, labels = xticks() \n",
    "plt.tick_params(which='major', labelsize=20)\n",
    "plt.legend(cat_list,prop={'size': 15})\n",
    "plt.xticks(np.arange(0, 24*7, 24),\n",
    "           ('Monday','Tuesday','Wednesday','Thursday','Friday','Saturday','Sunday'),rotation='60',fontsize=20)\n",
    "plt.title('Weekly Average Running Time ',fontsize=30)\n",
    "#plt.ylabel('Running Time (seconds)',fontsize=20)\n",
    "\n",
    "plt.xlabel('Hours per Day',fontsize=30)\n",
    "plt.savefig(\"plots/avg3Cat\",bbox_inches='tight')"
   ]
  },
  {
   "cell_type": "code",
   "execution_count": null,
   "metadata": {},
   "outputs": [],
   "source": [
    "# Divide time by distance"
   ]
  },
  {
   "cell_type": "code",
   "execution_count": null,
   "metadata": {},
   "outputs": [],
   "source": [
    "avgCat = catGr.groupby(['dohcategory','dow','hour']).mean()"
   ]
  },
  {
   "cell_type": "code",
   "execution_count": null,
   "metadata": {},
   "outputs": [],
   "source": [
    "avgCat.head()"
   ]
  },
  {
   "cell_type": "code",
   "execution_count": null,
   "metadata": {},
   "outputs": [],
   "source": [
    "plt.subplots(figsize=(15,7))\n",
    "plt.plot(avgCat.groupby(['dohcategory']).get_group(('C1 '))[['travelDist']].values)\n",
    "plt.plot(avgCat.groupby(['dohcategory']).get_group(('C2 '))[['travelDist']].values)\n",
    "plt.plot(avgCat.groupby(['dohcategory']).get_group(('C3 '))[['travelDist']].values)\n",
    "\n",
    "locs, labels = xticks() \n",
    "plt.legend(cat_list)\n",
    "plt.xticks(np.arange(0, 24*7, 24),\n",
    "           ('Monday','Tuesday','Wednesday','Thursday','Friday','Saturday','Sunday'),rotation='60')\n",
    "plt.ylabel('Speed m/s')\n",
    "plt.title('Category Average travelDist Time Per Day of Week')"
   ]
  },
  {
   "cell_type": "markdown",
   "metadata": {},
   "source": [
    "# 1: Event Detection"
   ]
  },
  {
   "cell_type": "markdown",
   "metadata": {},
   "source": [
    "### Lets turn data into matrix so we can perform fourier transformation"
   ]
  },
  {
   "cell_type": "code",
   "execution_count": null,
   "metadata": {},
   "outputs": [],
   "source": [
    "catGr.head()"
   ]
  },
  {
   "cell_type": "code",
   "execution_count": null,
   "metadata": {},
   "outputs": [],
   "source": [
    "# Average all hours for each day"
   ]
  },
  {
   "cell_type": "code",
   "execution_count": null,
   "metadata": {},
   "outputs": [],
   "source": [
    "catGr.running.unstack().values[:, :, np.newaxis].shape"
   ]
  },
  {
   "cell_type": "code",
   "execution_count": null,
   "metadata": {},
   "outputs": [],
   "source": [
    "84*5"
   ]
  },
  {
   "cell_type": "code",
   "execution_count": null,
   "metadata": {},
   "outputs": [],
   "source": [
    "C1 = catGr.groupby(['dohcategory']).get_group(('C1 ')).running.unstack().values[:, :, np.newaxis]"
   ]
  },
  {
   "cell_type": "code",
   "execution_count": null,
   "metadata": {},
   "outputs": [],
   "source": [
    "C1 = C1.astype('float')\n",
    "C1[C1 == -1] = np.nan"
   ]
  },
  {
   "cell_type": "code",
   "execution_count": null,
   "metadata": {},
   "outputs": [],
   "source": [
    "C1.shape"
   ]
  },
  {
   "cell_type": "code",
   "execution_count": null,
   "metadata": {},
   "outputs": [],
   "source": [
    "84/7"
   ]
  },
  {
   "cell_type": "code",
   "execution_count": null,
   "metadata": {},
   "outputs": [],
   "source": [
    "print (\"Category 1 array shape summed over all months:\", np.nansum(C1,axis=1).shape)"
   ]
  },
  {
   "cell_type": "code",
   "execution_count": null,
   "metadata": {},
   "outputs": [],
   "source": [
    "N = C1.shape[0]"
   ]
  },
  {
   "cell_type": "code",
   "execution_count": null,
   "metadata": {},
   "outputs": [],
   "source": [
    "N"
   ]
  },
  {
   "cell_type": "code",
   "execution_count": null,
   "metadata": {},
   "outputs": [],
   "source": [
    "?pd.date_range"
   ]
  },
  {
   "cell_type": "code",
   "execution_count": null,
   "metadata": {},
   "outputs": [],
   "source": [
    "import pylab as pl\n",
    "#plot all swipes\n",
    "pl.figure(figsize=(15,10))\n",
    "onesig = np.std(C2)\n",
    "tsthresh = np.nanmean(C2)  - 3 * onesig\n",
    "print (\"3 sigma threshold %.1f\"%tsthresh)\n",
    "print (\"outlier index\", np.where(C2 < tsthresh))\n",
    "#print (\"outlier date\", rng[np.where(mta_allsum < tsthresh)])\n",
    "pl.fill_between(d, np.nanmean(C3) - onesig,\n",
    "                np.nanmean(C3) + onesig, alpha=0.5)\n",
    "pl.fill_between(d, np.nanmean(C3) - 3 * onesig,\n",
    "                 np.nanmean(C3) + 3 * onesig, alpha = 0.2)\n",
    "#pl.fill_between(weighted +threesigma(weighted , 10), weighted -threesigma(weighted \n",
    "pl.plot(d, C3, 'k-')\n",
    "pl.xticks(rotation = 75, fontsize=20)\n",
    "pl.ylabel(\"total swipes\", fontsize=20)  ;"
   ]
  },
  {
   "cell_type": "code",
   "execution_count": null,
   "metadata": {},
   "outputs": [],
   "source": [
    "fr = []\n",
    "print(len(C1[1])/2)\n",
    "pl.figure(figsize=(12,5))\n",
    "for i in range(len(C1)):\n",
    "    fr.append(np.square((np.fft.rfft(runArray[i]).real)))\n",
    "    pl.plot(fr[:])\n",
    "    pl.xlim(xmax=52)\n",
    "    pl.xlabel(\"Week Number Frequency\")\n",
    "    pl.title (\"Power Spectrum of Subway Time Series\")\n",
    "    pl.ylabel(\"Power\")"
   ]
  },
  {
   "cell_type": "code",
   "execution_count": null,
   "metadata": {},
   "outputs": [],
   "source": [
    "catGr.head()"
   ]
  },
  {
   "cell_type": "code",
   "execution_count": null,
   "metadata": {},
   "outputs": [],
   "source": [
    "Nd=len(C1[1])"
   ]
  },
  {
   "cell_type": "code",
   "execution_count": null,
   "metadata": {},
   "outputs": [],
   "source": [
    "C1[0]"
   ]
  },
  {
   "cell_type": "code",
   "execution_count": null,
   "metadata": {},
   "outputs": [],
   "source": [
    "fig=pl.figure(figsize=(15,5))\n",
    "ax=fig.add_subplot(111)\n",
    "for i in range(len(C1)):\n",
    "    f = np.abs(np.fft.rfft(C1[i]))**2\n",
    "    ax.plot(np.fft.rfftfreq(Nd, 1.0), (f), 'o', ms=10)\n",
    "    ax.plot(np.fft.rfftfreq(Nd, 1.0), (f), '-')\n",
    "    ax.set_xticklabels([ \"%.2f\"%(1/f) for f in ax.get_xticks()], fontsize=20)\n",
    "pl.ylabel(\"power\", fontsize=20)\n",
    "pl.xlabel(\"Frequency (week)\", fontsize=20);"
   ]
  },
  {
   "cell_type": "code",
   "execution_count": null,
   "metadata": {},
   "outputs": [],
   "source": [
    "fig=pl.figure(figsize=(15,5))\n",
    "ax=fig.add_subplot(111)\n",
    "for i in range(len(runArray)):\n",
    "    f = np.abs(np.fft.rfft(runArray[i]))**2\n",
    "    ax.plot(np.fft.rfftfreq(Nd, 1.0), (f), 'o', ms=10)\n",
    "    ax.plot(np.fft.rfftfreq(Nd, 1.0), (f), '-')\n",
    "    ax.set_xticklabels([ \"%.2f\"%(1/f) for f in ax.get_xticks()], fontsize=20)\n",
    "pl.ylabel(\"power\", fontsize=20)\n",
    "pl.xlabel(\"Frequency (week)\", fontsize=20);"
   ]
  }
 ],
 "metadata": {
  "kernelspec": {
   "display_name": "Python 3",
   "language": "python",
   "name": "python3"
  },
  "language_info": {
   "codemirror_mode": {
    "name": "ipython",
    "version": 3
   },
   "file_extension": ".py",
   "mimetype": "text/x-python",
   "name": "python",
   "nbconvert_exporter": "python",
   "pygments_lexer": "ipython3",
   "version": "3.6.8"
  }
 },
 "nbformat": 4,
 "nbformat_minor": 2
}
